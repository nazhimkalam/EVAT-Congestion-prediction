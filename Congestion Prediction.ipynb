{
 "cells": [
  {
   "cell_type": "markdown",
   "id": "01ab600e-3908-45db-ad6e-c52b617e59e5",
   "metadata": {},
   "source": [
    "## 🔧 Part 1: Environment Setup"
   ]
  },
  {
   "cell_type": "code",
   "execution_count": 1,
   "id": "a9f8a6a1-f568-45f0-9a74-5ce0a0d5a015",
   "metadata": {},
   "outputs": [
    {
     "name": "stdout",
     "output_type": "stream",
     "text": [
      "Requirement already satisfied: pandas in /Users/nazhimkalam/.pyenv/versions/3.10.13/envs/evat_env_py310/lib/python3.10/site-packages (2.3.1)\n",
      "Requirement already satisfied: numpy in /Users/nazhimkalam/.pyenv/versions/3.10.13/envs/evat_env_py310/lib/python3.10/site-packages (2.1.3)\n",
      "Requirement already satisfied: matplotlib in /Users/nazhimkalam/.pyenv/versions/3.10.13/envs/evat_env_py310/lib/python3.10/site-packages (3.10.3)\n",
      "Requirement already satisfied: seaborn in /Users/nazhimkalam/.pyenv/versions/3.10.13/envs/evat_env_py310/lib/python3.10/site-packages (0.13.2)\n",
      "Requirement already satisfied: scikit-learn in /Users/nazhimkalam/.pyenv/versions/3.10.13/envs/evat_env_py310/lib/python3.10/site-packages (1.7.1)\n",
      "Requirement already satisfied: tensorflow in /Users/nazhimkalam/.pyenv/versions/3.10.13/envs/evat_env_py310/lib/python3.10/site-packages (2.19.0)\n",
      "Requirement already satisfied: tzdata>=2022.7 in /Users/nazhimkalam/.pyenv/versions/3.10.13/envs/evat_env_py310/lib/python3.10/site-packages (from pandas) (2025.2)\n",
      "Requirement already satisfied: python-dateutil>=2.8.2 in /Users/nazhimkalam/.pyenv/versions/3.10.13/envs/evat_env_py310/lib/python3.10/site-packages (from pandas) (2.9.0.post0)\n",
      "Requirement already satisfied: pytz>=2020.1 in /Users/nazhimkalam/.pyenv/versions/3.10.13/envs/evat_env_py310/lib/python3.10/site-packages (from pandas) (2025.2)\n",
      "Requirement already satisfied: contourpy>=1.0.1 in /Users/nazhimkalam/.pyenv/versions/3.10.13/envs/evat_env_py310/lib/python3.10/site-packages (from matplotlib) (1.3.2)\n",
      "Requirement already satisfied: packaging>=20.0 in /Users/nazhimkalam/.pyenv/versions/3.10.13/envs/evat_env_py310/lib/python3.10/site-packages (from matplotlib) (25.0)\n",
      "Requirement already satisfied: cycler>=0.10 in /Users/nazhimkalam/.pyenv/versions/3.10.13/envs/evat_env_py310/lib/python3.10/site-packages (from matplotlib) (0.12.1)\n",
      "Requirement already satisfied: pyparsing>=2.3.1 in /Users/nazhimkalam/.pyenv/versions/3.10.13/envs/evat_env_py310/lib/python3.10/site-packages (from matplotlib) (3.2.3)\n",
      "Requirement already satisfied: kiwisolver>=1.3.1 in /Users/nazhimkalam/.pyenv/versions/3.10.13/envs/evat_env_py310/lib/python3.10/site-packages (from matplotlib) (1.4.8)\n",
      "Requirement already satisfied: pillow>=8 in /Users/nazhimkalam/.pyenv/versions/3.10.13/envs/evat_env_py310/lib/python3.10/site-packages (from matplotlib) (11.3.0)\n",
      "Requirement already satisfied: fonttools>=4.22.0 in /Users/nazhimkalam/.pyenv/versions/3.10.13/envs/evat_env_py310/lib/python3.10/site-packages (from matplotlib) (4.59.0)\n",
      "Requirement already satisfied: joblib>=1.2.0 in /Users/nazhimkalam/.pyenv/versions/3.10.13/envs/evat_env_py310/lib/python3.10/site-packages (from scikit-learn) (1.5.1)\n",
      "Requirement already satisfied: threadpoolctl>=3.1.0 in /Users/nazhimkalam/.pyenv/versions/3.10.13/envs/evat_env_py310/lib/python3.10/site-packages (from scikit-learn) (3.6.0)\n",
      "Requirement already satisfied: scipy>=1.8.0 in /Users/nazhimkalam/.pyenv/versions/3.10.13/envs/evat_env_py310/lib/python3.10/site-packages (from scikit-learn) (1.15.3)\n",
      "Requirement already satisfied: keras>=3.5.0 in /Users/nazhimkalam/.pyenv/versions/3.10.13/envs/evat_env_py310/lib/python3.10/site-packages (from tensorflow) (3.10.0)\n",
      "Requirement already satisfied: opt-einsum>=2.3.2 in /Users/nazhimkalam/.pyenv/versions/3.10.13/envs/evat_env_py310/lib/python3.10/site-packages (from tensorflow) (3.4.0)\n",
      "Requirement already satisfied: h5py>=3.11.0 in /Users/nazhimkalam/.pyenv/versions/3.10.13/envs/evat_env_py310/lib/python3.10/site-packages (from tensorflow) (3.14.0)\n",
      "Requirement already satisfied: flatbuffers>=24.3.25 in /Users/nazhimkalam/.pyenv/versions/3.10.13/envs/evat_env_py310/lib/python3.10/site-packages (from tensorflow) (25.2.10)\n",
      "Requirement already satisfied: setuptools in /Users/nazhimkalam/.pyenv/versions/3.10.13/envs/evat_env_py310/lib/python3.10/site-packages (from tensorflow) (65.5.0)\n",
      "Requirement already satisfied: six>=1.12.0 in /Users/nazhimkalam/.pyenv/versions/3.10.13/envs/evat_env_py310/lib/python3.10/site-packages (from tensorflow) (1.17.0)\n",
      "Requirement already satisfied: tensorboard~=2.19.0 in /Users/nazhimkalam/.pyenv/versions/3.10.13/envs/evat_env_py310/lib/python3.10/site-packages (from tensorflow) (2.19.0)\n",
      "Requirement already satisfied: astunparse>=1.6.0 in /Users/nazhimkalam/.pyenv/versions/3.10.13/envs/evat_env_py310/lib/python3.10/site-packages (from tensorflow) (1.6.3)\n",
      "Requirement already satisfied: protobuf!=4.21.0,!=4.21.1,!=4.21.2,!=4.21.3,!=4.21.4,!=4.21.5,<6.0.0dev,>=3.20.3 in /Users/nazhimkalam/.pyenv/versions/3.10.13/envs/evat_env_py310/lib/python3.10/site-packages (from tensorflow) (5.29.5)\n",
      "Requirement already satisfied: google-pasta>=0.1.1 in /Users/nazhimkalam/.pyenv/versions/3.10.13/envs/evat_env_py310/lib/python3.10/site-packages (from tensorflow) (0.2.0)\n",
      "Requirement already satisfied: typing-extensions>=3.6.6 in /Users/nazhimkalam/.pyenv/versions/3.10.13/envs/evat_env_py310/lib/python3.10/site-packages (from tensorflow) (4.14.1)\n",
      "Requirement already satisfied: ml-dtypes<1.0.0,>=0.5.1 in /Users/nazhimkalam/.pyenv/versions/3.10.13/envs/evat_env_py310/lib/python3.10/site-packages (from tensorflow) (0.5.1)\n",
      "Requirement already satisfied: tensorflow-io-gcs-filesystem>=0.23.1 in /Users/nazhimkalam/.pyenv/versions/3.10.13/envs/evat_env_py310/lib/python3.10/site-packages (from tensorflow) (0.37.1)\n",
      "Requirement already satisfied: termcolor>=1.1.0 in /Users/nazhimkalam/.pyenv/versions/3.10.13/envs/evat_env_py310/lib/python3.10/site-packages (from tensorflow) (3.1.0)\n",
      "Requirement already satisfied: requests<3,>=2.21.0 in /Users/nazhimkalam/.pyenv/versions/3.10.13/envs/evat_env_py310/lib/python3.10/site-packages (from tensorflow) (2.32.4)\n",
      "Requirement already satisfied: wrapt>=1.11.0 in /Users/nazhimkalam/.pyenv/versions/3.10.13/envs/evat_env_py310/lib/python3.10/site-packages (from tensorflow) (1.17.2)\n",
      "Requirement already satisfied: absl-py>=1.0.0 in /Users/nazhimkalam/.pyenv/versions/3.10.13/envs/evat_env_py310/lib/python3.10/site-packages (from tensorflow) (2.3.1)\n",
      "Requirement already satisfied: gast!=0.5.0,!=0.5.1,!=0.5.2,>=0.2.1 in /Users/nazhimkalam/.pyenv/versions/3.10.13/envs/evat_env_py310/lib/python3.10/site-packages (from tensorflow) (0.6.0)\n",
      "Requirement already satisfied: libclang>=13.0.0 in /Users/nazhimkalam/.pyenv/versions/3.10.13/envs/evat_env_py310/lib/python3.10/site-packages (from tensorflow) (18.1.1)\n",
      "Requirement already satisfied: grpcio<2.0,>=1.24.3 in /Users/nazhimkalam/.pyenv/versions/3.10.13/envs/evat_env_py310/lib/python3.10/site-packages (from tensorflow) (1.73.1)\n",
      "Requirement already satisfied: wheel<1.0,>=0.23.0 in /Users/nazhimkalam/.pyenv/versions/3.10.13/envs/evat_env_py310/lib/python3.10/site-packages (from astunparse>=1.6.0->tensorflow) (0.45.1)\n",
      "Requirement already satisfied: optree in /Users/nazhimkalam/.pyenv/versions/3.10.13/envs/evat_env_py310/lib/python3.10/site-packages (from keras>=3.5.0->tensorflow) (0.16.0)\n",
      "Requirement already satisfied: rich in /Users/nazhimkalam/.pyenv/versions/3.10.13/envs/evat_env_py310/lib/python3.10/site-packages (from keras>=3.5.0->tensorflow) (14.0.0)\n",
      "Requirement already satisfied: namex in /Users/nazhimkalam/.pyenv/versions/3.10.13/envs/evat_env_py310/lib/python3.10/site-packages (from keras>=3.5.0->tensorflow) (0.1.0)\n",
      "Requirement already satisfied: certifi>=2017.4.17 in /Users/nazhimkalam/.pyenv/versions/3.10.13/envs/evat_env_py310/lib/python3.10/site-packages (from requests<3,>=2.21.0->tensorflow) (2025.7.14)\n",
      "Requirement already satisfied: charset_normalizer<4,>=2 in /Users/nazhimkalam/.pyenv/versions/3.10.13/envs/evat_env_py310/lib/python3.10/site-packages (from requests<3,>=2.21.0->tensorflow) (3.4.2)\n",
      "Requirement already satisfied: idna<4,>=2.5 in /Users/nazhimkalam/.pyenv/versions/3.10.13/envs/evat_env_py310/lib/python3.10/site-packages (from requests<3,>=2.21.0->tensorflow) (3.10)\n",
      "Requirement already satisfied: urllib3<3,>=1.21.1 in /Users/nazhimkalam/.pyenv/versions/3.10.13/envs/evat_env_py310/lib/python3.10/site-packages (from requests<3,>=2.21.0->tensorflow) (2.5.0)\n",
      "Requirement already satisfied: werkzeug>=1.0.1 in /Users/nazhimkalam/.pyenv/versions/3.10.13/envs/evat_env_py310/lib/python3.10/site-packages (from tensorboard~=2.19.0->tensorflow) (3.1.3)\n",
      "Requirement already satisfied: tensorboard-data-server<0.8.0,>=0.7.0 in /Users/nazhimkalam/.pyenv/versions/3.10.13/envs/evat_env_py310/lib/python3.10/site-packages (from tensorboard~=2.19.0->tensorflow) (0.7.2)\n",
      "Requirement already satisfied: markdown>=2.6.8 in /Users/nazhimkalam/.pyenv/versions/3.10.13/envs/evat_env_py310/lib/python3.10/site-packages (from tensorboard~=2.19.0->tensorflow) (3.8.2)\n",
      "Requirement already satisfied: MarkupSafe>=2.1.1 in /Users/nazhimkalam/.pyenv/versions/3.10.13/envs/evat_env_py310/lib/python3.10/site-packages (from werkzeug>=1.0.1->tensorboard~=2.19.0->tensorflow) (3.0.2)\n",
      "Requirement already satisfied: pygments<3.0.0,>=2.13.0 in /Users/nazhimkalam/.pyenv/versions/3.10.13/envs/evat_env_py310/lib/python3.10/site-packages (from rich->keras>=3.5.0->tensorflow) (2.19.2)\n",
      "Requirement already satisfied: markdown-it-py>=2.2.0 in /Users/nazhimkalam/.pyenv/versions/3.10.13/envs/evat_env_py310/lib/python3.10/site-packages (from rich->keras>=3.5.0->tensorflow) (3.0.0)\n",
      "Requirement already satisfied: mdurl~=0.1 in /Users/nazhimkalam/.pyenv/versions/3.10.13/envs/evat_env_py310/lib/python3.10/site-packages (from markdown-it-py>=2.2.0->rich->keras>=3.5.0->tensorflow) (0.1.2)\n",
      "\n",
      "\u001b[1m[\u001b[0m\u001b[34;49mnotice\u001b[0m\u001b[1;39;49m]\u001b[0m\u001b[39;49m A new release of pip is available: \u001b[0m\u001b[31;49m23.0.1\u001b[0m\u001b[39;49m -> \u001b[0m\u001b[32;49m25.1.1\u001b[0m\n",
      "\u001b[1m[\u001b[0m\u001b[34;49mnotice\u001b[0m\u001b[1;39;49m]\u001b[0m\u001b[39;49m To update, run: \u001b[0m\u001b[32;49m/Users/nazhimkalam/.pyenv/versions/evat_env_py310/bin/python -m pip install --upgrade pip\u001b[0m\n",
      "Note: you may need to restart the kernel to use updated packages.\n"
     ]
    }
   ],
   "source": [
    "pip install pandas numpy matplotlib seaborn scikit-learn tensorflow"
   ]
  },
  {
   "cell_type": "code",
   "execution_count": 1,
   "id": "3e5a90de-7a2f-4a51-b46d-e07542f0b93b",
   "metadata": {},
   "outputs": [
    {
     "name": "stdout",
     "output_type": "stream",
     "text": [
      "Collecting plotly\n",
      "  Downloading plotly-6.2.0-py3-none-any.whl (9.6 MB)\n",
      "\u001b[2K     \u001b[90m━━━━━━━━━━━━━━━━━━━━━━━━━━━━━━━━━━━━━━━━\u001b[0m \u001b[32m9.6/9.6 MB\u001b[0m \u001b[31m29.8 MB/s\u001b[0m eta \u001b[36m0:00:00\u001b[0m00:01\u001b[0m00:01\u001b[0m\n",
      "Collecting narwhals>=1.15.1\n",
      "  Downloading narwhals-1.48.1-py3-none-any.whl (377 kB)\n",
      "\u001b[2K     \u001b[90m━━━━━━━━━━━━━━━━━━━━━━━━━━━━━━━━━━━━━━\u001b[0m \u001b[32m377.3/377.3 kB\u001b[0m \u001b[31m22.1 MB/s\u001b[0m eta \u001b[36m0:00:00\u001b[0m\n",
      "\u001b[?25hRequirement already satisfied: packaging in /Users/nazhimkalam/.pyenv/versions/3.10.13/envs/evat_env_py310/lib/python3.10/site-packages (from plotly) (25.0)\n",
      "Installing collected packages: narwhals, plotly\n",
      "Successfully installed narwhals-1.48.1 plotly-6.2.0\n",
      "\n",
      "\u001b[1m[\u001b[0m\u001b[34;49mnotice\u001b[0m\u001b[1;39;49m]\u001b[0m\u001b[39;49m A new release of pip is available: \u001b[0m\u001b[31;49m23.0.1\u001b[0m\u001b[39;49m -> \u001b[0m\u001b[32;49m25.1.1\u001b[0m\n",
      "\u001b[1m[\u001b[0m\u001b[34;49mnotice\u001b[0m\u001b[1;39;49m]\u001b[0m\u001b[39;49m To update, run: \u001b[0m\u001b[32;49m/Users/nazhimkalam/.pyenv/versions/evat_env_py310/bin/python -m pip install --upgrade pip\u001b[0m\n",
      "Note: you may need to restart the kernel to use updated packages.\n"
     ]
    }
   ],
   "source": [
    "pip install plotly"
   ]
  },
  {
   "cell_type": "markdown",
   "id": "3af2da29-fa70-4a4e-8706-85191f5f5072",
   "metadata": {},
   "source": [
    "## Data Exploration & Preprocessing"
   ]
  },
  {
   "cell_type": "markdown",
   "id": "3fd7d0ef-6fba-46d3-8e51-cd07191e0c45",
   "metadata": {},
   "source": [
    "### 1.1 Load & Inspect Dataset"
   ]
  },
  {
   "cell_type": "code",
   "execution_count": 104,
   "id": "f196f338-c3f0-47ae-981d-9b55fd9b1651",
   "metadata": {},
   "outputs": [
    {
     "name": "stdout",
     "output_type": "stream",
     "text": [
      "Index(['sessionId', 'kwhTotal', 'dollars', 'created', 'ended', 'startTime',\n",
      "       'endTime', 'chargeTimeHrs', 'weekday', 'platform', 'distance', 'userId',\n",
      "       'stationId', 'locationId', 'managerVehicle', 'facilityType', 'Mon',\n",
      "       'Tues', 'Wed', 'Thurs', 'Fri', 'Sat', 'Sun', 'reportedZip'],\n",
      "      dtype='object')\n"
     ]
    }
   ],
   "source": [
    "import pandas as pd\n",
    "\n",
    "df = pd.read_csv('station_data_dataverse.csv', low_memory=False)\n",
    "print(df.columns)"
   ]
  },
  {
   "cell_type": "code",
   "execution_count": 105,
   "id": "ccf46f02-62c0-441c-9881-ba5e469b5812",
   "metadata": {},
   "outputs": [
    {
     "data": {
      "text/plain": [
       "(3395, 24)"
      ]
     },
     "execution_count": 105,
     "metadata": {},
     "output_type": "execute_result"
    }
   ],
   "source": [
    "df.shape"
   ]
  },
  {
   "cell_type": "code",
   "execution_count": 106,
   "id": "e6d5f9fe-4f8a-47b5-8a46-441bcb519736",
   "metadata": {},
   "outputs": [
    {
     "data": {
      "text/html": [
       "<div>\n",
       "<style scoped>\n",
       "    .dataframe tbody tr th:only-of-type {\n",
       "        vertical-align: middle;\n",
       "    }\n",
       "\n",
       "    .dataframe tbody tr th {\n",
       "        vertical-align: top;\n",
       "    }\n",
       "\n",
       "    .dataframe thead th {\n",
       "        text-align: right;\n",
       "    }\n",
       "</style>\n",
       "<table border=\"1\" class=\"dataframe\">\n",
       "  <thead>\n",
       "    <tr style=\"text-align: right;\">\n",
       "      <th></th>\n",
       "      <th>sessionId</th>\n",
       "      <th>kwhTotal</th>\n",
       "      <th>dollars</th>\n",
       "      <th>created</th>\n",
       "      <th>ended</th>\n",
       "      <th>startTime</th>\n",
       "      <th>endTime</th>\n",
       "      <th>chargeTimeHrs</th>\n",
       "      <th>weekday</th>\n",
       "      <th>platform</th>\n",
       "      <th>...</th>\n",
       "      <th>managerVehicle</th>\n",
       "      <th>facilityType</th>\n",
       "      <th>Mon</th>\n",
       "      <th>Tues</th>\n",
       "      <th>Wed</th>\n",
       "      <th>Thurs</th>\n",
       "      <th>Fri</th>\n",
       "      <th>Sat</th>\n",
       "      <th>Sun</th>\n",
       "      <th>reportedZip</th>\n",
       "    </tr>\n",
       "  </thead>\n",
       "  <tbody>\n",
       "    <tr>\n",
       "      <th>0</th>\n",
       "      <td>1366563</td>\n",
       "      <td>7.78</td>\n",
       "      <td>0.00</td>\n",
       "      <td>0014-11-18 15:40:26</td>\n",
       "      <td>0014-11-18 17:11:04</td>\n",
       "      <td>15</td>\n",
       "      <td>17</td>\n",
       "      <td>1.510556</td>\n",
       "      <td>Tue</td>\n",
       "      <td>android</td>\n",
       "      <td>...</td>\n",
       "      <td>0</td>\n",
       "      <td>3</td>\n",
       "      <td>0</td>\n",
       "      <td>1</td>\n",
       "      <td>0</td>\n",
       "      <td>0</td>\n",
       "      <td>0</td>\n",
       "      <td>0</td>\n",
       "      <td>0</td>\n",
       "      <td>0</td>\n",
       "    </tr>\n",
       "    <tr>\n",
       "      <th>1</th>\n",
       "      <td>3075723</td>\n",
       "      <td>9.74</td>\n",
       "      <td>0.00</td>\n",
       "      <td>0014-11-19 17:40:26</td>\n",
       "      <td>0014-11-19 19:51:04</td>\n",
       "      <td>17</td>\n",
       "      <td>19</td>\n",
       "      <td>2.177222</td>\n",
       "      <td>Wed</td>\n",
       "      <td>android</td>\n",
       "      <td>...</td>\n",
       "      <td>0</td>\n",
       "      <td>3</td>\n",
       "      <td>0</td>\n",
       "      <td>0</td>\n",
       "      <td>1</td>\n",
       "      <td>0</td>\n",
       "      <td>0</td>\n",
       "      <td>0</td>\n",
       "      <td>0</td>\n",
       "      <td>0</td>\n",
       "    </tr>\n",
       "    <tr>\n",
       "      <th>2</th>\n",
       "      <td>4228788</td>\n",
       "      <td>6.76</td>\n",
       "      <td>0.58</td>\n",
       "      <td>0014-11-21 12:05:46</td>\n",
       "      <td>0014-11-21 16:46:04</td>\n",
       "      <td>12</td>\n",
       "      <td>16</td>\n",
       "      <td>4.671667</td>\n",
       "      <td>Fri</td>\n",
       "      <td>android</td>\n",
       "      <td>...</td>\n",
       "      <td>0</td>\n",
       "      <td>3</td>\n",
       "      <td>0</td>\n",
       "      <td>0</td>\n",
       "      <td>0</td>\n",
       "      <td>0</td>\n",
       "      <td>1</td>\n",
       "      <td>0</td>\n",
       "      <td>0</td>\n",
       "      <td>0</td>\n",
       "    </tr>\n",
       "  </tbody>\n",
       "</table>\n",
       "<p>3 rows × 24 columns</p>\n",
       "</div>"
      ],
      "text/plain": [
       "   sessionId  kwhTotal  dollars              created                ended  \\\n",
       "0    1366563      7.78     0.00  0014-11-18 15:40:26  0014-11-18 17:11:04   \n",
       "1    3075723      9.74     0.00  0014-11-19 17:40:26  0014-11-19 19:51:04   \n",
       "2    4228788      6.76     0.58  0014-11-21 12:05:46  0014-11-21 16:46:04   \n",
       "\n",
       "   startTime  endTime  chargeTimeHrs weekday platform  ...  managerVehicle  \\\n",
       "0         15       17       1.510556     Tue  android  ...               0   \n",
       "1         17       19       2.177222     Wed  android  ...               0   \n",
       "2         12       16       4.671667     Fri  android  ...               0   \n",
       "\n",
       "   facilityType  Mon  Tues  Wed  Thurs  Fri  Sat  Sun  reportedZip  \n",
       "0             3    0     1    0      0    0    0    0            0  \n",
       "1             3    0     0    1      0    0    0    0            0  \n",
       "2             3    0     0    0      0    1    0    0            0  \n",
       "\n",
       "[3 rows x 24 columns]"
      ]
     },
     "execution_count": 106,
     "metadata": {},
     "output_type": "execute_result"
    }
   ],
   "source": [
    "df.head(3)"
   ]
  },
  {
   "cell_type": "code",
   "execution_count": 107,
   "id": "f80a4128-490f-4c0a-8e6c-940b74f1e902",
   "metadata": {},
   "outputs": [
    {
     "name": "stdout",
     "output_type": "stream",
     "text": [
      "['0014-11-18 15:40:26', '0014-11-19 17:40:26', '0014-11-21 12:05:46', '0014-12-03 19:16:12', '0014-12-11 20:56:11', '0014-12-12 14:38:44', '0014-12-12 15:08:40', '0014-12-17 20:30:25', '0014-12-18 17:53:19', '0014-12-18 18:06:49']\n",
      "['0014-11-18 17:11:04', '0014-11-19 19:51:04', '0014-11-21 16:46:04', '0014-12-03 21:02:18', '0014-12-11 21:14:06', '0014-12-12 15:04:04', '0014-12-12 15:47:04', '0014-12-17 21:31:04', '0014-12-18 18:04:04', '0014-12-18 18:30:05']\n"
     ]
    }
   ],
   "source": [
    "print(df['created'].head(10).tolist())\n",
    "print(df['ended'].head(10).tolist())"
   ]
  },
  {
   "cell_type": "code",
   "execution_count": 108,
   "id": "518ad8f3-b91b-4caa-9725-fcc7fd94ef80",
   "metadata": {},
   "outputs": [
    {
     "name": "stdout",
     "output_type": "stream",
     "text": [
      "created_year_part\n",
      "0015    3372\n",
      "0014      23\n",
      "Name: count, dtype: int64\n"
     ]
    }
   ],
   "source": [
    "# Just get the first 4 characters (year parts)\n",
    "df['created_year_part'] = df['created'].str[:4]\n",
    "print(df['created_year_part'].value_counts())\n"
   ]
  },
  {
   "cell_type": "code",
   "execution_count": 109,
   "id": "dd0970be-4a40-4221-9c48-5c2433a0b9a4",
   "metadata": {},
   "outputs": [
    {
     "name": "stdout",
     "output_type": "stream",
     "text": [
      "['0015-08-11 13:08:06', '0015-07-27 11:19:51', '0015-07-24 11:22:20', '0015-04-15 17:31:15', '0014-11-25 16:57:46', '0015-02-23 17:40:15', '0015-05-29 10:39:26', '0015-07-23 12:48:39', '0015-06-01 16:21:57', '0015-03-17 17:36:15']\n"
     ]
    }
   ],
   "source": [
    "print(df['created'].sample(10).tolist())"
   ]
  },
  {
   "cell_type": "code",
   "execution_count": 110,
   "id": "6532eec1-1a6a-4d1e-8f6a-9b40bba25abf",
   "metadata": {},
   "outputs": [
    {
     "name": "stdout",
     "output_type": "stream",
     "text": [
      "Final cleaned shape: (3395, 25)\n"
     ]
    }
   ],
   "source": [
    "# Correct the year prefix in both columns\n",
    "df['created'] = df['created'].str.replace(r'^0014', '2014', regex=True)\n",
    "df['created'] = df['created'].str.replace(r'^0015', '2015', regex=True)\n",
    "\n",
    "df['ended'] = df['ended'].str.replace(r'^0014', '2014', regex=True)\n",
    "df['ended'] = df['ended'].str.replace(r'^0015', '2015', regex=True)\n",
    "\n",
    "# Convert to datetime\n",
    "df['created'] = pd.to_datetime(df['created'], errors='coerce')\n",
    "df['ended'] = pd.to_datetime(df['ended'], errors='coerce')\n",
    "\n",
    "# Drop invalid rows\n",
    "df = df.dropna(subset=['created', 'ended'])\n",
    "print(\"Final cleaned shape:\", df.shape)\n"
   ]
  },
  {
   "cell_type": "code",
   "execution_count": 111,
   "id": "7ac2144c-555c-4ba0-aff5-9f817aea46dd",
   "metadata": {},
   "outputs": [
    {
     "data": {
      "text/plain": [
       "(3395, 25)"
      ]
     },
     "execution_count": 111,
     "metadata": {},
     "output_type": "execute_result"
    }
   ],
   "source": [
    "df.shape"
   ]
  },
  {
   "cell_type": "code",
   "execution_count": 112,
   "id": "7ffee2a7-c2fa-49fb-ae38-e2f2642a52ae",
   "metadata": {},
   "outputs": [
    {
     "name": "stdout",
     "output_type": "stream",
     "text": [
      "Min created: 2014-11-18 15:01:17\n",
      "Max ended: 2015-10-04 15:54:06\n"
     ]
    }
   ],
   "source": [
    "print(\"Min created:\", df['created'].min())\n",
    "print(\"Max ended:\", df['ended'].max())"
   ]
  },
  {
   "cell_type": "code",
   "execution_count": 113,
   "id": "80f8c2f7-883a-47c9-a0bf-110781c73bed",
   "metadata": {},
   "outputs": [
    {
     "data": {
      "text/html": [
       "<div>\n",
       "<style scoped>\n",
       "    .dataframe tbody tr th:only-of-type {\n",
       "        vertical-align: middle;\n",
       "    }\n",
       "\n",
       "    .dataframe tbody tr th {\n",
       "        vertical-align: top;\n",
       "    }\n",
       "\n",
       "    .dataframe thead th {\n",
       "        text-align: right;\n",
       "    }\n",
       "</style>\n",
       "<table border=\"1\" class=\"dataframe\">\n",
       "  <thead>\n",
       "    <tr style=\"text-align: right;\">\n",
       "      <th></th>\n",
       "      <th>sessionId</th>\n",
       "      <th>kwhTotal</th>\n",
       "      <th>dollars</th>\n",
       "      <th>created</th>\n",
       "      <th>ended</th>\n",
       "      <th>startTime</th>\n",
       "      <th>endTime</th>\n",
       "      <th>chargeTimeHrs</th>\n",
       "      <th>weekday</th>\n",
       "      <th>platform</th>\n",
       "      <th>...</th>\n",
       "      <th>facilityType</th>\n",
       "      <th>Mon</th>\n",
       "      <th>Tues</th>\n",
       "      <th>Wed</th>\n",
       "      <th>Thurs</th>\n",
       "      <th>Fri</th>\n",
       "      <th>Sat</th>\n",
       "      <th>Sun</th>\n",
       "      <th>reportedZip</th>\n",
       "      <th>created_year_part</th>\n",
       "    </tr>\n",
       "  </thead>\n",
       "  <tbody>\n",
       "    <tr>\n",
       "      <th>0</th>\n",
       "      <td>1366563</td>\n",
       "      <td>7.78</td>\n",
       "      <td>0.00</td>\n",
       "      <td>2014-11-18 15:40:26</td>\n",
       "      <td>2014-11-18 17:11:04</td>\n",
       "      <td>15</td>\n",
       "      <td>17</td>\n",
       "      <td>1.510556</td>\n",
       "      <td>Tue</td>\n",
       "      <td>android</td>\n",
       "      <td>...</td>\n",
       "      <td>3</td>\n",
       "      <td>0</td>\n",
       "      <td>1</td>\n",
       "      <td>0</td>\n",
       "      <td>0</td>\n",
       "      <td>0</td>\n",
       "      <td>0</td>\n",
       "      <td>0</td>\n",
       "      <td>0</td>\n",
       "      <td>0014</td>\n",
       "    </tr>\n",
       "    <tr>\n",
       "      <th>1</th>\n",
       "      <td>3075723</td>\n",
       "      <td>9.74</td>\n",
       "      <td>0.00</td>\n",
       "      <td>2014-11-19 17:40:26</td>\n",
       "      <td>2014-11-19 19:51:04</td>\n",
       "      <td>17</td>\n",
       "      <td>19</td>\n",
       "      <td>2.177222</td>\n",
       "      <td>Wed</td>\n",
       "      <td>android</td>\n",
       "      <td>...</td>\n",
       "      <td>3</td>\n",
       "      <td>0</td>\n",
       "      <td>0</td>\n",
       "      <td>1</td>\n",
       "      <td>0</td>\n",
       "      <td>0</td>\n",
       "      <td>0</td>\n",
       "      <td>0</td>\n",
       "      <td>0</td>\n",
       "      <td>0014</td>\n",
       "    </tr>\n",
       "    <tr>\n",
       "      <th>2</th>\n",
       "      <td>4228788</td>\n",
       "      <td>6.76</td>\n",
       "      <td>0.58</td>\n",
       "      <td>2014-11-21 12:05:46</td>\n",
       "      <td>2014-11-21 16:46:04</td>\n",
       "      <td>12</td>\n",
       "      <td>16</td>\n",
       "      <td>4.671667</td>\n",
       "      <td>Fri</td>\n",
       "      <td>android</td>\n",
       "      <td>...</td>\n",
       "      <td>3</td>\n",
       "      <td>0</td>\n",
       "      <td>0</td>\n",
       "      <td>0</td>\n",
       "      <td>0</td>\n",
       "      <td>1</td>\n",
       "      <td>0</td>\n",
       "      <td>0</td>\n",
       "      <td>0</td>\n",
       "      <td>0014</td>\n",
       "    </tr>\n",
       "    <tr>\n",
       "      <th>3</th>\n",
       "      <td>3173284</td>\n",
       "      <td>6.17</td>\n",
       "      <td>0.00</td>\n",
       "      <td>2014-12-03 19:16:12</td>\n",
       "      <td>2014-12-03 21:02:18</td>\n",
       "      <td>19</td>\n",
       "      <td>21</td>\n",
       "      <td>1.768333</td>\n",
       "      <td>Wed</td>\n",
       "      <td>android</td>\n",
       "      <td>...</td>\n",
       "      <td>3</td>\n",
       "      <td>0</td>\n",
       "      <td>0</td>\n",
       "      <td>1</td>\n",
       "      <td>0</td>\n",
       "      <td>0</td>\n",
       "      <td>0</td>\n",
       "      <td>0</td>\n",
       "      <td>0</td>\n",
       "      <td>0014</td>\n",
       "    </tr>\n",
       "    <tr>\n",
       "      <th>4</th>\n",
       "      <td>3266500</td>\n",
       "      <td>0.93</td>\n",
       "      <td>0.00</td>\n",
       "      <td>2014-12-11 20:56:11</td>\n",
       "      <td>2014-12-11 21:14:06</td>\n",
       "      <td>20</td>\n",
       "      <td>21</td>\n",
       "      <td>0.298611</td>\n",
       "      <td>Thu</td>\n",
       "      <td>android</td>\n",
       "      <td>...</td>\n",
       "      <td>3</td>\n",
       "      <td>0</td>\n",
       "      <td>0</td>\n",
       "      <td>0</td>\n",
       "      <td>1</td>\n",
       "      <td>0</td>\n",
       "      <td>0</td>\n",
       "      <td>0</td>\n",
       "      <td>0</td>\n",
       "      <td>0014</td>\n",
       "    </tr>\n",
       "  </tbody>\n",
       "</table>\n",
       "<p>5 rows × 25 columns</p>\n",
       "</div>"
      ],
      "text/plain": [
       "   sessionId  kwhTotal  dollars             created               ended  \\\n",
       "0    1366563      7.78     0.00 2014-11-18 15:40:26 2014-11-18 17:11:04   \n",
       "1    3075723      9.74     0.00 2014-11-19 17:40:26 2014-11-19 19:51:04   \n",
       "2    4228788      6.76     0.58 2014-11-21 12:05:46 2014-11-21 16:46:04   \n",
       "3    3173284      6.17     0.00 2014-12-03 19:16:12 2014-12-03 21:02:18   \n",
       "4    3266500      0.93     0.00 2014-12-11 20:56:11 2014-12-11 21:14:06   \n",
       "\n",
       "   startTime  endTime  chargeTimeHrs weekday platform  ...  facilityType  Mon  \\\n",
       "0         15       17       1.510556     Tue  android  ...             3    0   \n",
       "1         17       19       2.177222     Wed  android  ...             3    0   \n",
       "2         12       16       4.671667     Fri  android  ...             3    0   \n",
       "3         19       21       1.768333     Wed  android  ...             3    0   \n",
       "4         20       21       0.298611     Thu  android  ...             3    0   \n",
       "\n",
       "   Tues  Wed  Thurs  Fri  Sat  Sun  reportedZip  created_year_part  \n",
       "0     1    0      0    0    0    0            0               0014  \n",
       "1     0    1      0    0    0    0            0               0014  \n",
       "2     0    0      0    1    0    0            0               0014  \n",
       "3     0    1      0    0    0    0            0               0014  \n",
       "4     0    0      1    0    0    0            0               0014  \n",
       "\n",
       "[5 rows x 25 columns]"
      ]
     },
     "execution_count": 113,
     "metadata": {},
     "output_type": "execute_result"
    }
   ],
   "source": [
    "df.head()"
   ]
  },
  {
   "cell_type": "markdown",
   "id": "485e6ce2-0ce0-4f3a-9d53-9c70e7f63541",
   "metadata": {},
   "source": [
    "### 1.2 Convert Columns to Datetime\n",
    "\n",
    "- **coerce** will convert invalid dates to **NaT** (missing values) instead of throwing errors."
   ]
  },
  {
   "cell_type": "code",
   "execution_count": 114,
   "id": "71e67767-beb7-455b-94d9-8561d2da9ede",
   "metadata": {},
   "outputs": [],
   "source": [
    "df['created'] = pd.to_datetime(df['created'], errors='coerce')\n",
    "df['ended'] = pd.to_datetime(df['ended'], errors='coerce')"
   ]
  },
  {
   "cell_type": "markdown",
   "id": "b15fb278-31ab-4cca-a4a0-54cd14e5ad0c",
   "metadata": {},
   "source": [
    "### 1.3 Data Cleaning\n",
    "\n",
    "- Drop rows with null created, ended\n",
    "- Ensure sessions are valid (e.g., ended > created)"
   ]
  },
  {
   "cell_type": "code",
   "execution_count": 115,
   "id": "aa1ec84f-ccc1-4082-845f-cb74fed2de15",
   "metadata": {},
   "outputs": [],
   "source": [
    "df = df.dropna(subset=['created', 'ended'])\n",
    "df = df[df['ended'] > df['created']]"
   ]
  },
  {
   "cell_type": "code",
   "execution_count": 116,
   "id": "01036fb3-9443-46db-acb5-91d295edcd47",
   "metadata": {},
   "outputs": [
    {
     "name": "stdout",
     "output_type": "stream",
     "text": [
      "Valid date range:\n",
      "Start: 2014-11-18 15:01:17\n",
      "End: 2015-10-04 15:54:06\n"
     ]
    }
   ],
   "source": [
    "print(\"Valid date range:\")\n",
    "print(\"Start:\", df['created'].min())\n",
    "print(\"End:\", df['ended'].max())"
   ]
  },
  {
   "cell_type": "code",
   "execution_count": 117,
   "id": "05b85764-81c1-4d81-8c22-a36dd08cbf37",
   "metadata": {},
   "outputs": [
    {
     "data": {
      "text/plain": [
       "sessionId            3395\n",
       "kwhTotal             3395\n",
       "dollars              3395\n",
       "created              3395\n",
       "ended                3395\n",
       "startTime            3395\n",
       "endTime              3395\n",
       "chargeTimeHrs        3395\n",
       "weekday              3395\n",
       "platform             3395\n",
       "distance             2330\n",
       "userId               3395\n",
       "stationId            3395\n",
       "locationId           3395\n",
       "managerVehicle       3395\n",
       "facilityType         3395\n",
       "Mon                  3395\n",
       "Tues                 3395\n",
       "Wed                  3395\n",
       "Thurs                3395\n",
       "Fri                  3395\n",
       "Sat                  3395\n",
       "Sun                  3395\n",
       "reportedZip          3395\n",
       "created_year_part    3395\n",
       "dtype: int64"
      ]
     },
     "execution_count": 117,
     "metadata": {},
     "output_type": "execute_result"
    }
   ],
   "source": [
    "df.count()"
   ]
  },
  {
   "cell_type": "markdown",
   "id": "4320b9a0-cf1e-470d-835d-2fcbad79ddfd",
   "metadata": {},
   "source": [
    "### 1.4 Creating a Charging Duration Feature"
   ]
  },
  {
   "cell_type": "code",
   "execution_count": 118,
   "id": "976bca62-8881-4453-8fb9-4dc99bd13e71",
   "metadata": {},
   "outputs": [],
   "source": [
    "df['charge_duration_hrs'] = (df['ended'] - df['created']).dt.total_seconds() / 3600"
   ]
  },
  {
   "cell_type": "code",
   "execution_count": 119,
   "id": "33bd7bc5-562a-48c4-89b7-ada2a4f7b56c",
   "metadata": {},
   "outputs": [
    {
     "data": {
      "text/html": [
       "<div>\n",
       "<style scoped>\n",
       "    .dataframe tbody tr th:only-of-type {\n",
       "        vertical-align: middle;\n",
       "    }\n",
       "\n",
       "    .dataframe tbody tr th {\n",
       "        vertical-align: top;\n",
       "    }\n",
       "\n",
       "    .dataframe thead th {\n",
       "        text-align: right;\n",
       "    }\n",
       "</style>\n",
       "<table border=\"1\" class=\"dataframe\">\n",
       "  <thead>\n",
       "    <tr style=\"text-align: right;\">\n",
       "      <th></th>\n",
       "      <th>sessionId</th>\n",
       "      <th>kwhTotal</th>\n",
       "      <th>dollars</th>\n",
       "      <th>created</th>\n",
       "      <th>ended</th>\n",
       "      <th>startTime</th>\n",
       "      <th>endTime</th>\n",
       "      <th>chargeTimeHrs</th>\n",
       "      <th>weekday</th>\n",
       "      <th>platform</th>\n",
       "      <th>...</th>\n",
       "      <th>Mon</th>\n",
       "      <th>Tues</th>\n",
       "      <th>Wed</th>\n",
       "      <th>Thurs</th>\n",
       "      <th>Fri</th>\n",
       "      <th>Sat</th>\n",
       "      <th>Sun</th>\n",
       "      <th>reportedZip</th>\n",
       "      <th>created_year_part</th>\n",
       "      <th>charge_duration_hrs</th>\n",
       "    </tr>\n",
       "  </thead>\n",
       "  <tbody>\n",
       "    <tr>\n",
       "      <th>0</th>\n",
       "      <td>1366563</td>\n",
       "      <td>7.78</td>\n",
       "      <td>0.0</td>\n",
       "      <td>2014-11-18 15:40:26</td>\n",
       "      <td>2014-11-18 17:11:04</td>\n",
       "      <td>15</td>\n",
       "      <td>17</td>\n",
       "      <td>1.510556</td>\n",
       "      <td>Tue</td>\n",
       "      <td>android</td>\n",
       "      <td>...</td>\n",
       "      <td>0</td>\n",
       "      <td>1</td>\n",
       "      <td>0</td>\n",
       "      <td>0</td>\n",
       "      <td>0</td>\n",
       "      <td>0</td>\n",
       "      <td>0</td>\n",
       "      <td>0</td>\n",
       "      <td>0014</td>\n",
       "      <td>1.510556</td>\n",
       "    </tr>\n",
       "    <tr>\n",
       "      <th>1</th>\n",
       "      <td>3075723</td>\n",
       "      <td>9.74</td>\n",
       "      <td>0.0</td>\n",
       "      <td>2014-11-19 17:40:26</td>\n",
       "      <td>2014-11-19 19:51:04</td>\n",
       "      <td>17</td>\n",
       "      <td>19</td>\n",
       "      <td>2.177222</td>\n",
       "      <td>Wed</td>\n",
       "      <td>android</td>\n",
       "      <td>...</td>\n",
       "      <td>0</td>\n",
       "      <td>0</td>\n",
       "      <td>1</td>\n",
       "      <td>0</td>\n",
       "      <td>0</td>\n",
       "      <td>0</td>\n",
       "      <td>0</td>\n",
       "      <td>0</td>\n",
       "      <td>0014</td>\n",
       "      <td>2.177222</td>\n",
       "    </tr>\n",
       "  </tbody>\n",
       "</table>\n",
       "<p>2 rows × 26 columns</p>\n",
       "</div>"
      ],
      "text/plain": [
       "   sessionId  kwhTotal  dollars             created               ended  \\\n",
       "0    1366563      7.78      0.0 2014-11-18 15:40:26 2014-11-18 17:11:04   \n",
       "1    3075723      9.74      0.0 2014-11-19 17:40:26 2014-11-19 19:51:04   \n",
       "\n",
       "   startTime  endTime  chargeTimeHrs weekday platform  ...  Mon  Tues  Wed  \\\n",
       "0         15       17       1.510556     Tue  android  ...    0     1    0   \n",
       "1         17       19       2.177222     Wed  android  ...    0     0    1   \n",
       "\n",
       "   Thurs  Fri  Sat  Sun  reportedZip  created_year_part  charge_duration_hrs  \n",
       "0      0    0    0    0            0               0014             1.510556  \n",
       "1      0    0    0    0            0               0014             2.177222  \n",
       "\n",
       "[2 rows x 26 columns]"
      ]
     },
     "execution_count": 119,
     "metadata": {},
     "output_type": "execute_result"
    }
   ],
   "source": [
    "df.head(2)"
   ]
  },
  {
   "cell_type": "code",
   "execution_count": 120,
   "id": "b37aa5a3-e641-4945-968a-6fe299325f41",
   "metadata": {},
   "outputs": [],
   "source": [
    "df['created_hour'] = df['created'].dt.hour\n",
    "df['ended_hour'] = df['ended'].dt.hour\n",
    "\n",
    "df.drop(columns=['startTime', 'endTime'], inplace=True)"
   ]
  },
  {
   "cell_type": "code",
   "execution_count": 121,
   "id": "34d927d9-fc33-4e09-860f-c761a439057f",
   "metadata": {},
   "outputs": [
    {
     "data": {
      "text/html": [
       "<div>\n",
       "<style scoped>\n",
       "    .dataframe tbody tr th:only-of-type {\n",
       "        vertical-align: middle;\n",
       "    }\n",
       "\n",
       "    .dataframe tbody tr th {\n",
       "        vertical-align: top;\n",
       "    }\n",
       "\n",
       "    .dataframe thead th {\n",
       "        text-align: right;\n",
       "    }\n",
       "</style>\n",
       "<table border=\"1\" class=\"dataframe\">\n",
       "  <thead>\n",
       "    <tr style=\"text-align: right;\">\n",
       "      <th></th>\n",
       "      <th>sessionId</th>\n",
       "      <th>kwhTotal</th>\n",
       "      <th>dollars</th>\n",
       "      <th>created</th>\n",
       "      <th>ended</th>\n",
       "      <th>chargeTimeHrs</th>\n",
       "      <th>weekday</th>\n",
       "      <th>platform</th>\n",
       "      <th>distance</th>\n",
       "      <th>userId</th>\n",
       "      <th>...</th>\n",
       "      <th>Wed</th>\n",
       "      <th>Thurs</th>\n",
       "      <th>Fri</th>\n",
       "      <th>Sat</th>\n",
       "      <th>Sun</th>\n",
       "      <th>reportedZip</th>\n",
       "      <th>created_year_part</th>\n",
       "      <th>charge_duration_hrs</th>\n",
       "      <th>created_hour</th>\n",
       "      <th>ended_hour</th>\n",
       "    </tr>\n",
       "  </thead>\n",
       "  <tbody>\n",
       "    <tr>\n",
       "      <th>0</th>\n",
       "      <td>1366563</td>\n",
       "      <td>7.78</td>\n",
       "      <td>0.0</td>\n",
       "      <td>2014-11-18 15:40:26</td>\n",
       "      <td>2014-11-18 17:11:04</td>\n",
       "      <td>1.510556</td>\n",
       "      <td>Tue</td>\n",
       "      <td>android</td>\n",
       "      <td>NaN</td>\n",
       "      <td>35897499</td>\n",
       "      <td>...</td>\n",
       "      <td>0</td>\n",
       "      <td>0</td>\n",
       "      <td>0</td>\n",
       "      <td>0</td>\n",
       "      <td>0</td>\n",
       "      <td>0</td>\n",
       "      <td>0014</td>\n",
       "      <td>1.510556</td>\n",
       "      <td>15</td>\n",
       "      <td>17</td>\n",
       "    </tr>\n",
       "    <tr>\n",
       "      <th>1</th>\n",
       "      <td>3075723</td>\n",
       "      <td>9.74</td>\n",
       "      <td>0.0</td>\n",
       "      <td>2014-11-19 17:40:26</td>\n",
       "      <td>2014-11-19 19:51:04</td>\n",
       "      <td>2.177222</td>\n",
       "      <td>Wed</td>\n",
       "      <td>android</td>\n",
       "      <td>NaN</td>\n",
       "      <td>35897499</td>\n",
       "      <td>...</td>\n",
       "      <td>1</td>\n",
       "      <td>0</td>\n",
       "      <td>0</td>\n",
       "      <td>0</td>\n",
       "      <td>0</td>\n",
       "      <td>0</td>\n",
       "      <td>0014</td>\n",
       "      <td>2.177222</td>\n",
       "      <td>17</td>\n",
       "      <td>19</td>\n",
       "    </tr>\n",
       "  </tbody>\n",
       "</table>\n",
       "<p>2 rows × 26 columns</p>\n",
       "</div>"
      ],
      "text/plain": [
       "   sessionId  kwhTotal  dollars             created               ended  \\\n",
       "0    1366563      7.78      0.0 2014-11-18 15:40:26 2014-11-18 17:11:04   \n",
       "1    3075723      9.74      0.0 2014-11-19 17:40:26 2014-11-19 19:51:04   \n",
       "\n",
       "   chargeTimeHrs weekday platform  distance    userId  ...  Wed  Thurs  Fri  \\\n",
       "0       1.510556     Tue  android       NaN  35897499  ...    0      0    0   \n",
       "1       2.177222     Wed  android       NaN  35897499  ...    1      0    0   \n",
       "\n",
       "   Sat  Sun  reportedZip  created_year_part  charge_duration_hrs  \\\n",
       "0    0    0            0               0014             1.510556   \n",
       "1    0    0            0               0014             2.177222   \n",
       "\n",
       "   created_hour  ended_hour  \n",
       "0            15          17  \n",
       "1            17          19  \n",
       "\n",
       "[2 rows x 26 columns]"
      ]
     },
     "execution_count": 121,
     "metadata": {},
     "output_type": "execute_result"
    }
   ],
   "source": [
    "df.head(2)"
   ]
  },
  {
   "cell_type": "markdown",
   "id": "f1461649-af43-41f3-b3ef-11b8d91377e3",
   "metadata": {},
   "source": [
    "### Remove Sessions with Unrealistic Durations"
   ]
  },
  {
   "cell_type": "code",
   "execution_count": 122,
   "id": "1d04a893-bcc8-48b4-9ab1-be06364a55e7",
   "metadata": {},
   "outputs": [
    {
     "name": "stdout",
     "output_type": "stream",
     "text": [
      "Sessions removed due to invalid duration:\n",
      "     sessionId             created               ended  charge_duration_hrs\n",
      "173    2162299 2015-01-26 18:09:47 2015-01-29 01:24:04            55.238056\n",
      "Remaining rows after filtering: (3394, 26)\n"
     ]
    }
   ],
   "source": [
    "# Identify bad sessions: duration <= 0 or > 12 hours\n",
    "bad_sessions = df[(df['charge_duration_hrs'] <= 0) | (df['charge_duration_hrs'] > 12)]\n",
    "\n",
    "# Print them for inspection\n",
    "print(\"Sessions removed due to invalid duration:\")\n",
    "print(bad_sessions[['sessionId', 'created', 'ended', 'charge_duration_hrs']])\n",
    "\n",
    "# Now filter them out from the main DataFrame\n",
    "df = df[(df['charge_duration_hrs'] > 0) & (df['charge_duration_hrs'] <= 12)]\n",
    "\n",
    "print(\"Remaining rows after filtering:\", df.shape)"
   ]
  },
  {
   "cell_type": "markdown",
   "id": "3d9a299b-8f2b-4a6a-ae32-8b103e19bbac",
   "metadata": {},
   "source": [
    "### Histogram of Sessions Per Station"
   ]
  },
  {
   "cell_type": "code",
   "execution_count": 124,
   "id": "cb9e7123-73a0-4e60-8589-33d2b1331602",
   "metadata": {},
   "outputs": [
    {
     "data": {
      "image/png": "[encoded data removed]",
      "text/plain": [
       "<Figure size 1000x600 with 1 Axes>"
      ]
     },
     "metadata": {},
     "output_type": "display_data"
    }
   ],
   "source": [
    "import matplotlib.pyplot as plt\n",
    "\n",
    "station_counts = df['stationId'].value_counts()\n",
    "\n",
    "plt.figure(figsize=(10, 6))\n",
    "station_counts.hist(bins=30)\n",
    "plt.title('Distribution of Sessions per Station')\n",
    "plt.xlabel('Number of Sessions')\n",
    "plt.ylabel('Number of Stations')\n",
    "plt.grid(True)\n",
    "plt.show()"
   ]
  },
  {
   "cell_type": "markdown",
   "id": "ba9a07d7-3f1e-4b64-8217-304d6ca6a097",
   "metadata": {},
   "source": [
    "### Top 10 Busiest Stations"
   ]
  },
  {
   "cell_type": "code",
   "execution_count": 125,
   "id": "3e90051e-4746-4d77-bb2a-b420a7925ea2",
   "metadata": {},
   "outputs": [
    {
     "data": {
      "image/png": "[encoded data removed]",
      "text/plain": [
       "<Figure size 1000x600 with 1 Axes>"
      ]
     },
     "metadata": {},
     "output_type": "display_data"
    }
   ],
   "source": [
    "top10 = station_counts.head(10)\n",
    "\n",
    "plt.figure(figsize=(10, 6))\n",
    "top10.plot(kind='bar')\n",
    "plt.title('Top 10 Busiest Stations by Session Count')\n",
    "plt.xlabel('Station ID')\n",
    "plt.ylabel('Number of Sessions')\n",
    "plt.xticks(rotation=45)\n",
    "plt.grid(True)\n",
    "plt.show()"
   ]
  },
  {
   "cell_type": "markdown",
   "id": "d4eccb83-fac3-4fad-a051-e62eb026f8e3",
   "metadata": {},
   "source": [
    "### Time Range per Station (Min/Max created)"
   ]
  },
  {
   "cell_type": "code",
   "execution_count": 126,
   "id": "7927b730-d0ab-4f6b-a4ee-4b8fb25893d5",
   "metadata": {},
   "outputs": [
    {
     "data": {
      "image/png": "[encoded data removed]",
      "text/plain": [
       "<Figure size 1000x500 with 1 Axes>"
      ]
     },
     "metadata": {},
     "output_type": "display_data"
    }
   ],
   "source": [
    "time_range = df.groupby('stationId')['created'].agg(['min', 'max'])\n",
    "time_range['duration_days'] = (time_range['max'] - time_range['min']).dt.days\n",
    "time_range = time_range.sort_values(by='duration_days', ascending=False).head(10)\n",
    "\n",
    "time_range['duration_days'].plot(kind='bar', figsize=(10, 5))\n",
    "plt.title('Top 10 Stations by Operational Span')\n",
    "plt.ylabel('Days of Operation')\n",
    "plt.xlabel('Station ID')\n",
    "plt.xticks(rotation=45)\n",
    "plt.grid(True)\n",
    "plt.show()"
   ]
  },
  {
   "cell_type": "markdown",
   "id": "9b840876-fb52-427f-b41f-db1024a13047",
   "metadata": {},
   "source": [
    "### Heatmap of Sessions by Hour of Day"
   ]
  },
  {
   "cell_type": "code",
   "execution_count": 127,
   "id": "bf55f54f-b440-4b4c-a896-8edc2e74e503",
   "metadata": {},
   "outputs": [
    {
     "data": {
      "image/png": "[encoded data removed]",
      "text/plain": [
       "<Figure size 1200x600 with 2 Axes>"
      ]
     },
     "metadata": {},
     "output_type": "display_data"
    }
   ],
   "source": [
    "import seaborn as sns\n",
    "\n",
    "df['created_hour'] = df['created'].dt.hour\n",
    "hourly_counts = df.groupby(['stationId', 'created_hour']).size().unstack(fill_value=0)\n",
    "\n",
    "plt.figure(figsize=(12, 6))\n",
    "sns.heatmap(hourly_counts.head(10), cmap='YlGnBu', linewidths=0.3)\n",
    "plt.title('Charging Sessions by Hour of Day (Top 10 Stations)')\n",
    "plt.xlabel('Hour of Day')\n",
    "plt.ylabel('Station ID')\n",
    "plt.show()"
   ]
  },
  {
   "cell_type": "markdown",
   "id": "357de88c-b13a-49d3-8e35-b468bb1ebf13",
   "metadata": {},
   "source": [
    "### Filtering stations with > 100 sessions"
   ]
  },
  {
   "cell_type": "code",
   "execution_count": 128,
   "id": "e813a02c-5525-4af7-b70f-bcc14b7c3e82",
   "metadata": {},
   "outputs": [
    {
     "name": "stdout",
     "output_type": "stream",
     "text": [
      "Filtered data shape: (841, 26)\n",
      "Remaining stations: 4\n"
     ]
    }
   ],
   "source": [
    "# Filter stations with > 100 sessions\n",
    "station_counts = df['stationId'].value_counts()\n",
    "active_stations = station_counts[station_counts > 100].index\n",
    "df = df[df['stationId'].isin(active_stations)]\n",
    "\n",
    "print(\"Filtered data shape:\", df.shape)\n",
    "print(\"Remaining stations:\", df['stationId'].nunique())\n"
   ]
  },
  {
   "cell_type": "markdown",
   "id": "b1308979-7136-4a1d-bda9-e3e0c2cdaf67",
   "metadata": {},
   "source": [
    "### Sorting the dataset based on stationID and created"
   ]
  },
  {
   "cell_type": "code",
   "execution_count": 129,
   "id": "d4cbbead-5b65-4479-9c73-7923cd8acbb5",
   "metadata": {},
   "outputs": [],
   "source": [
    "df = df.sort_values(by=['stationId', 'created'])"
   ]
  },
  {
   "cell_type": "markdown",
   "id": "47e29694-ddb3-4647-bf7b-266098e375f7",
   "metadata": {},
   "source": [
    "### Confirm Station ID is a clean column"
   ]
  },
  {
   "cell_type": "code",
   "execution_count": 130,
   "id": "697dfc25-b990-447f-91c5-0c8f333eb00c",
   "metadata": {},
   "outputs": [],
   "source": [
    "df['stationId'] = df['stationId'].astype(str)"
   ]
  },
  {
   "cell_type": "markdown",
   "id": "511185f5-9693-4a78-9536-9fdaa9039604",
   "metadata": {},
   "source": [
    "### Ensure sessionId is unique"
   ]
  },
  {
   "cell_type": "code",
   "execution_count": 133,
   "id": "0bead3f3-68b5-4649-928a-88fa788bf012",
   "metadata": {},
   "outputs": [],
   "source": [
    "assert df['sessionId'].is_unique, \"Duplicate session IDs found!\""
   ]
  },
  {
   "cell_type": "markdown",
   "id": "528da7ee-cd0a-4bda-8bf6-af13156462b8",
   "metadata": {},
   "source": [
    "### View cleaned dataset"
   ]
  },
  {
   "cell_type": "code",
   "execution_count": 134,
   "id": "87585dec-6f1c-454d-9b28-c1c9b3ad60a4",
   "metadata": {},
   "outputs": [
    {
     "data": {
      "text/html": [
       "<div>\n",
       "<style scoped>\n",
       "    .dataframe tbody tr th:only-of-type {\n",
       "        vertical-align: middle;\n",
       "    }\n",
       "\n",
       "    .dataframe tbody tr th {\n",
       "        vertical-align: top;\n",
       "    }\n",
       "\n",
       "    .dataframe thead th {\n",
       "        text-align: right;\n",
       "    }\n",
       "</style>\n",
       "<table border=\"1\" class=\"dataframe\">\n",
       "  <thead>\n",
       "    <tr style=\"text-align: right;\">\n",
       "      <th></th>\n",
       "      <th>sessionId</th>\n",
       "      <th>kwhTotal</th>\n",
       "      <th>dollars</th>\n",
       "      <th>created</th>\n",
       "      <th>ended</th>\n",
       "      <th>chargeTimeHrs</th>\n",
       "      <th>weekday</th>\n",
       "      <th>platform</th>\n",
       "      <th>distance</th>\n",
       "      <th>userId</th>\n",
       "      <th>...</th>\n",
       "      <th>Wed</th>\n",
       "      <th>Thurs</th>\n",
       "      <th>Fri</th>\n",
       "      <th>Sat</th>\n",
       "      <th>Sun</th>\n",
       "      <th>reportedZip</th>\n",
       "      <th>created_year_part</th>\n",
       "      <th>charge_duration_hrs</th>\n",
       "      <th>created_hour</th>\n",
       "      <th>ended_hour</th>\n",
       "    </tr>\n",
       "  </thead>\n",
       "  <tbody>\n",
       "    <tr>\n",
       "      <th>1870</th>\n",
       "      <td>6748253</td>\n",
       "      <td>6.49</td>\n",
       "      <td>1.33</td>\n",
       "      <td>2015-03-17 13:06:58</td>\n",
       "      <td>2015-03-17 18:30:10</td>\n",
       "      <td>5.386667</td>\n",
       "      <td>Tue</td>\n",
       "      <td>ios</td>\n",
       "      <td>19.103700</td>\n",
       "      <td>32015313</td>\n",
       "      <td>...</td>\n",
       "      <td>0</td>\n",
       "      <td>0</td>\n",
       "      <td>0</td>\n",
       "      <td>0</td>\n",
       "      <td>0</td>\n",
       "      <td>1</td>\n",
       "      <td>0015</td>\n",
       "      <td>5.386667</td>\n",
       "      <td>13</td>\n",
       "      <td>18</td>\n",
       "    </tr>\n",
       "    <tr>\n",
       "      <th>1879</th>\n",
       "      <td>7882118</td>\n",
       "      <td>0.00</td>\n",
       "      <td>0.00</td>\n",
       "      <td>2015-03-24 18:10:46</td>\n",
       "      <td>2015-03-24 18:12:05</td>\n",
       "      <td>0.021944</td>\n",
       "      <td>Tue</td>\n",
       "      <td>ios</td>\n",
       "      <td>NaN</td>\n",
       "      <td>92192265</td>\n",
       "      <td>...</td>\n",
       "      <td>0</td>\n",
       "      <td>0</td>\n",
       "      <td>0</td>\n",
       "      <td>0</td>\n",
       "      <td>0</td>\n",
       "      <td>1</td>\n",
       "      <td>0015</td>\n",
       "      <td>0.021944</td>\n",
       "      <td>18</td>\n",
       "      <td>18</td>\n",
       "    </tr>\n",
       "    <tr>\n",
       "      <th>724</th>\n",
       "      <td>8528273</td>\n",
       "      <td>0.01</td>\n",
       "      <td>0.00</td>\n",
       "      <td>2015-03-25 12:24:27</td>\n",
       "      <td>2015-03-25 12:27:05</td>\n",
       "      <td>0.043889</td>\n",
       "      <td>Wed</td>\n",
       "      <td>ios</td>\n",
       "      <td>15.329938</td>\n",
       "      <td>49241808</td>\n",
       "      <td>...</td>\n",
       "      <td>1</td>\n",
       "      <td>0</td>\n",
       "      <td>0</td>\n",
       "      <td>0</td>\n",
       "      <td>0</td>\n",
       "      <td>1</td>\n",
       "      <td>0015</td>\n",
       "      <td>0.043889</td>\n",
       "      <td>12</td>\n",
       "      <td>12</td>\n",
       "    </tr>\n",
       "    <tr>\n",
       "      <th>1881</th>\n",
       "      <td>6511872</td>\n",
       "      <td>6.83</td>\n",
       "      <td>0.00</td>\n",
       "      <td>2015-04-01 16:51:20</td>\n",
       "      <td>2015-04-01 19:10:06</td>\n",
       "      <td>2.312778</td>\n",
       "      <td>Wed</td>\n",
       "      <td>ios</td>\n",
       "      <td>14.956477</td>\n",
       "      <td>92192265</td>\n",
       "      <td>...</td>\n",
       "      <td>1</td>\n",
       "      <td>0</td>\n",
       "      <td>0</td>\n",
       "      <td>0</td>\n",
       "      <td>0</td>\n",
       "      <td>1</td>\n",
       "      <td>0015</td>\n",
       "      <td>2.312778</td>\n",
       "      <td>16</td>\n",
       "      <td>19</td>\n",
       "    </tr>\n",
       "    <tr>\n",
       "      <th>1959</th>\n",
       "      <td>7452830</td>\n",
       "      <td>6.08</td>\n",
       "      <td>0.00</td>\n",
       "      <td>2015-05-01 10:51:57</td>\n",
       "      <td>2015-05-01 13:01:06</td>\n",
       "      <td>2.152500</td>\n",
       "      <td>Fri</td>\n",
       "      <td>ios</td>\n",
       "      <td>19.354124</td>\n",
       "      <td>46009656</td>\n",
       "      <td>...</td>\n",
       "      <td>0</td>\n",
       "      <td>0</td>\n",
       "      <td>1</td>\n",
       "      <td>0</td>\n",
       "      <td>0</td>\n",
       "      <td>1</td>\n",
       "      <td>0015</td>\n",
       "      <td>2.152500</td>\n",
       "      <td>10</td>\n",
       "      <td>13</td>\n",
       "    </tr>\n",
       "    <tr>\n",
       "      <th>...</th>\n",
       "      <td>...</td>\n",
       "      <td>...</td>\n",
       "      <td>...</td>\n",
       "      <td>...</td>\n",
       "      <td>...</td>\n",
       "      <td>...</td>\n",
       "      <td>...</td>\n",
       "      <td>...</td>\n",
       "      <td>...</td>\n",
       "      <td>...</td>\n",
       "      <td>...</td>\n",
       "      <td>...</td>\n",
       "      <td>...</td>\n",
       "      <td>...</td>\n",
       "      <td>...</td>\n",
       "      <td>...</td>\n",
       "      <td>...</td>\n",
       "      <td>...</td>\n",
       "      <td>...</td>\n",
       "      <td>...</td>\n",
       "      <td>...</td>\n",
       "    </tr>\n",
       "    <tr>\n",
       "      <th>1863</th>\n",
       "      <td>1133038</td>\n",
       "      <td>2.90</td>\n",
       "      <td>0.00</td>\n",
       "      <td>2015-10-01 11:54:48</td>\n",
       "      <td>2015-10-01 13:19:08</td>\n",
       "      <td>1.405556</td>\n",
       "      <td>Thu</td>\n",
       "      <td>ios</td>\n",
       "      <td>5.135871</td>\n",
       "      <td>81375624</td>\n",
       "      <td>...</td>\n",
       "      <td>0</td>\n",
       "      <td>1</td>\n",
       "      <td>0</td>\n",
       "      <td>0</td>\n",
       "      <td>0</td>\n",
       "      <td>1</td>\n",
       "      <td>0015</td>\n",
       "      <td>1.405556</td>\n",
       "      <td>11</td>\n",
       "      <td>13</td>\n",
       "    </tr>\n",
       "    <tr>\n",
       "      <th>3087</th>\n",
       "      <td>3323388</td>\n",
       "      <td>4.86</td>\n",
       "      <td>0.00</td>\n",
       "      <td>2015-10-02 09:54:49</td>\n",
       "      <td>2015-10-02 12:02:07</td>\n",
       "      <td>2.121667</td>\n",
       "      <td>Fri</td>\n",
       "      <td>ios</td>\n",
       "      <td>3.984417</td>\n",
       "      <td>66233970</td>\n",
       "      <td>...</td>\n",
       "      <td>0</td>\n",
       "      <td>0</td>\n",
       "      <td>1</td>\n",
       "      <td>0</td>\n",
       "      <td>0</td>\n",
       "      <td>1</td>\n",
       "      <td>0015</td>\n",
       "      <td>2.121667</td>\n",
       "      <td>9</td>\n",
       "      <td>12</td>\n",
       "    </tr>\n",
       "    <tr>\n",
       "      <th>1864</th>\n",
       "      <td>3831208</td>\n",
       "      <td>0.00</td>\n",
       "      <td>0.00</td>\n",
       "      <td>2015-10-02 12:02:04</td>\n",
       "      <td>2015-10-02 12:03:07</td>\n",
       "      <td>0.017500</td>\n",
       "      <td>Fri</td>\n",
       "      <td>ios</td>\n",
       "      <td>NaN</td>\n",
       "      <td>81375624</td>\n",
       "      <td>...</td>\n",
       "      <td>0</td>\n",
       "      <td>0</td>\n",
       "      <td>1</td>\n",
       "      <td>0</td>\n",
       "      <td>0</td>\n",
       "      <td>1</td>\n",
       "      <td>0015</td>\n",
       "      <td>0.017500</td>\n",
       "      <td>12</td>\n",
       "      <td>12</td>\n",
       "    </tr>\n",
       "    <tr>\n",
       "      <th>1865</th>\n",
       "      <td>5584844</td>\n",
       "      <td>4.72</td>\n",
       "      <td>0.00</td>\n",
       "      <td>2015-10-02 12:03:25</td>\n",
       "      <td>2015-10-02 14:08:07</td>\n",
       "      <td>2.078333</td>\n",
       "      <td>Fri</td>\n",
       "      <td>ios</td>\n",
       "      <td>5.135871</td>\n",
       "      <td>81375624</td>\n",
       "      <td>...</td>\n",
       "      <td>0</td>\n",
       "      <td>0</td>\n",
       "      <td>1</td>\n",
       "      <td>0</td>\n",
       "      <td>0</td>\n",
       "      <td>1</td>\n",
       "      <td>0015</td>\n",
       "      <td>2.078333</td>\n",
       "      <td>12</td>\n",
       "      <td>14</td>\n",
       "    </tr>\n",
       "    <tr>\n",
       "      <th>1866</th>\n",
       "      <td>2214150</td>\n",
       "      <td>2.50</td>\n",
       "      <td>0.00</td>\n",
       "      <td>2015-10-02 15:47:03</td>\n",
       "      <td>2015-10-02 17:05:09</td>\n",
       "      <td>1.301667</td>\n",
       "      <td>Fri</td>\n",
       "      <td>ios</td>\n",
       "      <td>5.135871</td>\n",
       "      <td>81375624</td>\n",
       "      <td>...</td>\n",
       "      <td>0</td>\n",
       "      <td>0</td>\n",
       "      <td>1</td>\n",
       "      <td>0</td>\n",
       "      <td>0</td>\n",
       "      <td>1</td>\n",
       "      <td>0015</td>\n",
       "      <td>1.301667</td>\n",
       "      <td>15</td>\n",
       "      <td>17</td>\n",
       "    </tr>\n",
       "  </tbody>\n",
       "</table>\n",
       "<p>841 rows × 26 columns</p>\n",
       "</div>"
      ],
      "text/plain": [
       "      sessionId  kwhTotal  dollars             created               ended  \\\n",
       "1870    6748253      6.49     1.33 2015-03-17 13:06:58 2015-03-17 18:30:10   \n",
       "1879    7882118      0.00     0.00 2015-03-24 18:10:46 2015-03-24 18:12:05   \n",
       "724     8528273      0.01     0.00 2015-03-25 12:24:27 2015-03-25 12:27:05   \n",
       "1881    6511872      6.83     0.00 2015-04-01 16:51:20 2015-04-01 19:10:06   \n",
       "1959    7452830      6.08     0.00 2015-05-01 10:51:57 2015-05-01 13:01:06   \n",
       "...         ...       ...      ...                 ...                 ...   \n",
       "1863    1133038      2.90     0.00 2015-10-01 11:54:48 2015-10-01 13:19:08   \n",
       "3087    3323388      4.86     0.00 2015-10-02 09:54:49 2015-10-02 12:02:07   \n",
       "1864    3831208      0.00     0.00 2015-10-02 12:02:04 2015-10-02 12:03:07   \n",
       "1865    5584844      4.72     0.00 2015-10-02 12:03:25 2015-10-02 14:08:07   \n",
       "1866    2214150      2.50     0.00 2015-10-02 15:47:03 2015-10-02 17:05:09   \n",
       "\n",
       "      chargeTimeHrs weekday platform   distance    userId  ... Wed  Thurs  \\\n",
       "1870       5.386667     Tue      ios  19.103700  32015313  ...   0      0   \n",
       "1879       0.021944     Tue      ios        NaN  92192265  ...   0      0   \n",
       "724        0.043889     Wed      ios  15.329938  49241808  ...   1      0   \n",
       "1881       2.312778     Wed      ios  14.956477  92192265  ...   1      0   \n",
       "1959       2.152500     Fri      ios  19.354124  46009656  ...   0      0   \n",
       "...             ...     ...      ...        ...       ...  ...  ..    ...   \n",
       "1863       1.405556     Thu      ios   5.135871  81375624  ...   0      1   \n",
       "3087       2.121667     Fri      ios   3.984417  66233970  ...   0      0   \n",
       "1864       0.017500     Fri      ios        NaN  81375624  ...   0      0   \n",
       "1865       2.078333     Fri      ios   5.135871  81375624  ...   0      0   \n",
       "1866       1.301667     Fri      ios   5.135871  81375624  ...   0      0   \n",
       "\n",
       "      Fri  Sat  Sun  reportedZip  created_year_part  charge_duration_hrs  \\\n",
       "1870    0    0    0            1               0015             5.386667   \n",
       "1879    0    0    0            1               0015             0.021944   \n",
       "724     0    0    0            1               0015             0.043889   \n",
       "1881    0    0    0            1               0015             2.312778   \n",
       "1959    1    0    0            1               0015             2.152500   \n",
       "...   ...  ...  ...          ...                ...                  ...   \n",
       "1863    0    0    0            1               0015             1.405556   \n",
       "3087    1    0    0            1               0015             2.121667   \n",
       "1864    1    0    0            1               0015             0.017500   \n",
       "1865    1    0    0            1               0015             2.078333   \n",
       "1866    1    0    0            1               0015             1.301667   \n",
       "\n",
       "      created_hour  ended_hour  \n",
       "1870            13          18  \n",
       "1879            18          18  \n",
       "724             12          12  \n",
       "1881            16          19  \n",
       "1959            10          13  \n",
       "...            ...         ...  \n",
       "1863            11          13  \n",
       "3087             9          12  \n",
       "1864            12          12  \n",
       "1865            12          14  \n",
       "1866            15          17  \n",
       "\n",
       "[841 rows x 26 columns]"
      ]
     },
     "execution_count": 134,
     "metadata": {},
     "output_type": "execute_result"
    }
   ],
   "source": [
    "df"
   ]
  },
  {
   "cell_type": "code",
   "execution_count": 138,
   "id": "02570d5c-b1ba-4f0d-af2d-16a528dce933",
   "metadata": {},
   "outputs": [
    {
     "data": {
      "text/plain": [
       "<bound method NDFrame.describe of       sessionId  kwhTotal  dollars             created               ended  \\\n",
       "1870    6748253      6.49     1.33 2015-03-17 13:06:58 2015-03-17 18:30:10   \n",
       "1879    7882118      0.00     0.00 2015-03-24 18:10:46 2015-03-24 18:12:05   \n",
       "724     8528273      0.01     0.00 2015-03-25 12:24:27 2015-03-25 12:27:05   \n",
       "1881    6511872      6.83     0.00 2015-04-01 16:51:20 2015-04-01 19:10:06   \n",
       "1959    7452830      6.08     0.00 2015-05-01 10:51:57 2015-05-01 13:01:06   \n",
       "...         ...       ...      ...                 ...                 ...   \n",
       "1863    1133038      2.90     0.00 2015-10-01 11:54:48 2015-10-01 13:19:08   \n",
       "3087    3323388      4.86     0.00 2015-10-02 09:54:49 2015-10-02 12:02:07   \n",
       "1864    3831208      0.00     0.00 2015-10-02 12:02:04 2015-10-02 12:03:07   \n",
       "1865    5584844      4.72     0.00 2015-10-02 12:03:25 2015-10-02 14:08:07   \n",
       "1866    2214150      2.50     0.00 2015-10-02 15:47:03 2015-10-02 17:05:09   \n",
       "\n",
       "      chargeTimeHrs weekday platform   distance    userId  ... Wed  Thurs  \\\n",
       "1870       5.386667     Tue      ios  19.103700  32015313  ...   0      0   \n",
       "1879       0.021944     Tue      ios        NaN  92192265  ...   0      0   \n",
       "724        0.043889     Wed      ios  15.329938  49241808  ...   1      0   \n",
       "1881       2.312778     Wed      ios  14.956477  92192265  ...   1      0   \n",
       "1959       2.152500     Fri      ios  19.354124  46009656  ...   0      0   \n",
       "...             ...     ...      ...        ...       ...  ...  ..    ...   \n",
       "1863       1.405556     Thu      ios   5.135871  81375624  ...   0      1   \n",
       "3087       2.121667     Fri      ios   3.984417  66233970  ...   0      0   \n",
       "1864       0.017500     Fri      ios        NaN  81375624  ...   0      0   \n",
       "1865       2.078333     Fri      ios   5.135871  81375624  ...   0      0   \n",
       "1866       1.301667     Fri      ios   5.135871  81375624  ...   0      0   \n",
       "\n",
       "      Fri  Sat  Sun  reportedZip  created_year_part  charge_duration_hrs  \\\n",
       "1870    0    0    0            1               0015             5.386667   \n",
       "1879    0    0    0            1               0015             0.021944   \n",
       "724     0    0    0            1               0015             0.043889   \n",
       "1881    0    0    0            1               0015             2.312778   \n",
       "1959    1    0    0            1               0015             2.152500   \n",
       "...   ...  ...  ...          ...                ...                  ...   \n",
       "1863    0    0    0            1               0015             1.405556   \n",
       "3087    1    0    0            1               0015             2.121667   \n",
       "1864    1    0    0            1               0015             0.017500   \n",
       "1865    1    0    0            1               0015             2.078333   \n",
       "1866    1    0    0            1               0015             1.301667   \n",
       "\n",
       "      created_hour  ended_hour  \n",
       "1870            13          18  \n",
       "1879            18          18  \n",
       "724             12          12  \n",
       "1881            16          19  \n",
       "1959            10          13  \n",
       "...            ...         ...  \n",
       "1863            11          13  \n",
       "3087             9          12  \n",
       "1864            12          12  \n",
       "1865            12          14  \n",
       "1866            15          17  \n",
       "\n",
       "[841 rows x 26 columns]>"
      ]
     },
     "execution_count": 138,
     "metadata": {},
     "output_type": "execute_result"
    }
   ],
   "source": [
    "df.describe"
   ]
  },
  {
   "cell_type": "markdown",
   "id": "d9ee4114-3804-4fdd-b46d-790567a26947",
   "metadata": {},
   "source": [
    "### Download the cleaned dataset"
   ]
  },
  {
   "cell_type": "code",
   "execution_count": 148,
   "id": "1bce623a-281b-48be-8039-500d9c8c0d37",
   "metadata": {},
   "outputs": [],
   "source": [
    "# Save the DataFrame to a CSV file\n",
    "df.to_csv('pre-processed-dataset.csv', index=False)"
   ]
  },
  {
   "cell_type": "markdown",
   "id": "f8d48347-73eb-492a-a50c-100112d6f4fd",
   "metadata": {},
   "source": [
    "## Time Series Construction "
   ]
  },
  {
   "cell_type": "markdown",
   "id": "cb38d16e-f130-4eb7-b183-8d7693e65d03",
   "metadata": {},
   "source": [
    "### 📦 Load the Dataset"
   ]
  },
  {
   "cell_type": "code",
   "execution_count": 104,
   "id": "6b8b164c-baf4-43c8-92e3-1356feeb0a6d",
   "metadata": {},
   "outputs": [
    {
     "name": "stdout",
     "output_type": "stream",
     "text": [
      "Shape: (841, 26)\n"
     ]
    },
    {
     "data": {
      "text/html": [
       "<div>\n",
       "<style scoped>\n",
       "    .dataframe tbody tr th:only-of-type {\n",
       "        vertical-align: middle;\n",
       "    }\n",
       "\n",
       "    .dataframe tbody tr th {\n",
       "        vertical-align: top;\n",
       "    }\n",
       "\n",
       "    .dataframe thead th {\n",
       "        text-align: right;\n",
       "    }\n",
       "</style>\n",
       "<table border=\"1\" class=\"dataframe\">\n",
       "  <thead>\n",
       "    <tr style=\"text-align: right;\">\n",
       "      <th></th>\n",
       "      <th>sessionId</th>\n",
       "      <th>kwhTotal</th>\n",
       "      <th>dollars</th>\n",
       "      <th>created</th>\n",
       "      <th>ended</th>\n",
       "      <th>chargeTimeHrs</th>\n",
       "      <th>weekday</th>\n",
       "      <th>platform</th>\n",
       "      <th>distance</th>\n",
       "      <th>userId</th>\n",
       "      <th>...</th>\n",
       "      <th>Wed</th>\n",
       "      <th>Thurs</th>\n",
       "      <th>Fri</th>\n",
       "      <th>Sat</th>\n",
       "      <th>Sun</th>\n",
       "      <th>reportedZip</th>\n",
       "      <th>created_year_part</th>\n",
       "      <th>charge_duration_hrs</th>\n",
       "      <th>created_hour</th>\n",
       "      <th>ended_hour</th>\n",
       "    </tr>\n",
       "  </thead>\n",
       "  <tbody>\n",
       "    <tr>\n",
       "      <th>0</th>\n",
       "      <td>6748253</td>\n",
       "      <td>6.49</td>\n",
       "      <td>1.33</td>\n",
       "      <td>2015-03-17 13:06:58</td>\n",
       "      <td>2015-03-17 18:30:10</td>\n",
       "      <td>5.386667</td>\n",
       "      <td>Tue</td>\n",
       "      <td>ios</td>\n",
       "      <td>19.103700</td>\n",
       "      <td>32015313</td>\n",
       "      <td>...</td>\n",
       "      <td>0</td>\n",
       "      <td>0</td>\n",
       "      <td>0</td>\n",
       "      <td>0</td>\n",
       "      <td>0</td>\n",
       "      <td>1</td>\n",
       "      <td>15</td>\n",
       "      <td>5.386667</td>\n",
       "      <td>13</td>\n",
       "      <td>18</td>\n",
       "    </tr>\n",
       "    <tr>\n",
       "      <th>1</th>\n",
       "      <td>7882118</td>\n",
       "      <td>0.00</td>\n",
       "      <td>0.00</td>\n",
       "      <td>2015-03-24 18:10:46</td>\n",
       "      <td>2015-03-24 18:12:05</td>\n",
       "      <td>0.021944</td>\n",
       "      <td>Tue</td>\n",
       "      <td>ios</td>\n",
       "      <td>NaN</td>\n",
       "      <td>92192265</td>\n",
       "      <td>...</td>\n",
       "      <td>0</td>\n",
       "      <td>0</td>\n",
       "      <td>0</td>\n",
       "      <td>0</td>\n",
       "      <td>0</td>\n",
       "      <td>1</td>\n",
       "      <td>15</td>\n",
       "      <td>0.021944</td>\n",
       "      <td>18</td>\n",
       "      <td>18</td>\n",
       "    </tr>\n",
       "    <tr>\n",
       "      <th>2</th>\n",
       "      <td>8528273</td>\n",
       "      <td>0.01</td>\n",
       "      <td>0.00</td>\n",
       "      <td>2015-03-25 12:24:27</td>\n",
       "      <td>2015-03-25 12:27:05</td>\n",
       "      <td>0.043889</td>\n",
       "      <td>Wed</td>\n",
       "      <td>ios</td>\n",
       "      <td>15.329938</td>\n",
       "      <td>49241808</td>\n",
       "      <td>...</td>\n",
       "      <td>1</td>\n",
       "      <td>0</td>\n",
       "      <td>0</td>\n",
       "      <td>0</td>\n",
       "      <td>0</td>\n",
       "      <td>1</td>\n",
       "      <td>15</td>\n",
       "      <td>0.043889</td>\n",
       "      <td>12</td>\n",
       "      <td>12</td>\n",
       "    </tr>\n",
       "    <tr>\n",
       "      <th>3</th>\n",
       "      <td>6511872</td>\n",
       "      <td>6.83</td>\n",
       "      <td>0.00</td>\n",
       "      <td>2015-04-01 16:51:20</td>\n",
       "      <td>2015-04-01 19:10:06</td>\n",
       "      <td>2.312778</td>\n",
       "      <td>Wed</td>\n",
       "      <td>ios</td>\n",
       "      <td>14.956477</td>\n",
       "      <td>92192265</td>\n",
       "      <td>...</td>\n",
       "      <td>1</td>\n",
       "      <td>0</td>\n",
       "      <td>0</td>\n",
       "      <td>0</td>\n",
       "      <td>0</td>\n",
       "      <td>1</td>\n",
       "      <td>15</td>\n",
       "      <td>2.312778</td>\n",
       "      <td>16</td>\n",
       "      <td>19</td>\n",
       "    </tr>\n",
       "    <tr>\n",
       "      <th>4</th>\n",
       "      <td>7452830</td>\n",
       "      <td>6.08</td>\n",
       "      <td>0.00</td>\n",
       "      <td>2015-05-01 10:51:57</td>\n",
       "      <td>2015-05-01 13:01:06</td>\n",
       "      <td>2.152500</td>\n",
       "      <td>Fri</td>\n",
       "      <td>ios</td>\n",
       "      <td>19.354124</td>\n",
       "      <td>46009656</td>\n",
       "      <td>...</td>\n",
       "      <td>0</td>\n",
       "      <td>0</td>\n",
       "      <td>1</td>\n",
       "      <td>0</td>\n",
       "      <td>0</td>\n",
       "      <td>1</td>\n",
       "      <td>15</td>\n",
       "      <td>2.152500</td>\n",
       "      <td>10</td>\n",
       "      <td>13</td>\n",
       "    </tr>\n",
       "  </tbody>\n",
       "</table>\n",
       "<p>5 rows × 26 columns</p>\n",
       "</div>"
      ],
      "text/plain": [
       "   sessionId  kwhTotal  dollars             created               ended  \\\n",
       "0    6748253      6.49     1.33 2015-03-17 13:06:58 2015-03-17 18:30:10   \n",
       "1    7882118      0.00     0.00 2015-03-24 18:10:46 2015-03-24 18:12:05   \n",
       "2    8528273      0.01     0.00 2015-03-25 12:24:27 2015-03-25 12:27:05   \n",
       "3    6511872      6.83     0.00 2015-04-01 16:51:20 2015-04-01 19:10:06   \n",
       "4    7452830      6.08     0.00 2015-05-01 10:51:57 2015-05-01 13:01:06   \n",
       "\n",
       "   chargeTimeHrs weekday platform   distance    userId  ...  Wed  Thurs  Fri  \\\n",
       "0       5.386667     Tue      ios  19.103700  32015313  ...    0      0    0   \n",
       "1       0.021944     Tue      ios        NaN  92192265  ...    0      0    0   \n",
       "2       0.043889     Wed      ios  15.329938  49241808  ...    1      0    0   \n",
       "3       2.312778     Wed      ios  14.956477  92192265  ...    1      0    0   \n",
       "4       2.152500     Fri      ios  19.354124  46009656  ...    0      0    1   \n",
       "\n",
       "   Sat  Sun  reportedZip  created_year_part  charge_duration_hrs  \\\n",
       "0    0    0            1                 15             5.386667   \n",
       "1    0    0            1                 15             0.021944   \n",
       "2    0    0            1                 15             0.043889   \n",
       "3    0    0            1                 15             2.312778   \n",
       "4    0    0            1                 15             2.152500   \n",
       "\n",
       "   created_hour  ended_hour  \n",
       "0            13          18  \n",
       "1            18          18  \n",
       "2            12          12  \n",
       "3            16          19  \n",
       "4            10          13  \n",
       "\n",
       "[5 rows x 26 columns]"
      ]
     },
     "execution_count": 104,
     "metadata": {},
     "output_type": "execute_result"
    }
   ],
   "source": [
    "import pandas as pd\n",
    "import numpy as np\n",
    "\n",
    "# Load the cleaned dataset\n",
    "df = pd.read_csv(\"pre-processed-dataset.csv\", parse_dates=['created', 'ended'])\n",
    "\n",
    "# Get the shape of the dataset\n",
    "print(\"Shape:\", df.shape)\n",
    "df.head()"
   ]
  },
  {
   "cell_type": "markdown",
   "id": "187b4366-d91f-4654-b43f-207a63f95199",
   "metadata": {},
   "source": [
    "### 🔃 Sort and Sanity Check"
   ]
  },
  {
   "cell_type": "code",
   "execution_count": 101,
   "id": "fd459077-e57b-4cd2-81b9-12a763189bd4",
   "metadata": {},
   "outputs": [
    {
     "name": "stdout",
     "output_type": "stream",
     "text": [
      "Earliest session: 2015-03-07 13:29:10\n",
      "Latest session: 2015-10-04 15:54:06\n",
      "Unique stations: 4\n"
     ]
    }
   ],
   "source": [
    "# Ensure data is sorted\n",
    "df = df.sort_values(by=['stationId', 'created'])\n",
    "\n",
    "# Confirm time range\n",
    "print(\"Earliest session:\", df['created'].min())\n",
    "print(\"Latest session:\", df['ended'].max())\n",
    "\n",
    "# Check number of stations\n",
    "print(\"Unique stations:\", df['stationId'].nunique())"
   ]
  },
  {
   "cell_type": "markdown",
   "id": "0de24a00-e997-4fb7-b2f8-e625101539e5",
   "metadata": {},
   "source": [
    "### 🕒 Define Time Bins (60-minute intervals)"
   ]
  },
  {
   "cell_type": "code",
   "execution_count": 102,
   "id": "fa9063f3-24ab-4aac-b2aa-0a801e78057b",
   "metadata": {},
   "outputs": [
    {
     "name": "stdout",
     "output_type": "stream",
     "text": [
      "Number of 120-min intervals: 2535\n"
     ]
    }
   ],
   "source": [
    "# Define 120-minute (2-hour) bin edges\n",
    "start_time = df['created'].min().floor('120min')\n",
    "end_time = df['ended'].max().ceil('120min')\n",
    "all_bins = pd.date_range(start=start_time, end=end_time, freq='120min')\n",
    "\n",
    "print(f\"Number of 120-min intervals: {len(all_bins)}\")"
   ]
  },
  {
   "cell_type": "markdown",
   "id": "f60f12f9-4e8c-45c8-a4e7-7806a85e39df",
   "metadata": {},
   "source": [
    "### 🏗 Construct Time Series per Station"
   ]
  },
  {
   "cell_type": "code",
   "execution_count": 73,
   "id": "d5612b4c-2cc8-46c1-bd91-2232523f3fd5",
   "metadata": {},
   "outputs": [],
   "source": [
    "# Get List of stations\n",
    "stations = df['stationId'].unique()\n",
    "\n",
    "# Create empty list to store results\n",
    "records = []\n",
    "\n",
    "# Iterate through stations and 120-minute bins\n",
    "for station in stations:\n",
    "    df_station = df[df['stationId'] == station]\n",
    "    \n",
    "    for t in all_bins:\n",
    "        t_end = t + pd.Timedelta(hours=2)  # 120-minute window\n",
    "\n",
    "        # Count arrivals in [t, t+120)\n",
    "        arrivals = df_station[(df_station['created'] >= t) & (df_station['created'] < t_end)].shape[0]\n",
    "\n",
    "        # Count departures in [t, t+120)\n",
    "        departures = df_station[(df_station['ended'] >= t) & (df_station['ended'] < t_end)].shape[0]\n",
    "\n",
    "        # Count occupancy: sessions active at time t\n",
    "        occupancy = df_station[(df_station['created'] <= t) & (df_station['ended'] > t)].shape[0]\n",
    "\n",
    "        # Append result\n",
    "        records.append([station, t, arrivals, departures, occupancy])\n"
   ]
  },
  {
   "cell_type": "markdown",
   "id": "21a11208-c693-4daa-b76b-071dafe9af72",
   "metadata": {},
   "source": [
    "### 🧾 Create DataFrame and Save"
   ]
  },
  {
   "cell_type": "code",
   "execution_count": 74,
   "id": "319669d9-debd-48eb-8bd4-07f1c06dea44",
   "metadata": {},
   "outputs": [
    {
     "name": "stdout",
     "output_type": "stream",
     "text": [
      "60-minute binned time series saved as 'station_timeseries_60min.csv'\n"
     ]
    }
   ],
   "source": [
    "# Convert to DataFrame\n",
    "ts_df = pd.DataFrame(records, columns=['stationId', 'timestamp', 'arrivals', 'departures', 'occupancy'])\n",
    "\n",
    "# Save to CSV\n",
    "ts_df.to_csv(\"station_timeseries_120min.csv\", index=False)\n",
    "\n",
    "print(\"120-minute binned time series saved as 'station_timeseries_120min.csv'\")\n"
   ]
  },
  {
   "cell_type": "code",
   "execution_count": 76,
   "id": "eb6b7c7f-2b3d-46e4-a166-94f885b4c367",
   "metadata": {},
   "outputs": [
    {
     "data": {
      "text/html": [
       "<div>\n",
       "<style scoped>\n",
       "    .dataframe tbody tr th:only-of-type {\n",
       "        vertical-align: middle;\n",
       "    }\n",
       "\n",
       "    .dataframe tbody tr th {\n",
       "        vertical-align: top;\n",
       "    }\n",
       "\n",
       "    .dataframe thead th {\n",
       "        text-align: right;\n",
       "    }\n",
       "</style>\n",
       "<table border=\"1\" class=\"dataframe\">\n",
       "  <thead>\n",
       "    <tr style=\"text-align: right;\">\n",
       "      <th></th>\n",
       "      <th>stationId</th>\n",
       "      <th>timestamp</th>\n",
       "      <th>arrivals</th>\n",
       "      <th>departures</th>\n",
       "      <th>occupancy</th>\n",
       "    </tr>\n",
       "  </thead>\n",
       "  <tbody>\n",
       "    <tr>\n",
       "      <th>0</th>\n",
       "      <td>228137</td>\n",
       "      <td>2015-03-07 13:00:00</td>\n",
       "      <td>0</td>\n",
       "      <td>0</td>\n",
       "      <td>0</td>\n",
       "    </tr>\n",
       "    <tr>\n",
       "      <th>1</th>\n",
       "      <td>228137</td>\n",
       "      <td>2015-03-07 14:00:00</td>\n",
       "      <td>0</td>\n",
       "      <td>0</td>\n",
       "      <td>0</td>\n",
       "    </tr>\n",
       "    <tr>\n",
       "      <th>2</th>\n",
       "      <td>228137</td>\n",
       "      <td>2015-03-07 15:00:00</td>\n",
       "      <td>0</td>\n",
       "      <td>0</td>\n",
       "      <td>0</td>\n",
       "    </tr>\n",
       "    <tr>\n",
       "      <th>3</th>\n",
       "      <td>228137</td>\n",
       "      <td>2015-03-07 16:00:00</td>\n",
       "      <td>0</td>\n",
       "      <td>0</td>\n",
       "      <td>0</td>\n",
       "    </tr>\n",
       "    <tr>\n",
       "      <th>4</th>\n",
       "      <td>228137</td>\n",
       "      <td>2015-03-07 17:00:00</td>\n",
       "      <td>0</td>\n",
       "      <td>0</td>\n",
       "      <td>0</td>\n",
       "    </tr>\n",
       "  </tbody>\n",
       "</table>\n",
       "</div>"
      ],
      "text/plain": [
       "   stationId            timestamp  arrivals  departures  occupancy\n",
       "0     228137  2015-03-07 13:00:00         0           0          0\n",
       "1     228137  2015-03-07 14:00:00         0           0          0\n",
       "2     228137  2015-03-07 15:00:00         0           0          0\n",
       "3     228137  2015-03-07 16:00:00         0           0          0\n",
       "4     228137  2015-03-07 17:00:00         0           0          0"
      ]
     },
     "execution_count": 76,
     "metadata": {},
     "output_type": "execute_result"
    }
   ],
   "source": [
    "# Reading and checking the timeseries data\n",
    "import pandas as pd\n",
    "\n",
    "ts_df = pd.read_csv('station_timeseries_60min.csv')\n",
    "ts_df.head()"
   ]
  },
  {
   "cell_type": "markdown",
   "id": "358a8881-0964-4228-ab50-f407f38f2f22",
   "metadata": {},
   "source": [
    "## 🧠 Feature Engineering & Target Creation\n",
    "Before modelling (LSTM or any other), you need to:\n",
    "\n",
    "  1. Enhance your time series with useful features (calendar, lags, rolling stats)\n",
    "\n",
    "  2. Define prediction targets (what the model should learn to forecast)"
   ]
  },
  {
   "cell_type": "markdown",
   "id": "025c0013-057a-49c2-bfcf-529d8f714e6d",
   "metadata": {},
   "source": [
    "### 🧠 Step: Feature Engineering & Target Creation\n",
    "\n",
    "#### 📦 Step 1: Load the Time Series Data"
   ]
  },
  {
   "cell_type": "code",
   "execution_count": 77,
   "id": "62e7cd0a-8232-4b96-b4c9-3803ea17c0b2",
   "metadata": {},
   "outputs": [],
   "source": [
    "import pandas as pd\n",
    "\n",
    "# Load the binned time series\n",
    "ts_df = pd.read_csv(\"station_timeseries_60min.csv\", parse_dates=['timestamp'])\n",
    "\n",
    "# Sort for group-wise operations\n",
    "ts_df = ts_df.sort_values(by=['stationId', 'timestamp'])"
   ]
  },
  {
   "cell_type": "markdown",
   "id": "0714e85e-858d-4da8-87ce-707634fcbcfd",
   "metadata": {},
   "source": [
    "#### 🕒 Step 2: Add Time-based Features"
   ]
  },
  {
   "cell_type": "code",
   "execution_count": 78,
   "id": "eeb53fad-964c-4236-9dbd-123a7eb08948",
   "metadata": {},
   "outputs": [],
   "source": [
    "# Temporal features\n",
    "ts_df['hour'] = ts_df['timestamp'].dt.hour\n",
    "ts_df['day_of_week'] = ts_df['timestamp'].dt.dayofweek\n",
    "ts_df['is_weekend'] = ts_df['day_of_week'] >= 5"
   ]
  },
  {
   "cell_type": "markdown",
   "id": "65ae9631-4ebf-4e73-91e3-3850cf34d526",
   "metadata": {},
   "source": [
    "#### 🔁 Step 3: Add Lag Features\n",
    "\n",
    "We'll add lagged occupancy values to help the model \"remember\" recent behavior."
   ]
  },
  {
   "cell_type": "code",
   "execution_count": 79,
   "id": "de380186-2971-461a-9cd5-92158cd648f3",
   "metadata": {},
   "outputs": [],
   "source": [
    "# Lag features: occupancy 1, 2, 4 steps ago\n",
    "for lag in [1, 2, 4]:\n",
    "    ts_df[f'occupancy_lag_{lag}'] = ts_df.groupby('stationId')['occupancy'].shift(lag)\n"
   ]
  },
  {
   "cell_type": "markdown",
   "id": "0a505e4e-f63c-4127-a034-05f1c1030d32",
   "metadata": {},
   "source": [
    "#### 📉 Step 4: Add Rolling Averages\n",
    "\n",
    "Smooth trends in recent occupancy — helpful for LSTM and tree-based models."
   ]
  },
  {
   "cell_type": "code",
   "execution_count": 80,
   "id": "9f6e3f20-947c-47b2-a823-a83a9fe8111c",
   "metadata": {},
   "outputs": [],
   "source": [
    "# 2-hour and 4-hour rolling averages (8 and 16 steps of 15 mins)\n",
    "ts_df['occupancy_ma_8'] = ts_df.groupby('stationId')['occupancy'].transform(lambda x: x.rolling(8).mean())\n",
    "ts_df['occupancy_ma_16'] = ts_df.groupby('stationId')['occupancy'].transform(lambda x: x.rolling(16).mean())\n"
   ]
  },
  {
   "cell_type": "markdown",
   "id": "83e02ef5-df2d-43f4-92b1-3f33ef411f0e",
   "metadata": {},
   "source": [
    "#### 🎯 Step 5: Define Prediction Targets\n",
    "\n",
    "Your model will predict:\n",
    "\n",
    "- **target_occupancy**: occupancy one interval ahead\n",
    "\n",
    "- **target_arrivals**: arrival count one interval ahead"
   ]
  },
  {
   "cell_type": "code",
   "execution_count": 81,
   "id": "173701ea-7ea9-486b-86d2-28e612e1e0ec",
   "metadata": {},
   "outputs": [],
   "source": [
    "# Prediction targets (t+1 step)\n",
    "ts_df['target_occupancy'] = ts_df.groupby('stationId')['occupancy'].shift(-1)\n",
    "ts_df['target_arrivals'] = ts_df.groupby('stationId')['arrivals'].shift(-1)\n"
   ]
  },
  {
   "cell_type": "markdown",
   "id": "8b9a964d-7ac9-4c8a-870f-9d37840125dd",
   "metadata": {},
   "source": [
    "#### 🧹 Step 6: Drop Rows with Missing Values (from shifting/rolling)"
   ]
  },
  {
   "cell_type": "code",
   "execution_count": 82,
   "id": "8a651ad4-0085-4b55-86f4-edd8b0786285",
   "metadata": {},
   "outputs": [
    {
     "name": "stdout",
     "output_type": "stream",
     "text": [
      "Final shape after feature engineering: (20208, 15)\n"
     ]
    },
    {
     "data": {
      "text/html": [
       "<div>\n",
       "<style scoped>\n",
       "    .dataframe tbody tr th:only-of-type {\n",
       "        vertical-align: middle;\n",
       "    }\n",
       "\n",
       "    .dataframe tbody tr th {\n",
       "        vertical-align: top;\n",
       "    }\n",
       "\n",
       "    .dataframe thead th {\n",
       "        text-align: right;\n",
       "    }\n",
       "</style>\n",
       "<table border=\"1\" class=\"dataframe\">\n",
       "  <thead>\n",
       "    <tr style=\"text-align: right;\">\n",
       "      <th></th>\n",
       "      <th>stationId</th>\n",
       "      <th>timestamp</th>\n",
       "      <th>arrivals</th>\n",
       "      <th>departures</th>\n",
       "      <th>occupancy</th>\n",
       "      <th>hour</th>\n",
       "      <th>day_of_week</th>\n",
       "      <th>is_weekend</th>\n",
       "      <th>occupancy_lag_1</th>\n",
       "      <th>occupancy_lag_2</th>\n",
       "      <th>occupancy_lag_4</th>\n",
       "      <th>occupancy_ma_8</th>\n",
       "      <th>occupancy_ma_16</th>\n",
       "      <th>target_occupancy</th>\n",
       "      <th>target_arrivals</th>\n",
       "    </tr>\n",
       "  </thead>\n",
       "  <tbody>\n",
       "    <tr>\n",
       "      <th>0</th>\n",
       "      <td>228137</td>\n",
       "      <td>2015-03-08 04:00:00</td>\n",
       "      <td>0</td>\n",
       "      <td>0</td>\n",
       "      <td>0</td>\n",
       "      <td>4</td>\n",
       "      <td>6</td>\n",
       "      <td>True</td>\n",
       "      <td>0.0</td>\n",
       "      <td>0.0</td>\n",
       "      <td>0.0</td>\n",
       "      <td>0.0</td>\n",
       "      <td>0.0</td>\n",
       "      <td>0.0</td>\n",
       "      <td>0.0</td>\n",
       "    </tr>\n",
       "    <tr>\n",
       "      <th>1</th>\n",
       "      <td>228137</td>\n",
       "      <td>2015-03-08 05:00:00</td>\n",
       "      <td>0</td>\n",
       "      <td>0</td>\n",
       "      <td>0</td>\n",
       "      <td>5</td>\n",
       "      <td>6</td>\n",
       "      <td>True</td>\n",
       "      <td>0.0</td>\n",
       "      <td>0.0</td>\n",
       "      <td>0.0</td>\n",
       "      <td>0.0</td>\n",
       "      <td>0.0</td>\n",
       "      <td>0.0</td>\n",
       "      <td>0.0</td>\n",
       "    </tr>\n",
       "    <tr>\n",
       "      <th>2</th>\n",
       "      <td>228137</td>\n",
       "      <td>2015-03-08 06:00:00</td>\n",
       "      <td>0</td>\n",
       "      <td>0</td>\n",
       "      <td>0</td>\n",
       "      <td>6</td>\n",
       "      <td>6</td>\n",
       "      <td>True</td>\n",
       "      <td>0.0</td>\n",
       "      <td>0.0</td>\n",
       "      <td>0.0</td>\n",
       "      <td>0.0</td>\n",
       "      <td>0.0</td>\n",
       "      <td>0.0</td>\n",
       "      <td>0.0</td>\n",
       "    </tr>\n",
       "    <tr>\n",
       "      <th>3</th>\n",
       "      <td>228137</td>\n",
       "      <td>2015-03-08 07:00:00</td>\n",
       "      <td>0</td>\n",
       "      <td>0</td>\n",
       "      <td>0</td>\n",
       "      <td>7</td>\n",
       "      <td>6</td>\n",
       "      <td>True</td>\n",
       "      <td>0.0</td>\n",
       "      <td>0.0</td>\n",
       "      <td>0.0</td>\n",
       "      <td>0.0</td>\n",
       "      <td>0.0</td>\n",
       "      <td>0.0</td>\n",
       "      <td>0.0</td>\n",
       "    </tr>\n",
       "    <tr>\n",
       "      <th>4</th>\n",
       "      <td>228137</td>\n",
       "      <td>2015-03-08 08:00:00</td>\n",
       "      <td>0</td>\n",
       "      <td>0</td>\n",
       "      <td>0</td>\n",
       "      <td>8</td>\n",
       "      <td>6</td>\n",
       "      <td>True</td>\n",
       "      <td>0.0</td>\n",
       "      <td>0.0</td>\n",
       "      <td>0.0</td>\n",
       "      <td>0.0</td>\n",
       "      <td>0.0</td>\n",
       "      <td>0.0</td>\n",
       "      <td>0.0</td>\n",
       "    </tr>\n",
       "  </tbody>\n",
       "</table>\n",
       "</div>"
      ],
      "text/plain": [
       "   stationId           timestamp  arrivals  departures  occupancy  hour  \\\n",
       "0     228137 2015-03-08 04:00:00         0           0          0     4   \n",
       "1     228137 2015-03-08 05:00:00         0           0          0     5   \n",
       "2     228137 2015-03-08 06:00:00         0           0          0     6   \n",
       "3     228137 2015-03-08 07:00:00         0           0          0     7   \n",
       "4     228137 2015-03-08 08:00:00         0           0          0     8   \n",
       "\n",
       "   day_of_week  is_weekend  occupancy_lag_1  occupancy_lag_2  occupancy_lag_4  \\\n",
       "0            6        True              0.0              0.0              0.0   \n",
       "1            6        True              0.0              0.0              0.0   \n",
       "2            6        True              0.0              0.0              0.0   \n",
       "3            6        True              0.0              0.0              0.0   \n",
       "4            6        True              0.0              0.0              0.0   \n",
       "\n",
       "   occupancy_ma_8  occupancy_ma_16  target_occupancy  target_arrivals  \n",
       "0             0.0              0.0               0.0              0.0  \n",
       "1             0.0              0.0               0.0              0.0  \n",
       "2             0.0              0.0               0.0              0.0  \n",
       "3             0.0              0.0               0.0              0.0  \n",
       "4             0.0              0.0               0.0              0.0  "
      ]
     },
     "execution_count": 82,
     "metadata": {},
     "output_type": "execute_result"
    }
   ],
   "source": [
    "ts_df = ts_df.dropna().reset_index(drop=True)\n",
    "print(\"Final shape after feature engineering:\", ts_df.shape)\n",
    "ts_df.head()\n"
   ]
  },
  {
   "cell_type": "markdown",
   "id": "7309d54e-0c02-4362-ba17-41f2305eb5ff",
   "metadata": {},
   "source": [
    "### ✅ Train/Validation/Test Split (per station, time-based)\n",
    "\n",
    "Before any modeling (baseline or LSTM), you need to:\n",
    "\n",
    "- Divide the dataset into:\n",
    "\n",
    "    - Training set – for learning patterns\n",
    "\n",
    "    - Validation set – for tuning hyperparameters\n",
    "\n",
    "    - Test set – for evaluating final model\n",
    "\n",
    "- Respect time order to avoid data leakage (especially in time series)"
   ]
  },
  {
   "cell_type": "markdown",
   "id": "673f9204-51cb-446d-8804-e5173b25769b",
   "metadata": {},
   "source": [
    "### 📦 Assumptions\n",
    "\n",
    "- We'll split each station’s data separately\n",
    "- Recommended proportions:\n",
    "\n",
    "    - Train: 70%\n",
    "    - Validation: 15%\n",
    "    - Test: 15%\n",
    "\n"
   ]
  },
  {
   "cell_type": "markdown",
   "id": "7dbdf08c-98f9-4369-90c1-caa4a48ba76a",
   "metadata": {},
   "source": [
    "#### 🧱 Code: Time-based Data Splitting (Jupyter-Ready)"
   ]
  },
  {
   "cell_type": "code",
   "execution_count": 83,
   "id": "96e0d65f-08b6-4ebb-a6b8-682145463a28",
   "metadata": {},
   "outputs": [],
   "source": [
    "# Load data if not already loaded\n",
    "import pandas as pd\n",
    "\n",
    "ts_df = pd.read_csv(\"station_timeseries_60min.csv\", parse_dates=['timestamp'])\n",
    "\n",
    "# (Optional) load with features already added if you saved from the last step\n",
    "# ts_df = pd.read_csv(\"features_dataset.csv\", parse_dates=['timestamp'])\n",
    "\n",
    "# Sort to maintain time order\n",
    "ts_df = ts_df.sort_values(by=['stationId', 'timestamp']).reset_index(drop=True)"
   ]
  },
  {
   "cell_type": "markdown",
   "id": "fa04f32b-2c7e-4356-9455-dcdbb44e0c90",
   "metadata": {},
   "source": [
    "#### 🔄 Function: Split per Station"
   ]
  },
  {
   "cell_type": "code",
   "execution_count": 84,
   "id": "2a7ebc7d-8bc3-4874-8de6-3f08ec3aea3d",
   "metadata": {},
   "outputs": [],
   "source": [
    "def split_time_series(df, station_col='stationId', time_col='timestamp', train_ratio=0.7, val_ratio=0.15):\n",
    "    train_frames, val_frames, test_frames = [], [], []\n",
    "    \n",
    "    for station, group in df.groupby(station_col):\n",
    "        group = group.sort_values(time_col)\n",
    "        n = len(group)\n",
    "        \n",
    "        train_end = int(n * train_ratio)\n",
    "        val_end = train_end + int(n * val_ratio)\n",
    "        \n",
    "        train_frames.append(group.iloc[:train_end])\n",
    "        val_frames.append(group.iloc[train_end:val_end])\n",
    "        test_frames.append(group.iloc[val_end:])\n",
    "        \n",
    "    train = pd.concat(train_frames).reset_index(drop=True)\n",
    "    val = pd.concat(val_frames).reset_index(drop=True)\n",
    "    test = pd.concat(test_frames).reset_index(drop=True)\n",
    "    \n",
    "    return train, val, test"
   ]
  },
  {
   "cell_type": "markdown",
   "id": "ee03987c-d933-42ac-a35f-2b0fa4f42b26",
   "metadata": {},
   "source": [
    "#### 🚀 Apply the Function"
   ]
  },
  {
   "cell_type": "code",
   "execution_count": 85,
   "id": "fdb0a105-37ae-4ada-a995-7b8973e619dc",
   "metadata": {},
   "outputs": [
    {
     "name": "stdout",
     "output_type": "stream",
     "text": [
      "Train shape: (14188, 5)\n",
      "Validation shape: (3040, 5)\n",
      "Test shape: (3044, 5)\n"
     ]
    }
   ],
   "source": [
    "train_df, val_df, test_df = split_time_series(ts_df)\n",
    "\n",
    "print(\"Train shape:\", train_df.shape)\n",
    "print(\"Validation shape:\", val_df.shape)\n",
    "print(\"Test shape:\", test_df.shape)"
   ]
  },
  {
   "cell_type": "markdown",
   "id": "c08a8ef8-f717-42a2-97f1-4615ce4bfd39",
   "metadata": {},
   "source": [
    "#### ✅ Optional: Save Splits"
   ]
  },
  {
   "cell_type": "code",
   "execution_count": 86,
   "id": "7968d39d-e627-427e-975f-6684a8d6b802",
   "metadata": {},
   "outputs": [],
   "source": [
    "train_df.to_csv(\"train_set_60min.csv\", index=False)\n",
    "val_df.to_csv(\"val_set_60min.csv\", index=False)\n",
    "test_df.to_csv(\"test_set_60min.csv\", index=False)"
   ]
  },
  {
   "cell_type": "markdown",
   "id": "8c99bc48-e04d-4063-ab6e-8b5a7bd4973a",
   "metadata": {},
   "source": [
    "## 🎯 Goal of This Step:\n",
    "\n",
    "Train and evaluate **simple, interpretable models** that forecast:\n",
    "\n",
    "- `target_occupancy` (number of sessions currently charging)  \n",
    "- `target_arrivals` (number of new sessions starting)\n",
    "\n",
    "---\n",
    "\n",
    "## 🧠 Baseline Models We'll Implement:\n",
    "\n",
    "| **Model Type**     | **Description**                                                |\n",
    "|--------------------|----------------------------------------------------------------|\n",
    "| **Naive**          | $\\hat{y}(t+1) = y(t)$ — assumes next value is same as now      |\n",
    "| **Seasonal Naive** | $\\hat{y}(t+1) = y(t-96)$ — same time yesterday (96 × 15min = 24h) |\n",
    "| **Moving Average** | Mean of last 4 values (1 hour)                                 |\n"
   ]
  },
  {
   "cell_type": "markdown",
   "id": "6fbcf681-db83-4225-abac-e6f75b49918e",
   "metadata": {},
   "source": [
    "#### 📥 Step 1: Load Train/Test Sets"
   ]
  },
  {
   "cell_type": "code",
   "execution_count": 87,
   "id": "40fe9ca3-da34-42e2-b1fb-63aca127de75",
   "metadata": {},
   "outputs": [],
   "source": [
    "import pandas as pd\n",
    "\n",
    "# Load previously saved splits\n",
    "train_df = pd.read_csv(\"train_set_60min.csv\", parse_dates=['timestamp'])\n",
    "val_df = pd.read_csv(\"val_set_60min.csv\", parse_dates=['timestamp'])\n",
    "test_df = pd.read_csv(\"test_set_60min.csv\", parse_dates=['timestamp'])"
   ]
  },
  {
   "cell_type": "markdown",
   "id": "c2235e5a-9059-4519-bf7b-979694f831e4",
   "metadata": {},
   "source": [
    "#### ⚙️ Step 2: Evaluation Function (MAE, RMSE)"
   ]
  },
  {
   "cell_type": "code",
   "execution_count": 88,
   "id": "24f4f392-f355-4297-a915-80bf9dc3f1a8",
   "metadata": {},
   "outputs": [],
   "source": [
    "from sklearn.metrics import mean_absolute_error, mean_squared_error\n",
    "import numpy as np\n",
    "\n",
    "def evaluate(y_true, y_pred):\n",
    "    mae = mean_absolute_error(y_true, y_pred)\n",
    "    rmse = np.sqrt(mean_squared_error(y_true, y_pred))\n",
    "    return round(mae, 4), round(rmse, 4)"
   ]
  },
  {
   "cell_type": "markdown",
   "id": "f324d61e-a34e-4177-be1a-f8b153684541",
   "metadata": {},
   "source": [
    "#### 📈 Step 3: Naive Forecast"
   ]
  },
  {
   "cell_type": "code",
   "execution_count": 89,
   "id": "3d9dda22-c079-429f-88fc-35246cb114b4",
   "metadata": {},
   "outputs": [
    {
     "name": "stdout",
     "output_type": "stream",
     "text": [
      "Naive Occupancy Forecast — MAE: 0.0862, RMSE: 0.2936\n"
     ]
    }
   ],
   "source": [
    "# Create target column if it doesn't exist\n",
    "if 'target_occupancy' not in test_df.columns:\n",
    "    test_df['target_occupancy'] = test_df.groupby('stationId')['occupancy'].shift(-1)\n",
    "\n",
    "# Predict t+1 occupancy using current occupancy\n",
    "test_df['naive_pred'] = test_df.groupby('stationId')['occupancy'].shift(0)\n",
    "\n",
    "# Drop missing target rows (if any)\n",
    "naive_eval = test_df.dropna(subset=['target_occupancy', 'naive_pred'])\n",
    "\n",
    "# Evaluate\n",
    "mae, rmse = evaluate(naive_eval['target_occupancy'], naive_eval['naive_pred'])\n",
    "print(f\"Naive Occupancy Forecast — MAE: {mae}, RMSE: {rmse}\")"
   ]
  },
  {
   "cell_type": "markdown",
   "id": "0f6e23de-944e-4205-b270-5901b83f71fb",
   "metadata": {},
   "source": [
    "#### ⏳ Step 4: Seasonal Naive (Same time yesterday)"
   ]
  },
  {
   "cell_type": "code",
   "execution_count": 90,
   "id": "08942272-7bf0-4f35-91bd-c3da5325cc07",
   "metadata": {},
   "outputs": [
    {
     "name": "stdout",
     "output_type": "stream",
     "text": [
      "Seasonal Naive Forecast — MAE: 0.1755, RMSE: 0.4189\n"
     ]
    }
   ],
   "source": [
    "# Seasonal lag = 96 (24h ahead = 96 x 15min)\n",
    "test_df['seasonal_pred'] = test_df.groupby('stationId')['occupancy'].shift(96)\n",
    "\n",
    "seasonal_eval = test_df.dropna(subset=['target_occupancy', 'seasonal_pred'])\n",
    "\n",
    "mae, rmse = evaluate(seasonal_eval['target_occupancy'], seasonal_eval['seasonal_pred'])\n",
    "print(f\"Seasonal Naive Forecast — MAE: {mae}, RMSE: {rmse}\")"
   ]
  },
  {
   "cell_type": "markdown",
   "id": "0492537a-6365-4fdc-945f-63743aa71cc0",
   "metadata": {},
   "source": [
    "#### 📊 Step 5: Moving Average (last 4 intervals = 1 hour)"
   ]
  },
  {
   "cell_type": "code",
   "execution_count": 91,
   "id": "642a0369-a50b-49b4-b7ea-36ea3e89283d",
   "metadata": {},
   "outputs": [
    {
     "name": "stdout",
     "output_type": "stream",
     "text": [
      "Moving Average (1h) — MAE: 0.1735, RMSE: 0.3581\n"
     ]
    }
   ],
   "source": [
    "test_df['ma_pred'] = test_df.groupby('stationId')['occupancy'].transform(lambda x: x.shift(1).rolling(4).mean())\n",
    "\n",
    "ma_eval = test_df.dropna(subset=['target_occupancy', 'ma_pred'])\n",
    "\n",
    "mae, rmse = evaluate(ma_eval['target_occupancy'], ma_eval['ma_pred'])\n",
    "print(f\"Moving Average (1h) — MAE: {mae}, RMSE: {rmse}\")"
   ]
  },
  {
   "cell_type": "markdown",
   "id": "2e856fba-2dbd-48b1-abcc-00dd7ae872c9",
   "metadata": {},
   "source": [
    "#### 📋 Optional: Compare All Baselines in One Table"
   ]
  },
  {
   "cell_type": "code",
   "execution_count": 92,
   "id": "1beeef33-3357-4e8d-8c8f-2ed1515173f8",
   "metadata": {},
   "outputs": [
    {
     "data": {
      "text/html": [
       "<div>\n",
       "<style scoped>\n",
       "    .dataframe tbody tr th:only-of-type {\n",
       "        vertical-align: middle;\n",
       "    }\n",
       "\n",
       "    .dataframe tbody tr th {\n",
       "        vertical-align: top;\n",
       "    }\n",
       "\n",
       "    .dataframe thead th {\n",
       "        text-align: right;\n",
       "    }\n",
       "</style>\n",
       "<table border=\"1\" class=\"dataframe\">\n",
       "  <thead>\n",
       "    <tr style=\"text-align: right;\">\n",
       "      <th></th>\n",
       "      <th>Model</th>\n",
       "      <th>MAE</th>\n",
       "      <th>RMSE</th>\n",
       "    </tr>\n",
       "  </thead>\n",
       "  <tbody>\n",
       "    <tr>\n",
       "      <th>0</th>\n",
       "      <td>Naive</td>\n",
       "      <td>0.0862</td>\n",
       "      <td>0.2936</td>\n",
       "    </tr>\n",
       "    <tr>\n",
       "      <th>1</th>\n",
       "      <td>Seasonal</td>\n",
       "      <td>0.1755</td>\n",
       "      <td>0.4189</td>\n",
       "    </tr>\n",
       "    <tr>\n",
       "      <th>2</th>\n",
       "      <td>Moving Avg</td>\n",
       "      <td>0.1735</td>\n",
       "      <td>0.3581</td>\n",
       "    </tr>\n",
       "  </tbody>\n",
       "</table>\n",
       "</div>"
      ],
      "text/plain": [
       "        Model     MAE    RMSE\n",
       "0       Naive  0.0862  0.2936\n",
       "1    Seasonal  0.1755  0.4189\n",
       "2  Moving Avg  0.1735  0.3581"
      ]
     },
     "execution_count": 92,
     "metadata": {},
     "output_type": "execute_result"
    }
   ],
   "source": [
    "results = []\n",
    "\n",
    "for model_name, pred_col in [('Naive', 'naive_pred'), ('Seasonal', 'seasonal_pred'), ('Moving Avg', 'ma_pred')]:\n",
    "    df_eval = test_df.dropna(subset=['target_occupancy', pred_col])\n",
    "    mae, rmse = evaluate(df_eval['target_occupancy'], df_eval[pred_col])\n",
    "    results.append({'Model': model_name, 'MAE': mae, 'RMSE': rmse})\n",
    "\n",
    "baseline_results = pd.DataFrame(results)\n",
    "baseline_results"
   ]
  },
  {
   "cell_type": "code",
   "execution_count": 66,
   "id": "51044fad-c551-4174-be66-8f0ed307930a",
   "metadata": {},
   "outputs": [
    {
     "data": {
      "image/png": "[encoded data removed]",
      "text/plain": [
       "<Figure size 800x400 with 1 Axes>"
      ]
     },
     "metadata": {},
     "output_type": "display_data"
    },
    {
     "name": "stdout",
     "output_type": "stream",
     "text": [
      "count    841.000000\n",
      "mean     153.962802\n",
      "std       64.807585\n",
      "min        0.766667\n",
      "25%      122.800000\n",
      "50%      148.200000\n",
      "75%      187.016667\n",
      "max      695.216667\n",
      "Name: duration_min, dtype: float64\n"
     ]
    }
   ],
   "source": [
    "df = pd.read_csv(\"pre-processed-dataset.csv\", parse_dates=['created', 'ended'])\n",
    "df['duration_min'] = (df['ended'] - df['created']).dt.total_seconds() / 60\n",
    "\n",
    "df['duration_min'].hist(bins=50, figsize=(8, 4))\n",
    "plt.title(\"Distribution of Session Durations (in minutes)\")\n",
    "plt.xlabel(\"Duration (minutes)\")\n",
    "plt.ylabel(\"Frequency\")\n",
    "plt.grid(True)\n",
    "plt.show()\n",
    "\n",
    "print(df['duration_min'].describe())\n"
   ]
  },
  {
   "cell_type": "code",
   "execution_count": 94,
   "id": "dec0a187-a557-4de7-bbec-c9bcd612b2b6",
   "metadata": {},
   "outputs": [
    {
     "name": "stderr",
     "output_type": "stream",
     "text": [
      "/var/folders/2z/x7vmsxmd1cg10w353m_fl_240000gn/T/ipykernel_19403/3642207872.py:59: SettingWithCopyWarning: \n",
      "A value is trying to be set on a copy of a slice from a DataFrame.\n",
      "Try using .loc[row_indexer,col_indexer] = value instead\n",
      "\n",
      "See the caveats in the documentation: https://pandas.pydata.org/pandas-docs/stable/user_guide/indexing.html#returning-a-view-versus-a-copy\n",
      "  train_df[features] = scaler.fit_transform(train_df[features])\n",
      "/var/folders/2z/x7vmsxmd1cg10w353m_fl_240000gn/T/ipykernel_19403/3642207872.py:60: SettingWithCopyWarning: \n",
      "A value is trying to be set on a copy of a slice from a DataFrame.\n",
      "Try using .loc[row_indexer,col_indexer] = value instead\n",
      "\n",
      "See the caveats in the documentation: https://pandas.pydata.org/pandas-docs/stable/user_guide/indexing.html#returning-a-view-versus-a-copy\n",
      "  val_df[features] = scaler.transform(val_df[features])\n",
      "/var/folders/2z/x7vmsxmd1cg10w353m_fl_240000gn/T/ipykernel_19403/3642207872.py:61: SettingWithCopyWarning: \n",
      "A value is trying to be set on a copy of a slice from a DataFrame.\n",
      "Try using .loc[row_indexer,col_indexer] = value instead\n",
      "\n",
      "See the caveats in the documentation: https://pandas.pydata.org/pandas-docs/stable/user_guide/indexing.html#returning-a-view-versus-a-copy\n",
      "  test_df[features] = scaler.transform(test_df[features])\n"
     ]
    },
    {
     "name": "stdout",
     "output_type": "stream",
     "text": [
      "Class Weights: {0: np.float64(0.5229086609518179), 1: np.float64(11.412903225806451)}\n",
      "Epoch 1/50\n"
     ]
    },
    {
     "name": "stderr",
     "output_type": "stream",
     "text": [
      "/Users/nazhimkalam/.pyenv/versions/evat_env_py310/lib/python3.10/site-packages/keras/src/layers/rnn/rnn.py:199: UserWarning: Do not pass an `input_shape`/`input_dim` argument to a layer. When using Sequential models, prefer using an `Input(shape)` object as the first layer in the model instead.\n",
      "  super().__init__(**kwargs)\n"
     ]
    },
    {
     "name": "stdout",
     "output_type": "stream",
     "text": [
      "\u001b[1m443/443\u001b[0m \u001b[32m━━━━━━━━━━━━━━━━━━━━\u001b[0m\u001b[37m\u001b[0m \u001b[1m3s\u001b[0m 5ms/step - accuracy: 0.6695 - loss: 0.5016 - val_accuracy: 0.6487 - val_loss: 0.5389\n",
      "Epoch 2/50\n",
      "\u001b[1m443/443\u001b[0m \u001b[32m━━━━━━━━━━━━━━━━━━━━\u001b[0m\u001b[37m\u001b[0m \u001b[1m2s\u001b[0m 4ms/step - accuracy: 0.6788 - loss: 0.4246 - val_accuracy: 0.6563 - val_loss: 0.5165\n",
      "Epoch 3/50\n",
      "\u001b[1m443/443\u001b[0m \u001b[32m━━━━━━━━━━━━━━━━━━━━\u001b[0m\u001b[37m\u001b[0m \u001b[1m2s\u001b[0m 4ms/step - accuracy: 0.7165 - loss: 0.3896 - val_accuracy: 0.7106 - val_loss: 0.4726\n",
      "Epoch 4/50\n",
      "\u001b[1m443/443\u001b[0m \u001b[32m━━━━━━━━━━━━━━━━━━━━\u001b[0m\u001b[37m\u001b[0m \u001b[1m2s\u001b[0m 4ms/step - accuracy: 0.7300 - loss: 0.3913 - val_accuracy: 0.6526 - val_loss: 0.5347\n",
      "Epoch 5/50\n",
      "\u001b[1m443/443\u001b[0m \u001b[32m━━━━━━━━━━━━━━━━━━━━\u001b[0m\u001b[37m\u001b[0m \u001b[1m2s\u001b[0m 4ms/step - accuracy: 0.7194 - loss: 0.4077 - val_accuracy: 0.7437 - val_loss: 0.4256\n",
      "Epoch 6/50\n",
      "\u001b[1m443/443\u001b[0m \u001b[32m━━━━━━━━━━━━━━━━━━━━\u001b[0m\u001b[37m\u001b[0m \u001b[1m2s\u001b[0m 4ms/step - accuracy: 0.7349 - loss: 0.3911 - val_accuracy: 0.7964 - val_loss: 0.3993\n",
      "Epoch 7/50\n",
      "\u001b[1m443/443\u001b[0m \u001b[32m━━━━━━━━━━━━━━━━━━━━\u001b[0m\u001b[37m\u001b[0m \u001b[1m2s\u001b[0m 4ms/step - accuracy: 0.7371 - loss: 0.3859 - val_accuracy: 0.8020 - val_loss: 0.4167\n",
      "Epoch 8/50\n",
      "\u001b[1m443/443\u001b[0m \u001b[32m━━━━━━━━━━━━━━━━━━━━\u001b[0m\u001b[37m\u001b[0m \u001b[1m2s\u001b[0m 4ms/step - accuracy: 0.7355 - loss: 0.3896 - val_accuracy: 0.7076 - val_loss: 0.4668\n",
      "Epoch 9/50\n",
      "\u001b[1m443/443\u001b[0m \u001b[32m━━━━━━━━━━━━━━━━━━━━\u001b[0m\u001b[37m\u001b[0m \u001b[1m2s\u001b[0m 4ms/step - accuracy: 0.7396 - loss: 0.3791 - val_accuracy: 0.7679 - val_loss: 0.4574\n",
      "Epoch 10/50\n",
      "\u001b[1m443/443\u001b[0m \u001b[32m━━━━━━━━━━━━━━━━━━━━\u001b[0m\u001b[37m\u001b[0m \u001b[1m2s\u001b[0m 4ms/step - accuracy: 0.7460 - loss: 0.3889 - val_accuracy: 0.8003 - val_loss: 0.4284\n",
      "Epoch 11/50\n",
      "\u001b[1m443/443\u001b[0m \u001b[32m━━━━━━━━━━━━━━━━━━━━\u001b[0m\u001b[37m\u001b[0m \u001b[1m2s\u001b[0m 4ms/step - accuracy: 0.7433 - loss: 0.3719 - val_accuracy: 0.7298 - val_loss: 0.4511\n",
      "Epoch 12/50\n",
      "\u001b[1m443/443\u001b[0m \u001b[32m━━━━━━━━━━━━━━━━━━━━\u001b[0m\u001b[37m\u001b[0m \u001b[1m2s\u001b[0m 4ms/step - accuracy: 0.7460 - loss: 0.3829 - val_accuracy: 0.7722 - val_loss: 0.4376\n",
      "Epoch 13/50\n",
      "\u001b[1m443/443\u001b[0m \u001b[32m━━━━━━━━━━━━━━━━━━━━\u001b[0m\u001b[37m\u001b[0m \u001b[1m2s\u001b[0m 4ms/step - accuracy: 0.7528 - loss: 0.3712 - val_accuracy: 0.7636 - val_loss: 0.4251\n",
      "Epoch 14/50\n",
      "\u001b[1m443/443\u001b[0m \u001b[32m━━━━━━━━━━━━━━━━━━━━\u001b[0m\u001b[37m\u001b[0m \u001b[1m2s\u001b[0m 4ms/step - accuracy: 0.7540 - loss: 0.3660 - val_accuracy: 0.7242 - val_loss: 0.4483\n",
      "Epoch 15/50\n",
      "\u001b[1m443/443\u001b[0m \u001b[32m━━━━━━━━━━━━━━━━━━━━\u001b[0m\u001b[37m\u001b[0m \u001b[1m2s\u001b[0m 4ms/step - accuracy: 0.7461 - loss: 0.3793 - val_accuracy: 0.7980 - val_loss: 0.3508\n",
      "Epoch 16/50\n",
      "\u001b[1m443/443\u001b[0m \u001b[32m━━━━━━━━━━━━━━━━━━━━\u001b[0m\u001b[37m\u001b[0m \u001b[1m2s\u001b[0m 4ms/step - accuracy: 0.7678 - loss: 0.3740 - val_accuracy: 0.7500 - val_loss: 0.4579\n",
      "Epoch 17/50\n",
      "\u001b[1m443/443\u001b[0m \u001b[32m━━━━━━━━━━━━━━━━━━━━\u001b[0m\u001b[37m\u001b[0m \u001b[1m2s\u001b[0m 4ms/step - accuracy: 0.7604 - loss: 0.3728 - val_accuracy: 0.7149 - val_loss: 0.4798\n",
      "Epoch 18/50\n",
      "\u001b[1m443/443\u001b[0m \u001b[32m━━━━━━━━━━━━━━━━━━━━\u001b[0m\u001b[37m\u001b[0m \u001b[1m2s\u001b[0m 4ms/step - accuracy: 0.7619 - loss: 0.3455 - val_accuracy: 0.7351 - val_loss: 0.4666\n",
      "Epoch 19/50\n",
      "\u001b[1m443/443\u001b[0m \u001b[32m━━━━━━━━━━━━━━━━━━━━\u001b[0m\u001b[37m\u001b[0m \u001b[1m2s\u001b[0m 5ms/step - accuracy: 0.7680 - loss: 0.3588 - val_accuracy: 0.7937 - val_loss: 0.4437\n",
      "Epoch 20/50\n",
      "\u001b[1m443/443\u001b[0m \u001b[32m━━━━━━━━━━━━━━━━━━━━\u001b[0m\u001b[37m\u001b[0m \u001b[1m2s\u001b[0m 4ms/step - accuracy: 0.7854 - loss: 0.3542 - val_accuracy: 0.7222 - val_loss: 0.4956\n",
      "Epoch 21/50\n",
      "\u001b[1m443/443\u001b[0m \u001b[32m━━━━━━━━━━━━━━━━━━━━\u001b[0m\u001b[37m\u001b[0m \u001b[1m2s\u001b[0m 5ms/step - accuracy: 0.7706 - loss: 0.3636 - val_accuracy: 0.7179 - val_loss: 0.4946\n",
      "Epoch 22/50\n",
      "\u001b[1m443/443\u001b[0m \u001b[32m━━━━━━━━━━━━━━━━━━━━\u001b[0m\u001b[37m\u001b[0m \u001b[1m2s\u001b[0m 4ms/step - accuracy: 0.7772 - loss: 0.3444 - val_accuracy: 0.7791 - val_loss: 0.4224\n",
      "Epoch 23/50\n",
      "\u001b[1m443/443\u001b[0m \u001b[32m━━━━━━━━━━━━━━━━━━━━\u001b[0m\u001b[37m\u001b[0m \u001b[1m2s\u001b[0m 4ms/step - accuracy: 0.7756 - loss: 0.3529 - val_accuracy: 0.7573 - val_loss: 0.4506\n",
      "Epoch 24/50\n",
      "\u001b[1m443/443\u001b[0m \u001b[32m━━━━━━━━━━━━━━━━━━━━\u001b[0m\u001b[37m\u001b[0m \u001b[1m2s\u001b[0m 4ms/step - accuracy: 0.7718 - loss: 0.3481 - val_accuracy: 0.7970 - val_loss: 0.3844\n",
      "Epoch 25/50\n",
      "\u001b[1m443/443\u001b[0m \u001b[32m━━━━━━━━━━━━━━━━━━━━\u001b[0m\u001b[37m\u001b[0m \u001b[1m2s\u001b[0m 4ms/step - accuracy: 0.7782 - loss: 0.3523 - val_accuracy: 0.7964 - val_loss: 0.4373\n",
      "\u001b[1m95/95\u001b[0m \u001b[32m━━━━━━━━━━━━━━━━━━━━\u001b[0m\u001b[37m\u001b[0m \u001b[1m0s\u001b[0m 2ms/step \n",
      "\n",
      "📊 LSTM Binary Classification on 60-Minute Bins (with class weighting):\n",
      "Accuracy : 0.7725\n",
      "Precision: 0.1361\n",
      "Recall   : 0.7939\n",
      "F1 Score : 0.2324\n"
     ]
    },
    {
     "data": {
      "image/png": "[encoded data removed]",
      "text/plain": [
       "<Figure size 1200x500 with 1 Axes>"
      ]
     },
     "metadata": {},
     "output_type": "display_data"
    }
   ],
   "source": [
    "# ========================\n",
    "# STEP 1: Load 60-Minute Time Series Dataset\n",
    "# ========================\n",
    "import pandas as pd\n",
    "import numpy as np\n",
    "import matplotlib.pyplot as plt\n",
    "from sklearn.preprocessing import StandardScaler\n",
    "from sklearn.metrics import accuracy_score, precision_score, recall_score, f1_score\n",
    "from sklearn.utils import class_weight\n",
    "import tensorflow as tf\n",
    "from tensorflow.keras.models import Sequential\n",
    "from tensorflow.keras.layers import LSTM, Dense, Dropout\n",
    "\n",
    "# Load the binned data\n",
    "df = pd.read_csv(\"station_timeseries_60min.csv\", parse_dates=['timestamp'])\n",
    "\n",
    "# ========================\n",
    "# STEP 2: Feature Engineering\n",
    "# ========================\n",
    "df.sort_values(by=['stationId', 'timestamp'], inplace=True)\n",
    "\n",
    "df['hour'] = df['timestamp'].dt.hour\n",
    "df['day_of_week'] = df['timestamp'].dt.dayofweek\n",
    "df['is_weekend'] = (df['day_of_week'] >= 5).astype(int)\n",
    "\n",
    "df['arrivals_lag_1'] = df.groupby('stationId')['arrivals'].shift(1)\n",
    "df['arrivals_lag_2'] = df.groupby('stationId')['arrivals'].shift(2)\n",
    "df['arrivals_lag_4'] = df.groupby('stationId')['arrivals'].shift(4)\n",
    "df['arrivals_ma_4'] = df.groupby('stationId')['arrivals'].transform(lambda x: x.rolling(4).mean())\n",
    "df['arrivals_ma_8'] = df.groupby('stationId')['arrivals'].transform(lambda x: x.rolling(8).mean())\n",
    "\n",
    "# Binary target for arrival in next bin\n",
    "df['target_arrivals'] = df.groupby('stationId')['arrivals'].shift(-1)\n",
    "df['target_binary'] = (df['target_arrivals'] > 0).astype(int)\n",
    "\n",
    "# Drop missing values\n",
    "df.dropna(inplace=True)\n",
    "\n",
    "# ========================\n",
    "# STEP 3: Train-Test Split\n",
    "# ========================\n",
    "df = df.sort_values(by=['stationId', 'timestamp']).reset_index(drop=True)\n",
    "\n",
    "train_size = int(0.7 * len(df))\n",
    "val_size = int(0.15 * len(df))\n",
    "\n",
    "train_df = df.iloc[:train_size]\n",
    "val_df = df.iloc[train_size:train_size + val_size]\n",
    "test_df = df.iloc[train_size + val_size:]\n",
    "\n",
    "# ========================\n",
    "# STEP 4: Feature Scaling\n",
    "# ========================\n",
    "features = ['hour', 'day_of_week', 'is_weekend',\n",
    "            'arrivals_lag_1', 'arrivals_lag_2', 'arrivals_lag_4',\n",
    "            'arrivals_ma_4', 'arrivals_ma_8']\n",
    "\n",
    "scaler = StandardScaler()\n",
    "train_df[features] = scaler.fit_transform(train_df[features])\n",
    "val_df[features] = scaler.transform(val_df[features])\n",
    "test_df[features] = scaler.transform(test_df[features])\n",
    "\n",
    "# Target arrays\n",
    "y_train = train_df['target_binary'].values\n",
    "y_val = val_df['target_binary'].values\n",
    "y_test = test_df['target_binary'].values\n",
    "\n",
    "# ========================\n",
    "# STEP 5: Sequence Construction\n",
    "# ========================\n",
    "def create_sequences(df, feature_cols, target_array, seq_len=16):\n",
    "    X, y = [], []\n",
    "    for i in range(seq_len, len(df)):\n",
    "        X.append(df[feature_cols].iloc[i - seq_len:i].values)\n",
    "        y.append(target_array[i])\n",
    "    return np.array(X), np.array(y)\n",
    "\n",
    "X_train, y_train = create_sequences(train_df, features, y_train)\n",
    "X_val, y_val = create_sequences(val_df, features, y_val)\n",
    "X_test, y_test = create_sequences(test_df, features, y_test)\n",
    "\n",
    "# ========================\n",
    "# STEP 6: Compute Class Weights\n",
    "# ========================\n",
    "class_weights_array = class_weight.compute_class_weight(\n",
    "    class_weight='balanced',\n",
    "    classes=np.unique(y_train),\n",
    "    y=y_train\n",
    ")\n",
    "class_weights_dict = dict(enumerate(class_weights_array))\n",
    "print(\"Class Weights:\", class_weights_dict)\n",
    "\n",
    "# ========================\n",
    "# STEP 7: Build and Train LSTM\n",
    "# ========================\n",
    "model = Sequential([\n",
    "    LSTM(64, return_sequences=True, input_shape=(X_train.shape[1], X_train.shape[2])),\n",
    "    Dropout(0.2),\n",
    "    LSTM(32),\n",
    "    Dropout(0.2),\n",
    "    Dense(16, activation='relu'),\n",
    "    Dense(1, activation='sigmoid')  # Binary output\n",
    "])\n",
    "\n",
    "model.compile(optimizer='adam', loss='binary_crossentropy', metrics=['accuracy'])\n",
    "\n",
    "history = model.fit(\n",
    "    X_train, y_train,\n",
    "    epochs=50,\n",
    "    batch_size=32,\n",
    "    validation_data=(X_val, y_val),\n",
    "    class_weight=class_weights_dict,\n",
    "    callbacks=[tf.keras.callbacks.EarlyStopping(patience=10, restore_best_weights=True)]\n",
    ")\n",
    "\n",
    "# ========================\n",
    "# STEP 8: Evaluate and Visualize\n",
    "# ========================\n",
    "y_pred_prob = model.predict(X_test).flatten()\n",
    "y_pred = (y_pred_prob >= 0.5).astype(int)\n",
    "\n",
    "acc = accuracy_score(y_test, y_pred)\n",
    "precision = precision_score(y_test, y_pred, zero_division=0)\n",
    "recall = recall_score(y_test, y_pred, zero_division=0)\n",
    "f1 = f1_score(y_test, y_pred, zero_division=0)\n",
    "\n",
    "print(f\"\\n📊 LSTM Binary Classification on 60-Minute Bins (with class weighting):\")\n",
    "print(f\"Accuracy : {acc:.4f}\")\n",
    "print(f\"Precision: {precision:.4f}\")\n",
    "print(f\"Recall   : {recall:.4f}\")\n",
    "print(f\"F1 Score : {f1:.4f}\")\n",
    "\n",
    "# Plot first 200 steps\n",
    "plt.figure(figsize=(12, 5))\n",
    "plt.plot(y_test[:200], label='Actual')\n",
    "plt.plot(y_pred[:200], label='Predicted')\n",
    "plt.title('LSTM Prediction (Binary Arrival Event) — 60-Minute Bins (With Class Weights)')\n",
    "plt.xlabel('Time Step')\n",
    "plt.ylabel('Arrival Event (1=yes, 0=no)')\n",
    "plt.legend()\n",
    "plt.grid(True)\n",
    "plt.show()\n"
   ]
  },
  {
   "cell_type": "code",
   "execution_count": 95,
   "id": "ba60cf28-2195-41db-ac5b-952edd4a6176",
   "metadata": {},
   "outputs": [
    {
     "data": {
      "image/png": "[encoded data removed]",
      "text/plain": [
       "<Figure size 640x480 with 2 Axes>"
      ]
     },
     "metadata": {},
     "output_type": "display_data"
    }
   ],
   "source": [
    "from sklearn.metrics import confusion_matrix, ConfusionMatrixDisplay\n",
    "\n",
    "cm = confusion_matrix(y_test, y_pred)\n",
    "disp = ConfusionMatrixDisplay(confusion_matrix=cm, display_labels=[\"No Arrival\", \"Arrival\"])\n",
    "disp.plot(cmap='Blues')\n",
    "plt.title(\"Confusion Matrix — 60-Min Bin Arrival Classifier\")\n",
    "plt.grid(False)\n",
    "plt.show()\n"
   ]
  },
  {
   "cell_type": "code",
   "execution_count": 96,
   "id": "62582a91-e18f-4239-9876-7751f7a434ce",
   "metadata": {},
   "outputs": [
    {
     "data": {
      "image/png": "[encoded data removed]",
      "text/plain": [
       "<Figure size 640x480 with 1 Axes>"
      ]
     },
     "metadata": {},
     "output_type": "display_data"
    }
   ],
   "source": [
    "from sklearn.metrics import precision_recall_curve\n",
    "\n",
    "precision, recall, thresholds = precision_recall_curve(y_test, y_pred_prob)\n",
    "\n",
    "# Plot tradeoff\n",
    "plt.plot(thresholds, precision[:-1], label='Precision')\n",
    "plt.plot(thresholds, recall[:-1], label='Recall')\n",
    "plt.xlabel(\"Threshold\")\n",
    "plt.ylabel(\"Score\")\n",
    "plt.title(\"Precision vs Recall\")\n",
    "plt.legend()\n",
    "plt.grid(True)\n",
    "plt.show()"
   ]
  },
  {
   "cell_type": "code",
   "execution_count": 105,
   "id": "252eb694-88b7-4742-bd87-a79280911867",
   "metadata": {},
   "outputs": [
    {
     "name": "stderr",
     "output_type": "stream",
     "text": [
      "/var/folders/2z/x7vmsxmd1cg10w353m_fl_240000gn/T/ipykernel_19403/902816177.py:58: SettingWithCopyWarning: \n",
      "A value is trying to be set on a copy of a slice from a DataFrame.\n",
      "Try using .loc[row_indexer,col_indexer] = value instead\n",
      "\n",
      "See the caveats in the documentation: https://pandas.pydata.org/pandas-docs/stable/user_guide/indexing.html#returning-a-view-versus-a-copy\n",
      "  train_df[features] = scaler.fit_transform(train_df[features])\n",
      "/var/folders/2z/x7vmsxmd1cg10w353m_fl_240000gn/T/ipykernel_19403/902816177.py:59: SettingWithCopyWarning: \n",
      "A value is trying to be set on a copy of a slice from a DataFrame.\n",
      "Try using .loc[row_indexer,col_indexer] = value instead\n",
      "\n",
      "See the caveats in the documentation: https://pandas.pydata.org/pandas-docs/stable/user_guide/indexing.html#returning-a-view-versus-a-copy\n",
      "  val_df[features] = scaler.transform(val_df[features])\n",
      "/var/folders/2z/x7vmsxmd1cg10w353m_fl_240000gn/T/ipykernel_19403/902816177.py:60: SettingWithCopyWarning: \n",
      "A value is trying to be set on a copy of a slice from a DataFrame.\n",
      "Try using .loc[row_indexer,col_indexer] = value instead\n",
      "\n",
      "See the caveats in the documentation: https://pandas.pydata.org/pandas-docs/stable/user_guide/indexing.html#returning-a-view-versus-a-copy\n",
      "  test_df[features] = scaler.transform(test_df[features])\n"
     ]
    },
    {
     "name": "stdout",
     "output_type": "stream",
     "text": [
      "Epoch 1/50\n"
     ]
    },
    {
     "name": "stderr",
     "output_type": "stream",
     "text": [
      "/Users/nazhimkalam/.pyenv/versions/evat_env_py310/lib/python3.10/site-packages/keras/src/layers/rnn/rnn.py:199: UserWarning: Do not pass an `input_shape`/`input_dim` argument to a layer. When using Sequential models, prefer using an `Input(shape)` object as the first layer in the model instead.\n",
      "  super().__init__(**kwargs)\n"
     ]
    },
    {
     "ename": "KeyboardInterrupt",
     "evalue": "",
     "output_type": "error",
     "traceback": [
      "\u001b[0;31m---------------------------------------------------------------------------\u001b[0m",
      "\u001b[0;31mKeyboardInterrupt\u001b[0m                         Traceback (most recent call last)",
      "Cell \u001b[0;32mIn[105], line 95\u001b[0m\n\u001b[1;32m     84\u001b[0m model \u001b[38;5;241m=\u001b[39m Sequential([\n\u001b[1;32m     85\u001b[0m     LSTM(\u001b[38;5;241m64\u001b[39m, return_sequences\u001b[38;5;241m=\u001b[39m\u001b[38;5;28;01mTrue\u001b[39;00m, input_shape\u001b[38;5;241m=\u001b[39m(X_train\u001b[38;5;241m.\u001b[39mshape[\u001b[38;5;241m1\u001b[39m], X_train\u001b[38;5;241m.\u001b[39mshape[\u001b[38;5;241m2\u001b[39m])),\n\u001b[1;32m     86\u001b[0m     Dropout(\u001b[38;5;241m0.2\u001b[39m),\n\u001b[0;32m   (...)\u001b[0m\n\u001b[1;32m     90\u001b[0m     Dense(\u001b[38;5;241m1\u001b[39m, activation\u001b[38;5;241m=\u001b[39m\u001b[38;5;124m'\u001b[39m\u001b[38;5;124mlinear\u001b[39m\u001b[38;5;124m'\u001b[39m)  \u001b[38;5;66;03m# Output is a float (arrival count)\u001b[39;00m\n\u001b[1;32m     91\u001b[0m ])\n\u001b[1;32m     93\u001b[0m model\u001b[38;5;241m.\u001b[39mcompile(optimizer\u001b[38;5;241m=\u001b[39m\u001b[38;5;124m'\u001b[39m\u001b[38;5;124madam\u001b[39m\u001b[38;5;124m'\u001b[39m, loss\u001b[38;5;241m=\u001b[39m\u001b[38;5;124m'\u001b[39m\u001b[38;5;124mmse\u001b[39m\u001b[38;5;124m'\u001b[39m, metrics\u001b[38;5;241m=\u001b[39m[\u001b[38;5;124m'\u001b[39m\u001b[38;5;124mmae\u001b[39m\u001b[38;5;124m'\u001b[39m])\n\u001b[0;32m---> 95\u001b[0m history \u001b[38;5;241m=\u001b[39m \u001b[43mmodel\u001b[49m\u001b[38;5;241;43m.\u001b[39;49m\u001b[43mfit\u001b[49m\u001b[43m(\u001b[49m\n\u001b[1;32m     96\u001b[0m \u001b[43m    \u001b[49m\u001b[43mX_train\u001b[49m\u001b[43m,\u001b[49m\u001b[43m \u001b[49m\u001b[43my_train\u001b[49m\u001b[43m,\u001b[49m\n\u001b[1;32m     97\u001b[0m \u001b[43m    \u001b[49m\u001b[43mepochs\u001b[49m\u001b[38;5;241;43m=\u001b[39;49m\u001b[38;5;241;43m50\u001b[39;49m\u001b[43m,\u001b[49m\n\u001b[1;32m     98\u001b[0m \u001b[43m    \u001b[49m\u001b[43mbatch_size\u001b[49m\u001b[38;5;241;43m=\u001b[39;49m\u001b[38;5;241;43m32\u001b[39;49m\u001b[43m,\u001b[49m\n\u001b[1;32m     99\u001b[0m \u001b[43m    \u001b[49m\u001b[43mvalidation_data\u001b[49m\u001b[38;5;241;43m=\u001b[39;49m\u001b[43m(\u001b[49m\u001b[43mX_val\u001b[49m\u001b[43m,\u001b[49m\u001b[43m \u001b[49m\u001b[43my_val\u001b[49m\u001b[43m)\u001b[49m\u001b[43m,\u001b[49m\n\u001b[1;32m    100\u001b[0m \u001b[43m    \u001b[49m\u001b[43mcallbacks\u001b[49m\u001b[38;5;241;43m=\u001b[39;49m\u001b[43m[\u001b[49m\u001b[43mtf\u001b[49m\u001b[38;5;241;43m.\u001b[39;49m\u001b[43mkeras\u001b[49m\u001b[38;5;241;43m.\u001b[39;49m\u001b[43mcallbacks\u001b[49m\u001b[38;5;241;43m.\u001b[39;49m\u001b[43mEarlyStopping\u001b[49m\u001b[43m(\u001b[49m\u001b[43mpatience\u001b[49m\u001b[38;5;241;43m=\u001b[39;49m\u001b[38;5;241;43m10\u001b[39;49m\u001b[43m,\u001b[49m\u001b[43m \u001b[49m\u001b[43mrestore_best_weights\u001b[49m\u001b[38;5;241;43m=\u001b[39;49m\u001b[38;5;28;43;01mTrue\u001b[39;49;00m\u001b[43m)\u001b[49m\u001b[43m]\u001b[49m\n\u001b[1;32m    101\u001b[0m \u001b[43m)\u001b[49m\n\u001b[1;32m    103\u001b[0m \u001b[38;5;66;03m# ========================\u001b[39;00m\n\u001b[1;32m    104\u001b[0m \u001b[38;5;66;03m# STEP 7: Evaluate and Visualize\u001b[39;00m\n\u001b[1;32m    105\u001b[0m \u001b[38;5;66;03m# ========================\u001b[39;00m\n\u001b[1;32m    106\u001b[0m y_pred \u001b[38;5;241m=\u001b[39m model\u001b[38;5;241m.\u001b[39mpredict(X_test)\u001b[38;5;241m.\u001b[39mflatten()\n",
      "File \u001b[0;32m~/.pyenv/versions/evat_env_py310/lib/python3.10/site-packages/keras/src/utils/traceback_utils.py:117\u001b[0m, in \u001b[0;36mfilter_traceback.<locals>.error_handler\u001b[0;34m(*args, **kwargs)\u001b[0m\n\u001b[1;32m    115\u001b[0m filtered_tb \u001b[38;5;241m=\u001b[39m \u001b[38;5;28;01mNone\u001b[39;00m\n\u001b[1;32m    116\u001b[0m \u001b[38;5;28;01mtry\u001b[39;00m:\n\u001b[0;32m--> 117\u001b[0m     \u001b[38;5;28;01mreturn\u001b[39;00m \u001b[43mfn\u001b[49m\u001b[43m(\u001b[49m\u001b[38;5;241;43m*\u001b[39;49m\u001b[43margs\u001b[49m\u001b[43m,\u001b[49m\u001b[43m \u001b[49m\u001b[38;5;241;43m*\u001b[39;49m\u001b[38;5;241;43m*\u001b[39;49m\u001b[43mkwargs\u001b[49m\u001b[43m)\u001b[49m\n\u001b[1;32m    118\u001b[0m \u001b[38;5;28;01mexcept\u001b[39;00m \u001b[38;5;167;01mException\u001b[39;00m \u001b[38;5;28;01mas\u001b[39;00m e:\n\u001b[1;32m    119\u001b[0m     filtered_tb \u001b[38;5;241m=\u001b[39m _process_traceback_frames(e\u001b[38;5;241m.\u001b[39m__traceback__)\n",
      "File \u001b[0;32m~/.pyenv/versions/evat_env_py310/lib/python3.10/site-packages/keras/src/backend/tensorflow/trainer.py:377\u001b[0m, in \u001b[0;36mTensorFlowTrainer.fit\u001b[0;34m(self, x, y, batch_size, epochs, verbose, callbacks, validation_split, validation_data, shuffle, class_weight, sample_weight, initial_epoch, steps_per_epoch, validation_steps, validation_batch_size, validation_freq)\u001b[0m\n\u001b[1;32m    375\u001b[0m \u001b[38;5;28;01mfor\u001b[39;00m step, iterator \u001b[38;5;129;01min\u001b[39;00m epoch_iterator:\n\u001b[1;32m    376\u001b[0m     callbacks\u001b[38;5;241m.\u001b[39mon_train_batch_begin(step)\n\u001b[0;32m--> 377\u001b[0m     logs \u001b[38;5;241m=\u001b[39m \u001b[38;5;28;43mself\u001b[39;49m\u001b[38;5;241;43m.\u001b[39;49m\u001b[43mtrain_function\u001b[49m\u001b[43m(\u001b[49m\u001b[43miterator\u001b[49m\u001b[43m)\u001b[49m\n\u001b[1;32m    378\u001b[0m     callbacks\u001b[38;5;241m.\u001b[39mon_train_batch_end(step, logs)\n\u001b[1;32m    379\u001b[0m     \u001b[38;5;28;01mif\u001b[39;00m \u001b[38;5;28mself\u001b[39m\u001b[38;5;241m.\u001b[39mstop_training:\n",
      "File \u001b[0;32m~/.pyenv/versions/evat_env_py310/lib/python3.10/site-packages/keras/src/backend/tensorflow/trainer.py:220\u001b[0m, in \u001b[0;36mTensorFlowTrainer._make_function.<locals>.function\u001b[0;34m(iterator)\u001b[0m\n\u001b[1;32m    216\u001b[0m \u001b[38;5;28;01mdef\u001b[39;00m\u001b[38;5;250m \u001b[39m\u001b[38;5;21mfunction\u001b[39m(iterator):\n\u001b[1;32m    217\u001b[0m     \u001b[38;5;28;01mif\u001b[39;00m \u001b[38;5;28misinstance\u001b[39m(\n\u001b[1;32m    218\u001b[0m         iterator, (tf\u001b[38;5;241m.\u001b[39mdata\u001b[38;5;241m.\u001b[39mIterator, tf\u001b[38;5;241m.\u001b[39mdistribute\u001b[38;5;241m.\u001b[39mDistributedIterator)\n\u001b[1;32m    219\u001b[0m     ):\n\u001b[0;32m--> 220\u001b[0m         opt_outputs \u001b[38;5;241m=\u001b[39m \u001b[43mmulti_step_on_iterator\u001b[49m\u001b[43m(\u001b[49m\u001b[43miterator\u001b[49m\u001b[43m)\u001b[49m\n\u001b[1;32m    221\u001b[0m         \u001b[38;5;28;01mif\u001b[39;00m \u001b[38;5;129;01mnot\u001b[39;00m opt_outputs\u001b[38;5;241m.\u001b[39mhas_value():\n\u001b[1;32m    222\u001b[0m             \u001b[38;5;28;01mraise\u001b[39;00m \u001b[38;5;167;01mStopIteration\u001b[39;00m\n",
      "File \u001b[0;32m~/.pyenv/versions/evat_env_py310/lib/python3.10/site-packages/tensorflow/python/util/traceback_utils.py:150\u001b[0m, in \u001b[0;36mfilter_traceback.<locals>.error_handler\u001b[0;34m(*args, **kwargs)\u001b[0m\n\u001b[1;32m    148\u001b[0m filtered_tb \u001b[38;5;241m=\u001b[39m \u001b[38;5;28;01mNone\u001b[39;00m\n\u001b[1;32m    149\u001b[0m \u001b[38;5;28;01mtry\u001b[39;00m:\n\u001b[0;32m--> 150\u001b[0m   \u001b[38;5;28;01mreturn\u001b[39;00m \u001b[43mfn\u001b[49m\u001b[43m(\u001b[49m\u001b[38;5;241;43m*\u001b[39;49m\u001b[43margs\u001b[49m\u001b[43m,\u001b[49m\u001b[43m \u001b[49m\u001b[38;5;241;43m*\u001b[39;49m\u001b[38;5;241;43m*\u001b[39;49m\u001b[43mkwargs\u001b[49m\u001b[43m)\u001b[49m\n\u001b[1;32m    151\u001b[0m \u001b[38;5;28;01mexcept\u001b[39;00m \u001b[38;5;167;01mException\u001b[39;00m \u001b[38;5;28;01mas\u001b[39;00m e:\n\u001b[1;32m    152\u001b[0m   filtered_tb \u001b[38;5;241m=\u001b[39m _process_traceback_frames(e\u001b[38;5;241m.\u001b[39m__traceback__)\n",
      "File \u001b[0;32m~/.pyenv/versions/evat_env_py310/lib/python3.10/site-packages/tensorflow/python/eager/polymorphic_function/polymorphic_function.py:833\u001b[0m, in \u001b[0;36mFunction.__call__\u001b[0;34m(self, *args, **kwds)\u001b[0m\n\u001b[1;32m    830\u001b[0m compiler \u001b[38;5;241m=\u001b[39m \u001b[38;5;124m\"\u001b[39m\u001b[38;5;124mxla\u001b[39m\u001b[38;5;124m\"\u001b[39m \u001b[38;5;28;01mif\u001b[39;00m \u001b[38;5;28mself\u001b[39m\u001b[38;5;241m.\u001b[39m_jit_compile \u001b[38;5;28;01melse\u001b[39;00m \u001b[38;5;124m\"\u001b[39m\u001b[38;5;124mnonXla\u001b[39m\u001b[38;5;124m\"\u001b[39m\n\u001b[1;32m    832\u001b[0m \u001b[38;5;28;01mwith\u001b[39;00m OptionalXlaContext(\u001b[38;5;28mself\u001b[39m\u001b[38;5;241m.\u001b[39m_jit_compile):\n\u001b[0;32m--> 833\u001b[0m   result \u001b[38;5;241m=\u001b[39m \u001b[38;5;28;43mself\u001b[39;49m\u001b[38;5;241;43m.\u001b[39;49m\u001b[43m_call\u001b[49m\u001b[43m(\u001b[49m\u001b[38;5;241;43m*\u001b[39;49m\u001b[43margs\u001b[49m\u001b[43m,\u001b[49m\u001b[43m \u001b[49m\u001b[38;5;241;43m*\u001b[39;49m\u001b[38;5;241;43m*\u001b[39;49m\u001b[43mkwds\u001b[49m\u001b[43m)\u001b[49m\n\u001b[1;32m    835\u001b[0m new_tracing_count \u001b[38;5;241m=\u001b[39m \u001b[38;5;28mself\u001b[39m\u001b[38;5;241m.\u001b[39mexperimental_get_tracing_count()\n\u001b[1;32m    836\u001b[0m without_tracing \u001b[38;5;241m=\u001b[39m (tracing_count \u001b[38;5;241m==\u001b[39m new_tracing_count)\n",
      "File \u001b[0;32m~/.pyenv/versions/evat_env_py310/lib/python3.10/site-packages/tensorflow/python/eager/polymorphic_function/polymorphic_function.py:889\u001b[0m, in \u001b[0;36mFunction._call\u001b[0;34m(self, *args, **kwds)\u001b[0m\n\u001b[1;32m    886\u001b[0m \u001b[38;5;28;01mtry\u001b[39;00m:\n\u001b[1;32m    887\u001b[0m   \u001b[38;5;66;03m# This is the first call of __call__, so we have to initialize.\u001b[39;00m\n\u001b[1;32m    888\u001b[0m   initializers \u001b[38;5;241m=\u001b[39m []\n\u001b[0;32m--> 889\u001b[0m   \u001b[38;5;28;43mself\u001b[39;49m\u001b[38;5;241;43m.\u001b[39;49m\u001b[43m_initialize\u001b[49m\u001b[43m(\u001b[49m\u001b[43margs\u001b[49m\u001b[43m,\u001b[49m\u001b[43m \u001b[49m\u001b[43mkwds\u001b[49m\u001b[43m,\u001b[49m\u001b[43m \u001b[49m\u001b[43madd_initializers_to\u001b[49m\u001b[38;5;241;43m=\u001b[39;49m\u001b[43minitializers\u001b[49m\u001b[43m)\u001b[49m\n\u001b[1;32m    890\u001b[0m \u001b[38;5;28;01mfinally\u001b[39;00m:\n\u001b[1;32m    891\u001b[0m   \u001b[38;5;66;03m# At this point we know that the initialization is complete (or less\u001b[39;00m\n\u001b[1;32m    892\u001b[0m   \u001b[38;5;66;03m# interestingly an exception was raised) so we no longer need a lock.\u001b[39;00m\n\u001b[1;32m    893\u001b[0m   \u001b[38;5;28mself\u001b[39m\u001b[38;5;241m.\u001b[39m_lock\u001b[38;5;241m.\u001b[39mrelease()\n",
      "File \u001b[0;32m~/.pyenv/versions/evat_env_py310/lib/python3.10/site-packages/tensorflow/python/eager/polymorphic_function/polymorphic_function.py:696\u001b[0m, in \u001b[0;36mFunction._initialize\u001b[0;34m(self, args, kwds, add_initializers_to)\u001b[0m\n\u001b[1;32m    691\u001b[0m \u001b[38;5;28mself\u001b[39m\u001b[38;5;241m.\u001b[39m_variable_creation_config \u001b[38;5;241m=\u001b[39m \u001b[38;5;28mself\u001b[39m\u001b[38;5;241m.\u001b[39m_generate_scoped_tracing_options(\n\u001b[1;32m    692\u001b[0m     variable_capturing_scope,\n\u001b[1;32m    693\u001b[0m     tracing_compilation\u001b[38;5;241m.\u001b[39mScopeType\u001b[38;5;241m.\u001b[39mVARIABLE_CREATION,\n\u001b[1;32m    694\u001b[0m )\n\u001b[1;32m    695\u001b[0m \u001b[38;5;66;03m# Force the definition of the function for these arguments\u001b[39;00m\n\u001b[0;32m--> 696\u001b[0m \u001b[38;5;28mself\u001b[39m\u001b[38;5;241m.\u001b[39m_concrete_variable_creation_fn \u001b[38;5;241m=\u001b[39m \u001b[43mtracing_compilation\u001b[49m\u001b[38;5;241;43m.\u001b[39;49m\u001b[43mtrace_function\u001b[49m\u001b[43m(\u001b[49m\n\u001b[1;32m    697\u001b[0m \u001b[43m    \u001b[49m\u001b[43margs\u001b[49m\u001b[43m,\u001b[49m\u001b[43m \u001b[49m\u001b[43mkwds\u001b[49m\u001b[43m,\u001b[49m\u001b[43m \u001b[49m\u001b[38;5;28;43mself\u001b[39;49m\u001b[38;5;241;43m.\u001b[39;49m\u001b[43m_variable_creation_config\u001b[49m\n\u001b[1;32m    698\u001b[0m \u001b[43m\u001b[49m\u001b[43m)\u001b[49m\n\u001b[1;32m    700\u001b[0m \u001b[38;5;28;01mdef\u001b[39;00m\u001b[38;5;250m \u001b[39m\u001b[38;5;21minvalid_creator_scope\u001b[39m(\u001b[38;5;241m*\u001b[39munused_args, \u001b[38;5;241m*\u001b[39m\u001b[38;5;241m*\u001b[39munused_kwds):\n\u001b[1;32m    701\u001b[0m \u001b[38;5;250m  \u001b[39m\u001b[38;5;124;03m\"\"\"Disables variable creation.\"\"\"\u001b[39;00m\n",
      "File \u001b[0;32m~/.pyenv/versions/evat_env_py310/lib/python3.10/site-packages/tensorflow/python/eager/polymorphic_function/tracing_compilation.py:178\u001b[0m, in \u001b[0;36mtrace_function\u001b[0;34m(args, kwargs, tracing_options)\u001b[0m\n\u001b[1;32m    175\u001b[0m     args \u001b[38;5;241m=\u001b[39m tracing_options\u001b[38;5;241m.\u001b[39minput_signature\n\u001b[1;32m    176\u001b[0m     kwargs \u001b[38;5;241m=\u001b[39m {}\n\u001b[0;32m--> 178\u001b[0m   concrete_function \u001b[38;5;241m=\u001b[39m \u001b[43m_maybe_define_function\u001b[49m\u001b[43m(\u001b[49m\n\u001b[1;32m    179\u001b[0m \u001b[43m      \u001b[49m\u001b[43margs\u001b[49m\u001b[43m,\u001b[49m\u001b[43m \u001b[49m\u001b[43mkwargs\u001b[49m\u001b[43m,\u001b[49m\u001b[43m \u001b[49m\u001b[43mtracing_options\u001b[49m\n\u001b[1;32m    180\u001b[0m \u001b[43m  \u001b[49m\u001b[43m)\u001b[49m\n\u001b[1;32m    182\u001b[0m \u001b[38;5;28;01mif\u001b[39;00m \u001b[38;5;129;01mnot\u001b[39;00m tracing_options\u001b[38;5;241m.\u001b[39mbind_graph_to_function:\n\u001b[1;32m    183\u001b[0m   concrete_function\u001b[38;5;241m.\u001b[39m_garbage_collector\u001b[38;5;241m.\u001b[39mrelease()  \u001b[38;5;66;03m# pylint: disable=protected-access\u001b[39;00m\n",
      "File \u001b[0;32m~/.pyenv/versions/evat_env_py310/lib/python3.10/site-packages/tensorflow/python/eager/polymorphic_function/tracing_compilation.py:283\u001b[0m, in \u001b[0;36m_maybe_define_function\u001b[0;34m(args, kwargs, tracing_options)\u001b[0m\n\u001b[1;32m    281\u001b[0m \u001b[38;5;28;01melse\u001b[39;00m:\n\u001b[1;32m    282\u001b[0m   target_func_type \u001b[38;5;241m=\u001b[39m lookup_func_type\n\u001b[0;32m--> 283\u001b[0m concrete_function \u001b[38;5;241m=\u001b[39m \u001b[43m_create_concrete_function\u001b[49m\u001b[43m(\u001b[49m\n\u001b[1;32m    284\u001b[0m \u001b[43m    \u001b[49m\u001b[43mtarget_func_type\u001b[49m\u001b[43m,\u001b[49m\u001b[43m \u001b[49m\u001b[43mlookup_func_context\u001b[49m\u001b[43m,\u001b[49m\u001b[43m \u001b[49m\u001b[43mfunc_graph\u001b[49m\u001b[43m,\u001b[49m\u001b[43m \u001b[49m\u001b[43mtracing_options\u001b[49m\n\u001b[1;32m    285\u001b[0m \u001b[43m\u001b[49m\u001b[43m)\u001b[49m\n\u001b[1;32m    287\u001b[0m \u001b[38;5;28;01mif\u001b[39;00m tracing_options\u001b[38;5;241m.\u001b[39mfunction_cache \u001b[38;5;129;01mis\u001b[39;00m \u001b[38;5;129;01mnot\u001b[39;00m \u001b[38;5;28;01mNone\u001b[39;00m:\n\u001b[1;32m    288\u001b[0m   tracing_options\u001b[38;5;241m.\u001b[39mfunction_cache\u001b[38;5;241m.\u001b[39madd(\n\u001b[1;32m    289\u001b[0m       concrete_function, current_func_context\n\u001b[1;32m    290\u001b[0m   )\n",
      "File \u001b[0;32m~/.pyenv/versions/evat_env_py310/lib/python3.10/site-packages/tensorflow/python/eager/polymorphic_function/tracing_compilation.py:310\u001b[0m, in \u001b[0;36m_create_concrete_function\u001b[0;34m(function_type, type_context, func_graph, tracing_options)\u001b[0m\n\u001b[1;32m    303\u001b[0m   placeholder_bound_args \u001b[38;5;241m=\u001b[39m function_type\u001b[38;5;241m.\u001b[39mplaceholder_arguments(\n\u001b[1;32m    304\u001b[0m       placeholder_context\n\u001b[1;32m    305\u001b[0m   )\n\u001b[1;32m    307\u001b[0m disable_acd \u001b[38;5;241m=\u001b[39m tracing_options\u001b[38;5;241m.\u001b[39mattributes \u001b[38;5;129;01mand\u001b[39;00m tracing_options\u001b[38;5;241m.\u001b[39mattributes\u001b[38;5;241m.\u001b[39mget(\n\u001b[1;32m    308\u001b[0m     attributes_lib\u001b[38;5;241m.\u001b[39mDISABLE_ACD, \u001b[38;5;28;01mFalse\u001b[39;00m\n\u001b[1;32m    309\u001b[0m )\n\u001b[0;32m--> 310\u001b[0m traced_func_graph \u001b[38;5;241m=\u001b[39m \u001b[43mfunc_graph_module\u001b[49m\u001b[38;5;241;43m.\u001b[39;49m\u001b[43mfunc_graph_from_py_func\u001b[49m\u001b[43m(\u001b[49m\n\u001b[1;32m    311\u001b[0m \u001b[43m    \u001b[49m\u001b[43mtracing_options\u001b[49m\u001b[38;5;241;43m.\u001b[39;49m\u001b[43mname\u001b[49m\u001b[43m,\u001b[49m\n\u001b[1;32m    312\u001b[0m \u001b[43m    \u001b[49m\u001b[43mtracing_options\u001b[49m\u001b[38;5;241;43m.\u001b[39;49m\u001b[43mpython_function\u001b[49m\u001b[43m,\u001b[49m\n\u001b[1;32m    313\u001b[0m \u001b[43m    \u001b[49m\u001b[43mplaceholder_bound_args\u001b[49m\u001b[38;5;241;43m.\u001b[39;49m\u001b[43margs\u001b[49m\u001b[43m,\u001b[49m\n\u001b[1;32m    314\u001b[0m \u001b[43m    \u001b[49m\u001b[43mplaceholder_bound_args\u001b[49m\u001b[38;5;241;43m.\u001b[39;49m\u001b[43mkwargs\u001b[49m\u001b[43m,\u001b[49m\n\u001b[1;32m    315\u001b[0m \u001b[43m    \u001b[49m\u001b[38;5;28;43;01mNone\u001b[39;49;00m\u001b[43m,\u001b[49m\n\u001b[1;32m    316\u001b[0m \u001b[43m    \u001b[49m\u001b[43mfunc_graph\u001b[49m\u001b[38;5;241;43m=\u001b[39;49m\u001b[43mfunc_graph\u001b[49m\u001b[43m,\u001b[49m\n\u001b[1;32m    317\u001b[0m \u001b[43m    \u001b[49m\u001b[43madd_control_dependencies\u001b[49m\u001b[38;5;241;43m=\u001b[39;49m\u001b[38;5;129;43;01mnot\u001b[39;49;00m\u001b[43m \u001b[49m\u001b[43mdisable_acd\u001b[49m\u001b[43m,\u001b[49m\n\u001b[1;32m    318\u001b[0m \u001b[43m    \u001b[49m\u001b[43marg_names\u001b[49m\u001b[38;5;241;43m=\u001b[39;49m\u001b[43mfunction_type_utils\u001b[49m\u001b[38;5;241;43m.\u001b[39;49m\u001b[43mto_arg_names\u001b[49m\u001b[43m(\u001b[49m\u001b[43mfunction_type\u001b[49m\u001b[43m)\u001b[49m\u001b[43m,\u001b[49m\n\u001b[1;32m    319\u001b[0m \u001b[43m    \u001b[49m\u001b[43mcreate_placeholders\u001b[49m\u001b[38;5;241;43m=\u001b[39;49m\u001b[38;5;28;43;01mFalse\u001b[39;49;00m\u001b[43m,\u001b[49m\n\u001b[1;32m    320\u001b[0m \u001b[43m\u001b[49m\u001b[43m)\u001b[49m\n\u001b[1;32m    322\u001b[0m transform\u001b[38;5;241m.\u001b[39mapply_func_graph_transforms(traced_func_graph)\n\u001b[1;32m    324\u001b[0m graph_capture_container \u001b[38;5;241m=\u001b[39m traced_func_graph\u001b[38;5;241m.\u001b[39mfunction_captures\n",
      "File \u001b[0;32m~/.pyenv/versions/evat_env_py310/lib/python3.10/site-packages/tensorflow/python/framework/func_graph.py:1060\u001b[0m, in \u001b[0;36mfunc_graph_from_py_func\u001b[0;34m(name, python_func, args, kwargs, signature, func_graph, add_control_dependencies, arg_names, op_return_value, collections, capture_by_value, create_placeholders)\u001b[0m\n\u001b[1;32m   1057\u001b[0m   \u001b[38;5;28;01mreturn\u001b[39;00m x\n\u001b[1;32m   1059\u001b[0m _, original_func \u001b[38;5;241m=\u001b[39m tf_decorator\u001b[38;5;241m.\u001b[39munwrap(python_func)\n\u001b[0;32m-> 1060\u001b[0m func_outputs \u001b[38;5;241m=\u001b[39m \u001b[43mpython_func\u001b[49m\u001b[43m(\u001b[49m\u001b[38;5;241;43m*\u001b[39;49m\u001b[43mfunc_args\u001b[49m\u001b[43m,\u001b[49m\u001b[43m \u001b[49m\u001b[38;5;241;43m*\u001b[39;49m\u001b[38;5;241;43m*\u001b[39;49m\u001b[43mfunc_kwargs\u001b[49m\u001b[43m)\u001b[49m\n\u001b[1;32m   1062\u001b[0m \u001b[38;5;66;03m# invariant: `func_outputs` contains only Tensors, CompositeTensors,\u001b[39;00m\n\u001b[1;32m   1063\u001b[0m \u001b[38;5;66;03m# TensorArrays and `None`s.\u001b[39;00m\n\u001b[1;32m   1064\u001b[0m func_outputs \u001b[38;5;241m=\u001b[39m variable_utils\u001b[38;5;241m.\u001b[39mconvert_variables_to_tensors(func_outputs)\n",
      "File \u001b[0;32m~/.pyenv/versions/evat_env_py310/lib/python3.10/site-packages/tensorflow/python/eager/polymorphic_function/polymorphic_function.py:599\u001b[0m, in \u001b[0;36mFunction._generate_scoped_tracing_options.<locals>.wrapped_fn\u001b[0;34m(*args, **kwds)\u001b[0m\n\u001b[1;32m    595\u001b[0m \u001b[38;5;28;01mwith\u001b[39;00m default_graph\u001b[38;5;241m.\u001b[39m_variable_creator_scope(scope, priority\u001b[38;5;241m=\u001b[39m\u001b[38;5;241m50\u001b[39m):  \u001b[38;5;66;03m# pylint: disable=protected-access\u001b[39;00m\n\u001b[1;32m    596\u001b[0m   \u001b[38;5;66;03m# __wrapped__ allows AutoGraph to swap in a converted function. We give\u001b[39;00m\n\u001b[1;32m    597\u001b[0m   \u001b[38;5;66;03m# the function a weak reference to itself to avoid a reference cycle.\u001b[39;00m\n\u001b[1;32m    598\u001b[0m   \u001b[38;5;28;01mwith\u001b[39;00m OptionalXlaContext(compile_with_xla):\n\u001b[0;32m--> 599\u001b[0m     out \u001b[38;5;241m=\u001b[39m \u001b[43mweak_wrapped_fn\u001b[49m\u001b[43m(\u001b[49m\u001b[43m)\u001b[49m\u001b[38;5;241;43m.\u001b[39;49m\u001b[43m__wrapped__\u001b[49m\u001b[43m(\u001b[49m\u001b[38;5;241;43m*\u001b[39;49m\u001b[43margs\u001b[49m\u001b[43m,\u001b[49m\u001b[43m \u001b[49m\u001b[38;5;241;43m*\u001b[39;49m\u001b[38;5;241;43m*\u001b[39;49m\u001b[43mkwds\u001b[49m\u001b[43m)\u001b[49m\n\u001b[1;32m    600\u001b[0m   \u001b[38;5;28;01mreturn\u001b[39;00m out\n",
      "File \u001b[0;32m~/.pyenv/versions/evat_env_py310/lib/python3.10/site-packages/tensorflow/python/eager/polymorphic_function/autograph_util.py:41\u001b[0m, in \u001b[0;36mpy_func_from_autograph.<locals>.autograph_handler\u001b[0;34m(*args, **kwargs)\u001b[0m\n\u001b[1;32m     39\u001b[0m \u001b[38;5;250m\u001b[39m\u001b[38;5;124;03m\"\"\"Calls a converted version of original_func.\"\"\"\u001b[39;00m\n\u001b[1;32m     40\u001b[0m \u001b[38;5;28;01mtry\u001b[39;00m:\n\u001b[0;32m---> 41\u001b[0m   \u001b[38;5;28;01mreturn\u001b[39;00m \u001b[43mapi\u001b[49m\u001b[38;5;241;43m.\u001b[39;49m\u001b[43mconverted_call\u001b[49m\u001b[43m(\u001b[49m\n\u001b[1;32m     42\u001b[0m \u001b[43m      \u001b[49m\u001b[43moriginal_func\u001b[49m\u001b[43m,\u001b[49m\n\u001b[1;32m     43\u001b[0m \u001b[43m      \u001b[49m\u001b[43margs\u001b[49m\u001b[43m,\u001b[49m\n\u001b[1;32m     44\u001b[0m \u001b[43m      \u001b[49m\u001b[43mkwargs\u001b[49m\u001b[43m,\u001b[49m\n\u001b[1;32m     45\u001b[0m \u001b[43m      \u001b[49m\u001b[43moptions\u001b[49m\u001b[38;5;241;43m=\u001b[39;49m\u001b[43mconverter\u001b[49m\u001b[38;5;241;43m.\u001b[39;49m\u001b[43mConversionOptions\u001b[49m\u001b[43m(\u001b[49m\n\u001b[1;32m     46\u001b[0m \u001b[43m          \u001b[49m\u001b[43mrecursive\u001b[49m\u001b[38;5;241;43m=\u001b[39;49m\u001b[38;5;28;43;01mTrue\u001b[39;49;00m\u001b[43m,\u001b[49m\n\u001b[1;32m     47\u001b[0m \u001b[43m          \u001b[49m\u001b[43moptional_features\u001b[49m\u001b[38;5;241;43m=\u001b[39;49m\u001b[43mautograph_options\u001b[49m\u001b[43m,\u001b[49m\n\u001b[1;32m     48\u001b[0m \u001b[43m          \u001b[49m\u001b[43muser_requested\u001b[49m\u001b[38;5;241;43m=\u001b[39;49m\u001b[38;5;28;43;01mTrue\u001b[39;49;00m\u001b[43m,\u001b[49m\n\u001b[1;32m     49\u001b[0m \u001b[43m      \u001b[49m\u001b[43m)\u001b[49m\u001b[43m)\u001b[49m\n\u001b[1;32m     50\u001b[0m \u001b[38;5;28;01mexcept\u001b[39;00m \u001b[38;5;167;01mException\u001b[39;00m \u001b[38;5;28;01mas\u001b[39;00m e:  \u001b[38;5;66;03m# pylint:disable=broad-except\u001b[39;00m\n\u001b[1;32m     51\u001b[0m   \u001b[38;5;28;01mif\u001b[39;00m \u001b[38;5;28mhasattr\u001b[39m(e, \u001b[38;5;124m\"\u001b[39m\u001b[38;5;124mag_error_metadata\u001b[39m\u001b[38;5;124m\"\u001b[39m):\n",
      "File \u001b[0;32m~/.pyenv/versions/evat_env_py310/lib/python3.10/site-packages/tensorflow/python/autograph/impl/api.py:339\u001b[0m, in \u001b[0;36mconverted_call\u001b[0;34m(f, args, kwargs, caller_fn_scope, options)\u001b[0m\n\u001b[1;32m    337\u001b[0m \u001b[38;5;28;01mif\u001b[39;00m is_autograph_artifact(f):\n\u001b[1;32m    338\u001b[0m   logging\u001b[38;5;241m.\u001b[39mlog(\u001b[38;5;241m2\u001b[39m, \u001b[38;5;124m'\u001b[39m\u001b[38;5;124mPermanently allowed: \u001b[39m\u001b[38;5;132;01m%s\u001b[39;00m\u001b[38;5;124m: AutoGraph artifact\u001b[39m\u001b[38;5;124m'\u001b[39m, f)\n\u001b[0;32m--> 339\u001b[0m   \u001b[38;5;28;01mreturn\u001b[39;00m \u001b[43m_call_unconverted\u001b[49m\u001b[43m(\u001b[49m\u001b[43mf\u001b[49m\u001b[43m,\u001b[49m\u001b[43m \u001b[49m\u001b[43margs\u001b[49m\u001b[43m,\u001b[49m\u001b[43m \u001b[49m\u001b[43mkwargs\u001b[49m\u001b[43m,\u001b[49m\u001b[43m \u001b[49m\u001b[43moptions\u001b[49m\u001b[43m)\u001b[49m\n\u001b[1;32m    341\u001b[0m \u001b[38;5;66;03m# If this is a partial, unwrap it and redo all the checks.\u001b[39;00m\n\u001b[1;32m    342\u001b[0m \u001b[38;5;28;01mif\u001b[39;00m \u001b[38;5;28misinstance\u001b[39m(f, functools\u001b[38;5;241m.\u001b[39mpartial):\n",
      "File \u001b[0;32m~/.pyenv/versions/evat_env_py310/lib/python3.10/site-packages/tensorflow/python/autograph/impl/api.py:459\u001b[0m, in \u001b[0;36m_call_unconverted\u001b[0;34m(f, args, kwargs, options, update_cache)\u001b[0m\n\u001b[1;32m    456\u001b[0m   \u001b[38;5;28;01mreturn\u001b[39;00m f\u001b[38;5;241m.\u001b[39m\u001b[38;5;18m__self__\u001b[39m\u001b[38;5;241m.\u001b[39mcall(args, kwargs)\n\u001b[1;32m    458\u001b[0m \u001b[38;5;28;01mif\u001b[39;00m kwargs \u001b[38;5;129;01mis\u001b[39;00m \u001b[38;5;129;01mnot\u001b[39;00m \u001b[38;5;28;01mNone\u001b[39;00m:\n\u001b[0;32m--> 459\u001b[0m   \u001b[38;5;28;01mreturn\u001b[39;00m \u001b[43mf\u001b[49m\u001b[43m(\u001b[49m\u001b[38;5;241;43m*\u001b[39;49m\u001b[43margs\u001b[49m\u001b[43m,\u001b[49m\u001b[43m \u001b[49m\u001b[38;5;241;43m*\u001b[39;49m\u001b[38;5;241;43m*\u001b[39;49m\u001b[43mkwargs\u001b[49m\u001b[43m)\u001b[49m\n\u001b[1;32m    460\u001b[0m \u001b[38;5;28;01mreturn\u001b[39;00m f(\u001b[38;5;241m*\u001b[39margs)\n",
      "File \u001b[0;32m~/.pyenv/versions/evat_env_py310/lib/python3.10/site-packages/tensorflow/python/autograph/impl/api.py:643\u001b[0m, in \u001b[0;36mdo_not_convert.<locals>.wrapper\u001b[0;34m(*args, **kwargs)\u001b[0m\n\u001b[1;32m    641\u001b[0m \u001b[38;5;28;01mdef\u001b[39;00m\u001b[38;5;250m \u001b[39m\u001b[38;5;21mwrapper\u001b[39m(\u001b[38;5;241m*\u001b[39margs, \u001b[38;5;241m*\u001b[39m\u001b[38;5;241m*\u001b[39mkwargs):\n\u001b[1;32m    642\u001b[0m   \u001b[38;5;28;01mwith\u001b[39;00m ag_ctx\u001b[38;5;241m.\u001b[39mControlStatusCtx(status\u001b[38;5;241m=\u001b[39mag_ctx\u001b[38;5;241m.\u001b[39mStatus\u001b[38;5;241m.\u001b[39mDISABLED):\n\u001b[0;32m--> 643\u001b[0m     \u001b[38;5;28;01mreturn\u001b[39;00m \u001b[43mfunc\u001b[49m\u001b[43m(\u001b[49m\u001b[38;5;241;43m*\u001b[39;49m\u001b[43margs\u001b[49m\u001b[43m,\u001b[49m\u001b[43m \u001b[49m\u001b[38;5;241;43m*\u001b[39;49m\u001b[38;5;241;43m*\u001b[39;49m\u001b[43mkwargs\u001b[49m\u001b[43m)\u001b[49m\n",
      "File \u001b[0;32m~/.pyenv/versions/evat_env_py310/lib/python3.10/site-packages/keras/src/backend/tensorflow/trainer.py:133\u001b[0m, in \u001b[0;36mTensorFlowTrainer._make_function.<locals>.multi_step_on_iterator\u001b[0;34m(iterator)\u001b[0m\n\u001b[1;32m    129\u001b[0m \u001b[38;5;129m@tf\u001b[39m\u001b[38;5;241m.\u001b[39mautograph\u001b[38;5;241m.\u001b[39mexperimental\u001b[38;5;241m.\u001b[39mdo_not_convert\n\u001b[1;32m    130\u001b[0m \u001b[38;5;28;01mdef\u001b[39;00m\u001b[38;5;250m \u001b[39m\u001b[38;5;21mmulti_step_on_iterator\u001b[39m(iterator):\n\u001b[1;32m    131\u001b[0m     \u001b[38;5;28;01mif\u001b[39;00m \u001b[38;5;28mself\u001b[39m\u001b[38;5;241m.\u001b[39msteps_per_execution \u001b[38;5;241m==\u001b[39m \u001b[38;5;241m1\u001b[39m:\n\u001b[1;32m    132\u001b[0m         \u001b[38;5;28;01mreturn\u001b[39;00m tf\u001b[38;5;241m.\u001b[39mexperimental\u001b[38;5;241m.\u001b[39mOptional\u001b[38;5;241m.\u001b[39mfrom_value(\n\u001b[0;32m--> 133\u001b[0m             \u001b[43mone_step_on_data\u001b[49m\u001b[43m(\u001b[49m\u001b[43miterator\u001b[49m\u001b[38;5;241;43m.\u001b[39;49m\u001b[43mget_next\u001b[49m\u001b[43m(\u001b[49m\u001b[43m)\u001b[49m\u001b[43m)\u001b[49m\n\u001b[1;32m    134\u001b[0m         )\n\u001b[1;32m    136\u001b[0m     \u001b[38;5;66;03m# the spec is set lazily during the tracing of `tf.while_loop`\u001b[39;00m\n\u001b[1;32m    137\u001b[0m     empty_outputs \u001b[38;5;241m=\u001b[39m tf\u001b[38;5;241m.\u001b[39mexperimental\u001b[38;5;241m.\u001b[39mOptional\u001b[38;5;241m.\u001b[39mempty(\u001b[38;5;28;01mNone\u001b[39;00m)\n",
      "File \u001b[0;32m~/.pyenv/versions/evat_env_py310/lib/python3.10/site-packages/tensorflow/python/util/traceback_utils.py:150\u001b[0m, in \u001b[0;36mfilter_traceback.<locals>.error_handler\u001b[0;34m(*args, **kwargs)\u001b[0m\n\u001b[1;32m    148\u001b[0m filtered_tb \u001b[38;5;241m=\u001b[39m \u001b[38;5;28;01mNone\u001b[39;00m\n\u001b[1;32m    149\u001b[0m \u001b[38;5;28;01mtry\u001b[39;00m:\n\u001b[0;32m--> 150\u001b[0m   \u001b[38;5;28;01mreturn\u001b[39;00m \u001b[43mfn\u001b[49m\u001b[43m(\u001b[49m\u001b[38;5;241;43m*\u001b[39;49m\u001b[43margs\u001b[49m\u001b[43m,\u001b[49m\u001b[43m \u001b[49m\u001b[38;5;241;43m*\u001b[39;49m\u001b[38;5;241;43m*\u001b[39;49m\u001b[43mkwargs\u001b[49m\u001b[43m)\u001b[49m\n\u001b[1;32m    151\u001b[0m \u001b[38;5;28;01mexcept\u001b[39;00m \u001b[38;5;167;01mException\u001b[39;00m \u001b[38;5;28;01mas\u001b[39;00m e:\n\u001b[1;32m    152\u001b[0m   filtered_tb \u001b[38;5;241m=\u001b[39m _process_traceback_frames(e\u001b[38;5;241m.\u001b[39m__traceback__)\n",
      "File \u001b[0;32m~/.pyenv/versions/evat_env_py310/lib/python3.10/site-packages/tensorflow/python/eager/polymorphic_function/polymorphic_function.py:833\u001b[0m, in \u001b[0;36mFunction.__call__\u001b[0;34m(self, *args, **kwds)\u001b[0m\n\u001b[1;32m    830\u001b[0m compiler \u001b[38;5;241m=\u001b[39m \u001b[38;5;124m\"\u001b[39m\u001b[38;5;124mxla\u001b[39m\u001b[38;5;124m\"\u001b[39m \u001b[38;5;28;01mif\u001b[39;00m \u001b[38;5;28mself\u001b[39m\u001b[38;5;241m.\u001b[39m_jit_compile \u001b[38;5;28;01melse\u001b[39;00m \u001b[38;5;124m\"\u001b[39m\u001b[38;5;124mnonXla\u001b[39m\u001b[38;5;124m\"\u001b[39m\n\u001b[1;32m    832\u001b[0m \u001b[38;5;28;01mwith\u001b[39;00m OptionalXlaContext(\u001b[38;5;28mself\u001b[39m\u001b[38;5;241m.\u001b[39m_jit_compile):\n\u001b[0;32m--> 833\u001b[0m   result \u001b[38;5;241m=\u001b[39m \u001b[38;5;28;43mself\u001b[39;49m\u001b[38;5;241;43m.\u001b[39;49m\u001b[43m_call\u001b[49m\u001b[43m(\u001b[49m\u001b[38;5;241;43m*\u001b[39;49m\u001b[43margs\u001b[49m\u001b[43m,\u001b[49m\u001b[43m \u001b[49m\u001b[38;5;241;43m*\u001b[39;49m\u001b[38;5;241;43m*\u001b[39;49m\u001b[43mkwds\u001b[49m\u001b[43m)\u001b[49m\n\u001b[1;32m    835\u001b[0m new_tracing_count \u001b[38;5;241m=\u001b[39m \u001b[38;5;28mself\u001b[39m\u001b[38;5;241m.\u001b[39mexperimental_get_tracing_count()\n\u001b[1;32m    836\u001b[0m without_tracing \u001b[38;5;241m=\u001b[39m (tracing_count \u001b[38;5;241m==\u001b[39m new_tracing_count)\n",
      "File \u001b[0;32m~/.pyenv/versions/evat_env_py310/lib/python3.10/site-packages/tensorflow/python/eager/polymorphic_function/polymorphic_function.py:906\u001b[0m, in \u001b[0;36mFunction._call\u001b[0;34m(self, *args, **kwds)\u001b[0m\n\u001b[1;32m    902\u001b[0m     \u001b[38;5;28;01mpass\u001b[39;00m  \u001b[38;5;66;03m# Fall through to cond-based initialization.\u001b[39;00m\n\u001b[1;32m    903\u001b[0m   \u001b[38;5;28;01melse\u001b[39;00m:\n\u001b[1;32m    904\u001b[0m     \u001b[38;5;66;03m# Lifting succeeded, so variables are initialized and we can run the\u001b[39;00m\n\u001b[1;32m    905\u001b[0m     \u001b[38;5;66;03m# no_variable_creation function.\u001b[39;00m\n\u001b[0;32m--> 906\u001b[0m     \u001b[38;5;28;01mreturn\u001b[39;00m \u001b[43mtracing_compilation\u001b[49m\u001b[38;5;241;43m.\u001b[39;49m\u001b[43mcall_function\u001b[49m\u001b[43m(\u001b[49m\n\u001b[1;32m    907\u001b[0m \u001b[43m        \u001b[49m\u001b[43margs\u001b[49m\u001b[43m,\u001b[49m\u001b[43m \u001b[49m\u001b[43mkwds\u001b[49m\u001b[43m,\u001b[49m\u001b[43m \u001b[49m\u001b[38;5;28;43mself\u001b[39;49m\u001b[38;5;241;43m.\u001b[39;49m\u001b[43m_no_variable_creation_config\u001b[49m\n\u001b[1;32m    908\u001b[0m \u001b[43m    \u001b[49m\u001b[43m)\u001b[49m\n\u001b[1;32m    909\u001b[0m \u001b[38;5;28;01melse\u001b[39;00m:\n\u001b[1;32m    910\u001b[0m   bound_args \u001b[38;5;241m=\u001b[39m \u001b[38;5;28mself\u001b[39m\u001b[38;5;241m.\u001b[39m_concrete_variable_creation_fn\u001b[38;5;241m.\u001b[39mfunction_type\u001b[38;5;241m.\u001b[39mbind(\n\u001b[1;32m    911\u001b[0m       \u001b[38;5;241m*\u001b[39margs, \u001b[38;5;241m*\u001b[39m\u001b[38;5;241m*\u001b[39mkwds\n\u001b[1;32m    912\u001b[0m   )\n",
      "File \u001b[0;32m~/.pyenv/versions/evat_env_py310/lib/python3.10/site-packages/tensorflow/python/eager/polymorphic_function/tracing_compilation.py:132\u001b[0m, in \u001b[0;36mcall_function\u001b[0;34m(args, kwargs, tracing_options)\u001b[0m\n\u001b[1;32m    130\u001b[0m args \u001b[38;5;241m=\u001b[39m args \u001b[38;5;28;01mif\u001b[39;00m args \u001b[38;5;28;01melse\u001b[39;00m ()\n\u001b[1;32m    131\u001b[0m kwargs \u001b[38;5;241m=\u001b[39m kwargs \u001b[38;5;28;01mif\u001b[39;00m kwargs \u001b[38;5;28;01melse\u001b[39;00m {}\n\u001b[0;32m--> 132\u001b[0m function \u001b[38;5;241m=\u001b[39m \u001b[43mtrace_function\u001b[49m\u001b[43m(\u001b[49m\n\u001b[1;32m    133\u001b[0m \u001b[43m    \u001b[49m\u001b[43margs\u001b[49m\u001b[38;5;241;43m=\u001b[39;49m\u001b[43margs\u001b[49m\u001b[43m,\u001b[49m\u001b[43m \u001b[49m\u001b[43mkwargs\u001b[49m\u001b[38;5;241;43m=\u001b[39;49m\u001b[43mkwargs\u001b[49m\u001b[43m,\u001b[49m\u001b[43m \u001b[49m\u001b[43mtracing_options\u001b[49m\u001b[38;5;241;43m=\u001b[39;49m\u001b[43mtracing_options\u001b[49m\n\u001b[1;32m    134\u001b[0m \u001b[43m\u001b[49m\u001b[43m)\u001b[49m\n\u001b[1;32m    136\u001b[0m \u001b[38;5;66;03m# Bind it ourselves to skip unnecessary canonicalization of default call.\u001b[39;00m\n\u001b[1;32m    137\u001b[0m bound_args \u001b[38;5;241m=\u001b[39m function\u001b[38;5;241m.\u001b[39mfunction_type\u001b[38;5;241m.\u001b[39mbind(\u001b[38;5;241m*\u001b[39margs, \u001b[38;5;241m*\u001b[39m\u001b[38;5;241m*\u001b[39mkwargs)\n",
      "File \u001b[0;32m~/.pyenv/versions/evat_env_py310/lib/python3.10/site-packages/tensorflow/python/eager/polymorphic_function/tracing_compilation.py:178\u001b[0m, in \u001b[0;36mtrace_function\u001b[0;34m(args, kwargs, tracing_options)\u001b[0m\n\u001b[1;32m    175\u001b[0m     args \u001b[38;5;241m=\u001b[39m tracing_options\u001b[38;5;241m.\u001b[39minput_signature\n\u001b[1;32m    176\u001b[0m     kwargs \u001b[38;5;241m=\u001b[39m {}\n\u001b[0;32m--> 178\u001b[0m   concrete_function \u001b[38;5;241m=\u001b[39m \u001b[43m_maybe_define_function\u001b[49m\u001b[43m(\u001b[49m\n\u001b[1;32m    179\u001b[0m \u001b[43m      \u001b[49m\u001b[43margs\u001b[49m\u001b[43m,\u001b[49m\u001b[43m \u001b[49m\u001b[43mkwargs\u001b[49m\u001b[43m,\u001b[49m\u001b[43m \u001b[49m\u001b[43mtracing_options\u001b[49m\n\u001b[1;32m    180\u001b[0m \u001b[43m  \u001b[49m\u001b[43m)\u001b[49m\n\u001b[1;32m    182\u001b[0m \u001b[38;5;28;01mif\u001b[39;00m \u001b[38;5;129;01mnot\u001b[39;00m tracing_options\u001b[38;5;241m.\u001b[39mbind_graph_to_function:\n\u001b[1;32m    183\u001b[0m   concrete_function\u001b[38;5;241m.\u001b[39m_garbage_collector\u001b[38;5;241m.\u001b[39mrelease()  \u001b[38;5;66;03m# pylint: disable=protected-access\u001b[39;00m\n",
      "File \u001b[0;32m~/.pyenv/versions/evat_env_py310/lib/python3.10/site-packages/tensorflow/python/eager/polymorphic_function/tracing_compilation.py:283\u001b[0m, in \u001b[0;36m_maybe_define_function\u001b[0;34m(args, kwargs, tracing_options)\u001b[0m\n\u001b[1;32m    281\u001b[0m \u001b[38;5;28;01melse\u001b[39;00m:\n\u001b[1;32m    282\u001b[0m   target_func_type \u001b[38;5;241m=\u001b[39m lookup_func_type\n\u001b[0;32m--> 283\u001b[0m concrete_function \u001b[38;5;241m=\u001b[39m \u001b[43m_create_concrete_function\u001b[49m\u001b[43m(\u001b[49m\n\u001b[1;32m    284\u001b[0m \u001b[43m    \u001b[49m\u001b[43mtarget_func_type\u001b[49m\u001b[43m,\u001b[49m\u001b[43m \u001b[49m\u001b[43mlookup_func_context\u001b[49m\u001b[43m,\u001b[49m\u001b[43m \u001b[49m\u001b[43mfunc_graph\u001b[49m\u001b[43m,\u001b[49m\u001b[43m \u001b[49m\u001b[43mtracing_options\u001b[49m\n\u001b[1;32m    285\u001b[0m \u001b[43m\u001b[49m\u001b[43m)\u001b[49m\n\u001b[1;32m    287\u001b[0m \u001b[38;5;28;01mif\u001b[39;00m tracing_options\u001b[38;5;241m.\u001b[39mfunction_cache \u001b[38;5;129;01mis\u001b[39;00m \u001b[38;5;129;01mnot\u001b[39;00m \u001b[38;5;28;01mNone\u001b[39;00m:\n\u001b[1;32m    288\u001b[0m   tracing_options\u001b[38;5;241m.\u001b[39mfunction_cache\u001b[38;5;241m.\u001b[39madd(\n\u001b[1;32m    289\u001b[0m       concrete_function, current_func_context\n\u001b[1;32m    290\u001b[0m   )\n",
      "File \u001b[0;32m~/.pyenv/versions/evat_env_py310/lib/python3.10/site-packages/tensorflow/python/eager/polymorphic_function/tracing_compilation.py:310\u001b[0m, in \u001b[0;36m_create_concrete_function\u001b[0;34m(function_type, type_context, func_graph, tracing_options)\u001b[0m\n\u001b[1;32m    303\u001b[0m   placeholder_bound_args \u001b[38;5;241m=\u001b[39m function_type\u001b[38;5;241m.\u001b[39mplaceholder_arguments(\n\u001b[1;32m    304\u001b[0m       placeholder_context\n\u001b[1;32m    305\u001b[0m   )\n\u001b[1;32m    307\u001b[0m disable_acd \u001b[38;5;241m=\u001b[39m tracing_options\u001b[38;5;241m.\u001b[39mattributes \u001b[38;5;129;01mand\u001b[39;00m tracing_options\u001b[38;5;241m.\u001b[39mattributes\u001b[38;5;241m.\u001b[39mget(\n\u001b[1;32m    308\u001b[0m     attributes_lib\u001b[38;5;241m.\u001b[39mDISABLE_ACD, \u001b[38;5;28;01mFalse\u001b[39;00m\n\u001b[1;32m    309\u001b[0m )\n\u001b[0;32m--> 310\u001b[0m traced_func_graph \u001b[38;5;241m=\u001b[39m \u001b[43mfunc_graph_module\u001b[49m\u001b[38;5;241;43m.\u001b[39;49m\u001b[43mfunc_graph_from_py_func\u001b[49m\u001b[43m(\u001b[49m\n\u001b[1;32m    311\u001b[0m \u001b[43m    \u001b[49m\u001b[43mtracing_options\u001b[49m\u001b[38;5;241;43m.\u001b[39;49m\u001b[43mname\u001b[49m\u001b[43m,\u001b[49m\n\u001b[1;32m    312\u001b[0m \u001b[43m    \u001b[49m\u001b[43mtracing_options\u001b[49m\u001b[38;5;241;43m.\u001b[39;49m\u001b[43mpython_function\u001b[49m\u001b[43m,\u001b[49m\n\u001b[1;32m    313\u001b[0m \u001b[43m    \u001b[49m\u001b[43mplaceholder_bound_args\u001b[49m\u001b[38;5;241;43m.\u001b[39;49m\u001b[43margs\u001b[49m\u001b[43m,\u001b[49m\n\u001b[1;32m    314\u001b[0m \u001b[43m    \u001b[49m\u001b[43mplaceholder_bound_args\u001b[49m\u001b[38;5;241;43m.\u001b[39;49m\u001b[43mkwargs\u001b[49m\u001b[43m,\u001b[49m\n\u001b[1;32m    315\u001b[0m \u001b[43m    \u001b[49m\u001b[38;5;28;43;01mNone\u001b[39;49;00m\u001b[43m,\u001b[49m\n\u001b[1;32m    316\u001b[0m \u001b[43m    \u001b[49m\u001b[43mfunc_graph\u001b[49m\u001b[38;5;241;43m=\u001b[39;49m\u001b[43mfunc_graph\u001b[49m\u001b[43m,\u001b[49m\n\u001b[1;32m    317\u001b[0m \u001b[43m    \u001b[49m\u001b[43madd_control_dependencies\u001b[49m\u001b[38;5;241;43m=\u001b[39;49m\u001b[38;5;129;43;01mnot\u001b[39;49;00m\u001b[43m \u001b[49m\u001b[43mdisable_acd\u001b[49m\u001b[43m,\u001b[49m\n\u001b[1;32m    318\u001b[0m \u001b[43m    \u001b[49m\u001b[43marg_names\u001b[49m\u001b[38;5;241;43m=\u001b[39;49m\u001b[43mfunction_type_utils\u001b[49m\u001b[38;5;241;43m.\u001b[39;49m\u001b[43mto_arg_names\u001b[49m\u001b[43m(\u001b[49m\u001b[43mfunction_type\u001b[49m\u001b[43m)\u001b[49m\u001b[43m,\u001b[49m\n\u001b[1;32m    319\u001b[0m \u001b[43m    \u001b[49m\u001b[43mcreate_placeholders\u001b[49m\u001b[38;5;241;43m=\u001b[39;49m\u001b[38;5;28;43;01mFalse\u001b[39;49;00m\u001b[43m,\u001b[49m\n\u001b[1;32m    320\u001b[0m \u001b[43m\u001b[49m\u001b[43m)\u001b[49m\n\u001b[1;32m    322\u001b[0m transform\u001b[38;5;241m.\u001b[39mapply_func_graph_transforms(traced_func_graph)\n\u001b[1;32m    324\u001b[0m graph_capture_container \u001b[38;5;241m=\u001b[39m traced_func_graph\u001b[38;5;241m.\u001b[39mfunction_captures\n",
      "File \u001b[0;32m~/.pyenv/versions/evat_env_py310/lib/python3.10/site-packages/tensorflow/python/framework/func_graph.py:1060\u001b[0m, in \u001b[0;36mfunc_graph_from_py_func\u001b[0;34m(name, python_func, args, kwargs, signature, func_graph, add_control_dependencies, arg_names, op_return_value, collections, capture_by_value, create_placeholders)\u001b[0m\n\u001b[1;32m   1057\u001b[0m   \u001b[38;5;28;01mreturn\u001b[39;00m x\n\u001b[1;32m   1059\u001b[0m _, original_func \u001b[38;5;241m=\u001b[39m tf_decorator\u001b[38;5;241m.\u001b[39munwrap(python_func)\n\u001b[0;32m-> 1060\u001b[0m func_outputs \u001b[38;5;241m=\u001b[39m \u001b[43mpython_func\u001b[49m\u001b[43m(\u001b[49m\u001b[38;5;241;43m*\u001b[39;49m\u001b[43mfunc_args\u001b[49m\u001b[43m,\u001b[49m\u001b[43m \u001b[49m\u001b[38;5;241;43m*\u001b[39;49m\u001b[38;5;241;43m*\u001b[39;49m\u001b[43mfunc_kwargs\u001b[49m\u001b[43m)\u001b[49m\n\u001b[1;32m   1062\u001b[0m \u001b[38;5;66;03m# invariant: `func_outputs` contains only Tensors, CompositeTensors,\u001b[39;00m\n\u001b[1;32m   1063\u001b[0m \u001b[38;5;66;03m# TensorArrays and `None`s.\u001b[39;00m\n\u001b[1;32m   1064\u001b[0m func_outputs \u001b[38;5;241m=\u001b[39m variable_utils\u001b[38;5;241m.\u001b[39mconvert_variables_to_tensors(func_outputs)\n",
      "File \u001b[0;32m~/.pyenv/versions/evat_env_py310/lib/python3.10/site-packages/tensorflow/python/eager/polymorphic_function/polymorphic_function.py:599\u001b[0m, in \u001b[0;36mFunction._generate_scoped_tracing_options.<locals>.wrapped_fn\u001b[0;34m(*args, **kwds)\u001b[0m\n\u001b[1;32m    595\u001b[0m \u001b[38;5;28;01mwith\u001b[39;00m default_graph\u001b[38;5;241m.\u001b[39m_variable_creator_scope(scope, priority\u001b[38;5;241m=\u001b[39m\u001b[38;5;241m50\u001b[39m):  \u001b[38;5;66;03m# pylint: disable=protected-access\u001b[39;00m\n\u001b[1;32m    596\u001b[0m   \u001b[38;5;66;03m# __wrapped__ allows AutoGraph to swap in a converted function. We give\u001b[39;00m\n\u001b[1;32m    597\u001b[0m   \u001b[38;5;66;03m# the function a weak reference to itself to avoid a reference cycle.\u001b[39;00m\n\u001b[1;32m    598\u001b[0m   \u001b[38;5;28;01mwith\u001b[39;00m OptionalXlaContext(compile_with_xla):\n\u001b[0;32m--> 599\u001b[0m     out \u001b[38;5;241m=\u001b[39m \u001b[43mweak_wrapped_fn\u001b[49m\u001b[43m(\u001b[49m\u001b[43m)\u001b[49m\u001b[38;5;241;43m.\u001b[39;49m\u001b[43m__wrapped__\u001b[49m\u001b[43m(\u001b[49m\u001b[38;5;241;43m*\u001b[39;49m\u001b[43margs\u001b[49m\u001b[43m,\u001b[49m\u001b[43m \u001b[49m\u001b[38;5;241;43m*\u001b[39;49m\u001b[38;5;241;43m*\u001b[39;49m\u001b[43mkwds\u001b[49m\u001b[43m)\u001b[49m\n\u001b[1;32m    600\u001b[0m   \u001b[38;5;28;01mreturn\u001b[39;00m out\n",
      "File \u001b[0;32m~/.pyenv/versions/evat_env_py310/lib/python3.10/site-packages/tensorflow/python/eager/polymorphic_function/autograph_util.py:41\u001b[0m, in \u001b[0;36mpy_func_from_autograph.<locals>.autograph_handler\u001b[0;34m(*args, **kwargs)\u001b[0m\n\u001b[1;32m     39\u001b[0m \u001b[38;5;250m\u001b[39m\u001b[38;5;124;03m\"\"\"Calls a converted version of original_func.\"\"\"\u001b[39;00m\n\u001b[1;32m     40\u001b[0m \u001b[38;5;28;01mtry\u001b[39;00m:\n\u001b[0;32m---> 41\u001b[0m   \u001b[38;5;28;01mreturn\u001b[39;00m \u001b[43mapi\u001b[49m\u001b[38;5;241;43m.\u001b[39;49m\u001b[43mconverted_call\u001b[49m\u001b[43m(\u001b[49m\n\u001b[1;32m     42\u001b[0m \u001b[43m      \u001b[49m\u001b[43moriginal_func\u001b[49m\u001b[43m,\u001b[49m\n\u001b[1;32m     43\u001b[0m \u001b[43m      \u001b[49m\u001b[43margs\u001b[49m\u001b[43m,\u001b[49m\n\u001b[1;32m     44\u001b[0m \u001b[43m      \u001b[49m\u001b[43mkwargs\u001b[49m\u001b[43m,\u001b[49m\n\u001b[1;32m     45\u001b[0m \u001b[43m      \u001b[49m\u001b[43moptions\u001b[49m\u001b[38;5;241;43m=\u001b[39;49m\u001b[43mconverter\u001b[49m\u001b[38;5;241;43m.\u001b[39;49m\u001b[43mConversionOptions\u001b[49m\u001b[43m(\u001b[49m\n\u001b[1;32m     46\u001b[0m \u001b[43m          \u001b[49m\u001b[43mrecursive\u001b[49m\u001b[38;5;241;43m=\u001b[39;49m\u001b[38;5;28;43;01mTrue\u001b[39;49;00m\u001b[43m,\u001b[49m\n\u001b[1;32m     47\u001b[0m \u001b[43m          \u001b[49m\u001b[43moptional_features\u001b[49m\u001b[38;5;241;43m=\u001b[39;49m\u001b[43mautograph_options\u001b[49m\u001b[43m,\u001b[49m\n\u001b[1;32m     48\u001b[0m \u001b[43m          \u001b[49m\u001b[43muser_requested\u001b[49m\u001b[38;5;241;43m=\u001b[39;49m\u001b[38;5;28;43;01mTrue\u001b[39;49;00m\u001b[43m,\u001b[49m\n\u001b[1;32m     49\u001b[0m \u001b[43m      \u001b[49m\u001b[43m)\u001b[49m\u001b[43m)\u001b[49m\n\u001b[1;32m     50\u001b[0m \u001b[38;5;28;01mexcept\u001b[39;00m \u001b[38;5;167;01mException\u001b[39;00m \u001b[38;5;28;01mas\u001b[39;00m e:  \u001b[38;5;66;03m# pylint:disable=broad-except\u001b[39;00m\n\u001b[1;32m     51\u001b[0m   \u001b[38;5;28;01mif\u001b[39;00m \u001b[38;5;28mhasattr\u001b[39m(e, \u001b[38;5;124m\"\u001b[39m\u001b[38;5;124mag_error_metadata\u001b[39m\u001b[38;5;124m\"\u001b[39m):\n",
      "File \u001b[0;32m~/.pyenv/versions/evat_env_py310/lib/python3.10/site-packages/tensorflow/python/autograph/impl/api.py:331\u001b[0m, in \u001b[0;36mconverted_call\u001b[0;34m(f, args, kwargs, caller_fn_scope, options)\u001b[0m\n\u001b[1;32m    329\u001b[0m \u001b[38;5;28;01mif\u001b[39;00m conversion\u001b[38;5;241m.\u001b[39mis_in_allowlist_cache(f, options):\n\u001b[1;32m    330\u001b[0m   logging\u001b[38;5;241m.\u001b[39mlog(\u001b[38;5;241m2\u001b[39m, \u001b[38;5;124m'\u001b[39m\u001b[38;5;124mAllowlisted \u001b[39m\u001b[38;5;132;01m%s\u001b[39;00m\u001b[38;5;124m: from cache\u001b[39m\u001b[38;5;124m'\u001b[39m, f)\n\u001b[0;32m--> 331\u001b[0m   \u001b[38;5;28;01mreturn\u001b[39;00m \u001b[43m_call_unconverted\u001b[49m\u001b[43m(\u001b[49m\u001b[43mf\u001b[49m\u001b[43m,\u001b[49m\u001b[43m \u001b[49m\u001b[43margs\u001b[49m\u001b[43m,\u001b[49m\u001b[43m \u001b[49m\u001b[43mkwargs\u001b[49m\u001b[43m,\u001b[49m\u001b[43m \u001b[49m\u001b[43moptions\u001b[49m\u001b[43m,\u001b[49m\u001b[43m \u001b[49m\u001b[38;5;28;43;01mFalse\u001b[39;49;00m\u001b[43m)\u001b[49m\n\u001b[1;32m    333\u001b[0m \u001b[38;5;28;01mif\u001b[39;00m ag_ctx\u001b[38;5;241m.\u001b[39mcontrol_status_ctx()\u001b[38;5;241m.\u001b[39mstatus \u001b[38;5;241m==\u001b[39m ag_ctx\u001b[38;5;241m.\u001b[39mStatus\u001b[38;5;241m.\u001b[39mDISABLED:\n\u001b[1;32m    334\u001b[0m   logging\u001b[38;5;241m.\u001b[39mlog(\u001b[38;5;241m2\u001b[39m, \u001b[38;5;124m'\u001b[39m\u001b[38;5;124mAllowlisted: \u001b[39m\u001b[38;5;132;01m%s\u001b[39;00m\u001b[38;5;124m: AutoGraph is disabled in context\u001b[39m\u001b[38;5;124m'\u001b[39m, f)\n",
      "File \u001b[0;32m~/.pyenv/versions/evat_env_py310/lib/python3.10/site-packages/tensorflow/python/autograph/impl/api.py:459\u001b[0m, in \u001b[0;36m_call_unconverted\u001b[0;34m(f, args, kwargs, options, update_cache)\u001b[0m\n\u001b[1;32m    456\u001b[0m   \u001b[38;5;28;01mreturn\u001b[39;00m f\u001b[38;5;241m.\u001b[39m\u001b[38;5;18m__self__\u001b[39m\u001b[38;5;241m.\u001b[39mcall(args, kwargs)\n\u001b[1;32m    458\u001b[0m \u001b[38;5;28;01mif\u001b[39;00m kwargs \u001b[38;5;129;01mis\u001b[39;00m \u001b[38;5;129;01mnot\u001b[39;00m \u001b[38;5;28;01mNone\u001b[39;00m:\n\u001b[0;32m--> 459\u001b[0m   \u001b[38;5;28;01mreturn\u001b[39;00m \u001b[43mf\u001b[49m\u001b[43m(\u001b[49m\u001b[38;5;241;43m*\u001b[39;49m\u001b[43margs\u001b[49m\u001b[43m,\u001b[49m\u001b[43m \u001b[49m\u001b[38;5;241;43m*\u001b[39;49m\u001b[38;5;241;43m*\u001b[39;49m\u001b[43mkwargs\u001b[49m\u001b[43m)\u001b[49m\n\u001b[1;32m    460\u001b[0m \u001b[38;5;28;01mreturn\u001b[39;00m f(\u001b[38;5;241m*\u001b[39margs)\n",
      "File \u001b[0;32m~/.pyenv/versions/evat_env_py310/lib/python3.10/site-packages/tensorflow/python/autograph/impl/api.py:643\u001b[0m, in \u001b[0;36mdo_not_convert.<locals>.wrapper\u001b[0;34m(*args, **kwargs)\u001b[0m\n\u001b[1;32m    641\u001b[0m \u001b[38;5;28;01mdef\u001b[39;00m\u001b[38;5;250m \u001b[39m\u001b[38;5;21mwrapper\u001b[39m(\u001b[38;5;241m*\u001b[39margs, \u001b[38;5;241m*\u001b[39m\u001b[38;5;241m*\u001b[39mkwargs):\n\u001b[1;32m    642\u001b[0m   \u001b[38;5;28;01mwith\u001b[39;00m ag_ctx\u001b[38;5;241m.\u001b[39mControlStatusCtx(status\u001b[38;5;241m=\u001b[39mag_ctx\u001b[38;5;241m.\u001b[39mStatus\u001b[38;5;241m.\u001b[39mDISABLED):\n\u001b[0;32m--> 643\u001b[0m     \u001b[38;5;28;01mreturn\u001b[39;00m \u001b[43mfunc\u001b[49m\u001b[43m(\u001b[49m\u001b[38;5;241;43m*\u001b[39;49m\u001b[43margs\u001b[49m\u001b[43m,\u001b[49m\u001b[43m \u001b[49m\u001b[38;5;241;43m*\u001b[39;49m\u001b[38;5;241;43m*\u001b[39;49m\u001b[43mkwargs\u001b[49m\u001b[43m)\u001b[49m\n",
      "File \u001b[0;32m~/.pyenv/versions/evat_env_py310/lib/python3.10/site-packages/keras/src/backend/tensorflow/trainer.py:114\u001b[0m, in \u001b[0;36mTensorFlowTrainer._make_function.<locals>.one_step_on_data\u001b[0;34m(data)\u001b[0m\n\u001b[1;32m    111\u001b[0m \u001b[38;5;129m@tf\u001b[39m\u001b[38;5;241m.\u001b[39mautograph\u001b[38;5;241m.\u001b[39mexperimental\u001b[38;5;241m.\u001b[39mdo_not_convert\n\u001b[1;32m    112\u001b[0m \u001b[38;5;28;01mdef\u001b[39;00m\u001b[38;5;250m \u001b[39m\u001b[38;5;21mone_step_on_data\u001b[39m(data):\n\u001b[1;32m    113\u001b[0m \u001b[38;5;250m    \u001b[39m\u001b[38;5;124;03m\"\"\"Runs a single training step on a batch of data.\"\"\"\u001b[39;00m\n\u001b[0;32m--> 114\u001b[0m     outputs \u001b[38;5;241m=\u001b[39m \u001b[38;5;28;43mself\u001b[39;49m\u001b[38;5;241;43m.\u001b[39;49m\u001b[43mdistribute_strategy\u001b[49m\u001b[38;5;241;43m.\u001b[39;49m\u001b[43mrun\u001b[49m\u001b[43m(\u001b[49m\u001b[43mstep_function\u001b[49m\u001b[43m,\u001b[49m\u001b[43m \u001b[49m\u001b[43margs\u001b[49m\u001b[38;5;241;43m=\u001b[39;49m\u001b[43m(\u001b[49m\u001b[43mdata\u001b[49m\u001b[43m,\u001b[49m\u001b[43m)\u001b[49m\u001b[43m)\u001b[49m\n\u001b[1;32m    115\u001b[0m     outputs \u001b[38;5;241m=\u001b[39m reduce_per_replica(\n\u001b[1;32m    116\u001b[0m         outputs,\n\u001b[1;32m    117\u001b[0m         \u001b[38;5;28mself\u001b[39m\u001b[38;5;241m.\u001b[39mdistribute_strategy,\n\u001b[1;32m    118\u001b[0m         reduction\u001b[38;5;241m=\u001b[39m\u001b[38;5;124m\"\u001b[39m\u001b[38;5;124mauto\u001b[39m\u001b[38;5;124m\"\u001b[39m,\n\u001b[1;32m    119\u001b[0m     )\n\u001b[1;32m    120\u001b[0m     \u001b[38;5;28;01mreturn\u001b[39;00m outputs\n",
      "File \u001b[0;32m~/.pyenv/versions/evat_env_py310/lib/python3.10/site-packages/tensorflow/python/distribute/distribute_lib.py:1673\u001b[0m, in \u001b[0;36mStrategyBase.run\u001b[0;34m(***failed resolving arguments***)\u001b[0m\n\u001b[1;32m   1668\u001b[0m \u001b[38;5;28;01mwith\u001b[39;00m \u001b[38;5;28mself\u001b[39m\u001b[38;5;241m.\u001b[39mscope():\n\u001b[1;32m   1669\u001b[0m   \u001b[38;5;66;03m# tf.distribute supports Eager functions, so AutoGraph should not be\u001b[39;00m\n\u001b[1;32m   1670\u001b[0m   \u001b[38;5;66;03m# applied when the caller is also in Eager mode.\u001b[39;00m\n\u001b[1;32m   1671\u001b[0m   fn \u001b[38;5;241m=\u001b[39m autograph\u001b[38;5;241m.\u001b[39mtf_convert(\n\u001b[1;32m   1672\u001b[0m       fn, autograph_ctx\u001b[38;5;241m.\u001b[39mcontrol_status_ctx(), convert_by_default\u001b[38;5;241m=\u001b[39m\u001b[38;5;28;01mFalse\u001b[39;00m)\n\u001b[0;32m-> 1673\u001b[0m   \u001b[38;5;28;01mreturn\u001b[39;00m \u001b[38;5;28;43mself\u001b[39;49m\u001b[38;5;241;43m.\u001b[39;49m\u001b[43m_extended\u001b[49m\u001b[38;5;241;43m.\u001b[39;49m\u001b[43mcall_for_each_replica\u001b[49m\u001b[43m(\u001b[49m\u001b[43mfn\u001b[49m\u001b[43m,\u001b[49m\u001b[43m \u001b[49m\u001b[43margs\u001b[49m\u001b[38;5;241;43m=\u001b[39;49m\u001b[43margs\u001b[49m\u001b[43m,\u001b[49m\u001b[43m \u001b[49m\u001b[43mkwargs\u001b[49m\u001b[38;5;241;43m=\u001b[39;49m\u001b[43mkwargs\u001b[49m\u001b[43m)\u001b[49m\n",
      "File \u001b[0;32m~/.pyenv/versions/evat_env_py310/lib/python3.10/site-packages/tensorflow/python/distribute/distribute_lib.py:3263\u001b[0m, in \u001b[0;36mStrategyExtendedV1.call_for_each_replica\u001b[0;34m(self, fn, args, kwargs)\u001b[0m\n\u001b[1;32m   3261\u001b[0m   kwargs \u001b[38;5;241m=\u001b[39m {}\n\u001b[1;32m   3262\u001b[0m \u001b[38;5;28;01mwith\u001b[39;00m \u001b[38;5;28mself\u001b[39m\u001b[38;5;241m.\u001b[39m_container_strategy()\u001b[38;5;241m.\u001b[39mscope():\n\u001b[0;32m-> 3263\u001b[0m   \u001b[38;5;28;01mreturn\u001b[39;00m \u001b[38;5;28;43mself\u001b[39;49m\u001b[38;5;241;43m.\u001b[39;49m\u001b[43m_call_for_each_replica\u001b[49m\u001b[43m(\u001b[49m\u001b[43mfn\u001b[49m\u001b[43m,\u001b[49m\u001b[43m \u001b[49m\u001b[43margs\u001b[49m\u001b[43m,\u001b[49m\u001b[43m \u001b[49m\u001b[43mkwargs\u001b[49m\u001b[43m)\u001b[49m\n",
      "File \u001b[0;32m~/.pyenv/versions/evat_env_py310/lib/python3.10/site-packages/tensorflow/python/distribute/distribute_lib.py:4061\u001b[0m, in \u001b[0;36m_DefaultDistributionExtended._call_for_each_replica\u001b[0;34m(self, fn, args, kwargs)\u001b[0m\n\u001b[1;32m   4059\u001b[0m \u001b[38;5;28;01mdef\u001b[39;00m\u001b[38;5;250m \u001b[39m\u001b[38;5;21m_call_for_each_replica\u001b[39m(\u001b[38;5;28mself\u001b[39m, fn, args, kwargs):\n\u001b[1;32m   4060\u001b[0m   \u001b[38;5;28;01mwith\u001b[39;00m ReplicaContext(\u001b[38;5;28mself\u001b[39m\u001b[38;5;241m.\u001b[39m_container_strategy(), replica_id_in_sync_group\u001b[38;5;241m=\u001b[39m\u001b[38;5;241m0\u001b[39m):\n\u001b[0;32m-> 4061\u001b[0m     \u001b[38;5;28;01mreturn\u001b[39;00m \u001b[43mfn\u001b[49m\u001b[43m(\u001b[49m\u001b[38;5;241;43m*\u001b[39;49m\u001b[43margs\u001b[49m\u001b[43m,\u001b[49m\u001b[43m \u001b[49m\u001b[38;5;241;43m*\u001b[39;49m\u001b[38;5;241;43m*\u001b[39;49m\u001b[43mkwargs\u001b[49m\u001b[43m)\u001b[49m\n",
      "File \u001b[0;32m~/.pyenv/versions/evat_env_py310/lib/python3.10/site-packages/tensorflow/python/autograph/impl/api.py:643\u001b[0m, in \u001b[0;36mdo_not_convert.<locals>.wrapper\u001b[0;34m(*args, **kwargs)\u001b[0m\n\u001b[1;32m    641\u001b[0m \u001b[38;5;28;01mdef\u001b[39;00m\u001b[38;5;250m \u001b[39m\u001b[38;5;21mwrapper\u001b[39m(\u001b[38;5;241m*\u001b[39margs, \u001b[38;5;241m*\u001b[39m\u001b[38;5;241m*\u001b[39mkwargs):\n\u001b[1;32m    642\u001b[0m   \u001b[38;5;28;01mwith\u001b[39;00m ag_ctx\u001b[38;5;241m.\u001b[39mControlStatusCtx(status\u001b[38;5;241m=\u001b[39mag_ctx\u001b[38;5;241m.\u001b[39mStatus\u001b[38;5;241m.\u001b[39mDISABLED):\n\u001b[0;32m--> 643\u001b[0m     \u001b[38;5;28;01mreturn\u001b[39;00m \u001b[43mfunc\u001b[49m\u001b[43m(\u001b[49m\u001b[38;5;241;43m*\u001b[39;49m\u001b[43margs\u001b[49m\u001b[43m,\u001b[49m\u001b[43m \u001b[49m\u001b[38;5;241;43m*\u001b[39;49m\u001b[38;5;241;43m*\u001b[39;49m\u001b[43mkwargs\u001b[49m\u001b[43m)\u001b[49m\n",
      "File \u001b[0;32m~/.pyenv/versions/evat_env_py310/lib/python3.10/site-packages/keras/src/backend/tensorflow/trainer.py:58\u001b[0m, in \u001b[0;36mTensorFlowTrainer.train_step\u001b[0;34m(self, data)\u001b[0m\n\u001b[1;32m     56\u001b[0m \u001b[38;5;28;01mwith\u001b[39;00m tf\u001b[38;5;241m.\u001b[39mGradientTape() \u001b[38;5;28;01mas\u001b[39;00m tape:\n\u001b[1;32m     57\u001b[0m     \u001b[38;5;28;01mif\u001b[39;00m \u001b[38;5;28mself\u001b[39m\u001b[38;5;241m.\u001b[39m_call_has_training_arg:\n\u001b[0;32m---> 58\u001b[0m         y_pred \u001b[38;5;241m=\u001b[39m \u001b[38;5;28;43mself\u001b[39;49m\u001b[43m(\u001b[49m\u001b[43mx\u001b[49m\u001b[43m,\u001b[49m\u001b[43m \u001b[49m\u001b[43mtraining\u001b[49m\u001b[38;5;241;43m=\u001b[39;49m\u001b[38;5;28;43;01mTrue\u001b[39;49;00m\u001b[43m)\u001b[49m\n\u001b[1;32m     59\u001b[0m     \u001b[38;5;28;01melse\u001b[39;00m:\n\u001b[1;32m     60\u001b[0m         y_pred \u001b[38;5;241m=\u001b[39m \u001b[38;5;28mself\u001b[39m(x)\n",
      "File \u001b[0;32m~/.pyenv/versions/evat_env_py310/lib/python3.10/site-packages/keras/src/utils/traceback_utils.py:117\u001b[0m, in \u001b[0;36mfilter_traceback.<locals>.error_handler\u001b[0;34m(*args, **kwargs)\u001b[0m\n\u001b[1;32m    115\u001b[0m filtered_tb \u001b[38;5;241m=\u001b[39m \u001b[38;5;28;01mNone\u001b[39;00m\n\u001b[1;32m    116\u001b[0m \u001b[38;5;28;01mtry\u001b[39;00m:\n\u001b[0;32m--> 117\u001b[0m     \u001b[38;5;28;01mreturn\u001b[39;00m \u001b[43mfn\u001b[49m\u001b[43m(\u001b[49m\u001b[38;5;241;43m*\u001b[39;49m\u001b[43margs\u001b[49m\u001b[43m,\u001b[49m\u001b[43m \u001b[49m\u001b[38;5;241;43m*\u001b[39;49m\u001b[38;5;241;43m*\u001b[39;49m\u001b[43mkwargs\u001b[49m\u001b[43m)\u001b[49m\n\u001b[1;32m    118\u001b[0m \u001b[38;5;28;01mexcept\u001b[39;00m \u001b[38;5;167;01mException\u001b[39;00m \u001b[38;5;28;01mas\u001b[39;00m e:\n\u001b[1;32m    119\u001b[0m     filtered_tb \u001b[38;5;241m=\u001b[39m _process_traceback_frames(e\u001b[38;5;241m.\u001b[39m__traceback__)\n",
      "File \u001b[0;32m~/.pyenv/versions/evat_env_py310/lib/python3.10/site-packages/keras/src/layers/layer.py:936\u001b[0m, in \u001b[0;36mLayer.__call__\u001b[0;34m(self, *args, **kwargs)\u001b[0m\n\u001b[1;32m    934\u001b[0m         outputs \u001b[38;5;241m=\u001b[39m \u001b[38;5;28msuper\u001b[39m()\u001b[38;5;241m.\u001b[39m\u001b[38;5;21m__call__\u001b[39m(\u001b[38;5;241m*\u001b[39margs, \u001b[38;5;241m*\u001b[39m\u001b[38;5;241m*\u001b[39mkwargs)\n\u001b[1;32m    935\u001b[0m \u001b[38;5;28;01melse\u001b[39;00m:\n\u001b[0;32m--> 936\u001b[0m     outputs \u001b[38;5;241m=\u001b[39m \u001b[38;5;28;43msuper\u001b[39;49m\u001b[43m(\u001b[49m\u001b[43m)\u001b[49m\u001b[38;5;241;43m.\u001b[39;49m\u001b[38;5;21;43m__call__\u001b[39;49m\u001b[43m(\u001b[49m\u001b[38;5;241;43m*\u001b[39;49m\u001b[43margs\u001b[49m\u001b[43m,\u001b[49m\u001b[43m \u001b[49m\u001b[38;5;241;43m*\u001b[39;49m\u001b[38;5;241;43m*\u001b[39;49m\u001b[43mkwargs\u001b[49m\u001b[43m)\u001b[49m\n\u001b[1;32m    937\u001b[0m \u001b[38;5;66;03m# Change the layout for the layer output if needed.\u001b[39;00m\n\u001b[1;32m    938\u001b[0m \u001b[38;5;66;03m# This is useful for relayout intermediate tensor in the model\u001b[39;00m\n\u001b[1;32m    939\u001b[0m \u001b[38;5;66;03m# to achieve the optimal performance.\u001b[39;00m\n\u001b[1;32m    940\u001b[0m distribution \u001b[38;5;241m=\u001b[39m distribution_lib\u001b[38;5;241m.\u001b[39mdistribution()\n",
      "File \u001b[0;32m~/.pyenv/versions/evat_env_py310/lib/python3.10/site-packages/keras/src/utils/traceback_utils.py:117\u001b[0m, in \u001b[0;36mfilter_traceback.<locals>.error_handler\u001b[0;34m(*args, **kwargs)\u001b[0m\n\u001b[1;32m    115\u001b[0m filtered_tb \u001b[38;5;241m=\u001b[39m \u001b[38;5;28;01mNone\u001b[39;00m\n\u001b[1;32m    116\u001b[0m \u001b[38;5;28;01mtry\u001b[39;00m:\n\u001b[0;32m--> 117\u001b[0m     \u001b[38;5;28;01mreturn\u001b[39;00m \u001b[43mfn\u001b[49m\u001b[43m(\u001b[49m\u001b[38;5;241;43m*\u001b[39;49m\u001b[43margs\u001b[49m\u001b[43m,\u001b[49m\u001b[43m \u001b[49m\u001b[38;5;241;43m*\u001b[39;49m\u001b[38;5;241;43m*\u001b[39;49m\u001b[43mkwargs\u001b[49m\u001b[43m)\u001b[49m\n\u001b[1;32m    118\u001b[0m \u001b[38;5;28;01mexcept\u001b[39;00m \u001b[38;5;167;01mException\u001b[39;00m \u001b[38;5;28;01mas\u001b[39;00m e:\n\u001b[1;32m    119\u001b[0m     filtered_tb \u001b[38;5;241m=\u001b[39m _process_traceback_frames(e\u001b[38;5;241m.\u001b[39m__traceback__)\n",
      "File \u001b[0;32m~/.pyenv/versions/evat_env_py310/lib/python3.10/site-packages/keras/src/ops/operation.py:58\u001b[0m, in \u001b[0;36mOperation.__call__\u001b[0;34m(self, *args, **kwargs)\u001b[0m\n\u001b[1;32m     53\u001b[0m                 call_fn \u001b[38;5;241m=\u001b[39m \u001b[38;5;28mself\u001b[39m\u001b[38;5;241m.\u001b[39mcall\n\u001b[1;32m     54\u001b[0m     call_fn \u001b[38;5;241m=\u001b[39m traceback_utils\u001b[38;5;241m.\u001b[39minject_argument_info_in_traceback(\n\u001b[1;32m     55\u001b[0m         call_fn,\n\u001b[1;32m     56\u001b[0m         object_name\u001b[38;5;241m=\u001b[39m(\u001b[38;5;124mf\u001b[39m\u001b[38;5;124m\"\u001b[39m\u001b[38;5;132;01m{\u001b[39;00m\u001b[38;5;28mself\u001b[39m\u001b[38;5;241m.\u001b[39m\u001b[38;5;18m__class__\u001b[39m\u001b[38;5;241m.\u001b[39m\u001b[38;5;18m__name__\u001b[39m\u001b[38;5;132;01m}\u001b[39;00m\u001b[38;5;124m.call()\u001b[39m\u001b[38;5;124m\"\u001b[39m),\n\u001b[1;32m     57\u001b[0m     )\n\u001b[0;32m---> 58\u001b[0m     \u001b[38;5;28;01mreturn\u001b[39;00m \u001b[43mcall_fn\u001b[49m\u001b[43m(\u001b[49m\u001b[38;5;241;43m*\u001b[39;49m\u001b[43margs\u001b[49m\u001b[43m,\u001b[49m\u001b[43m \u001b[49m\u001b[38;5;241;43m*\u001b[39;49m\u001b[38;5;241;43m*\u001b[39;49m\u001b[43mkwargs\u001b[49m\u001b[43m)\u001b[49m\n\u001b[1;32m     60\u001b[0m \u001b[38;5;66;03m# Plain flow.\u001b[39;00m\n\u001b[1;32m     61\u001b[0m \u001b[38;5;28;01mif\u001b[39;00m any_symbolic_tensors(args, kwargs):\n",
      "File \u001b[0;32m~/.pyenv/versions/evat_env_py310/lib/python3.10/site-packages/keras/src/utils/traceback_utils.py:156\u001b[0m, in \u001b[0;36minject_argument_info_in_traceback.<locals>.error_handler\u001b[0;34m(*args, **kwargs)\u001b[0m\n\u001b[1;32m    154\u001b[0m bound_signature \u001b[38;5;241m=\u001b[39m \u001b[38;5;28;01mNone\u001b[39;00m\n\u001b[1;32m    155\u001b[0m \u001b[38;5;28;01mtry\u001b[39;00m:\n\u001b[0;32m--> 156\u001b[0m     \u001b[38;5;28;01mreturn\u001b[39;00m \u001b[43mfn\u001b[49m\u001b[43m(\u001b[49m\u001b[38;5;241;43m*\u001b[39;49m\u001b[43margs\u001b[49m\u001b[43m,\u001b[49m\u001b[43m \u001b[49m\u001b[38;5;241;43m*\u001b[39;49m\u001b[38;5;241;43m*\u001b[39;49m\u001b[43mkwargs\u001b[49m\u001b[43m)\u001b[49m\n\u001b[1;32m    157\u001b[0m \u001b[38;5;28;01mexcept\u001b[39;00m \u001b[38;5;167;01mException\u001b[39;00m \u001b[38;5;28;01mas\u001b[39;00m e:\n\u001b[1;32m    158\u001b[0m     \u001b[38;5;28;01mif\u001b[39;00m \u001b[38;5;28mhasattr\u001b[39m(e, \u001b[38;5;124m\"\u001b[39m\u001b[38;5;124m_keras_call_info_injected\u001b[39m\u001b[38;5;124m\"\u001b[39m):\n\u001b[1;32m    159\u001b[0m         \u001b[38;5;66;03m# Only inject info for the innermost failing call\u001b[39;00m\n",
      "File \u001b[0;32m~/.pyenv/versions/evat_env_py310/lib/python3.10/site-packages/keras/src/models/sequential.py:220\u001b[0m, in \u001b[0;36mSequential.call\u001b[0;34m(self, inputs, training, mask, **kwargs)\u001b[0m\n\u001b[1;32m    218\u001b[0m \u001b[38;5;28;01mdef\u001b[39;00m\u001b[38;5;250m \u001b[39m\u001b[38;5;21mcall\u001b[39m(\u001b[38;5;28mself\u001b[39m, inputs, training\u001b[38;5;241m=\u001b[39m\u001b[38;5;28;01mNone\u001b[39;00m, mask\u001b[38;5;241m=\u001b[39m\u001b[38;5;28;01mNone\u001b[39;00m, \u001b[38;5;241m*\u001b[39m\u001b[38;5;241m*\u001b[39mkwargs):\n\u001b[1;32m    219\u001b[0m     \u001b[38;5;28;01mif\u001b[39;00m \u001b[38;5;28mself\u001b[39m\u001b[38;5;241m.\u001b[39m_functional:\n\u001b[0;32m--> 220\u001b[0m         \u001b[38;5;28;01mreturn\u001b[39;00m \u001b[38;5;28;43mself\u001b[39;49m\u001b[38;5;241;43m.\u001b[39;49m\u001b[43m_functional\u001b[49m\u001b[38;5;241;43m.\u001b[39;49m\u001b[43mcall\u001b[49m\u001b[43m(\u001b[49m\n\u001b[1;32m    221\u001b[0m \u001b[43m            \u001b[49m\u001b[43minputs\u001b[49m\u001b[43m,\u001b[49m\u001b[43m \u001b[49m\u001b[43mtraining\u001b[49m\u001b[38;5;241;43m=\u001b[39;49m\u001b[43mtraining\u001b[49m\u001b[43m,\u001b[49m\u001b[43m \u001b[49m\u001b[43mmask\u001b[49m\u001b[38;5;241;43m=\u001b[39;49m\u001b[43mmask\u001b[49m\u001b[43m,\u001b[49m\u001b[43m \u001b[49m\u001b[38;5;241;43m*\u001b[39;49m\u001b[38;5;241;43m*\u001b[39;49m\u001b[43mkwargs\u001b[49m\n\u001b[1;32m    222\u001b[0m \u001b[43m        \u001b[49m\u001b[43m)\u001b[49m\n\u001b[1;32m    224\u001b[0m     \u001b[38;5;66;03m# Fallback: Just apply the layer sequence.\u001b[39;00m\n\u001b[1;32m    225\u001b[0m     \u001b[38;5;66;03m# This typically happens if `inputs` is a nested struct.\u001b[39;00m\n\u001b[1;32m    226\u001b[0m     \u001b[38;5;28;01mfor\u001b[39;00m layer \u001b[38;5;129;01min\u001b[39;00m \u001b[38;5;28mself\u001b[39m\u001b[38;5;241m.\u001b[39mlayers:\n\u001b[1;32m    227\u001b[0m         \u001b[38;5;66;03m# During each iteration, `inputs` are the inputs to `layer`, and\u001b[39;00m\n\u001b[1;32m    228\u001b[0m         \u001b[38;5;66;03m# `outputs` are the outputs of `layer` applied to `inputs`. At the\u001b[39;00m\n\u001b[1;32m    229\u001b[0m         \u001b[38;5;66;03m# end of each iteration `inputs` is set to `outputs` to prepare for\u001b[39;00m\n\u001b[1;32m    230\u001b[0m         \u001b[38;5;66;03m# the next layer.\u001b[39;00m\n",
      "File \u001b[0;32m~/.pyenv/versions/evat_env_py310/lib/python3.10/site-packages/keras/src/models/functional.py:183\u001b[0m, in \u001b[0;36mFunctional.call\u001b[0;34m(self, inputs, training, mask, **kwargs)\u001b[0m\n\u001b[1;32m    181\u001b[0m         \u001b[38;5;28;01mif\u001b[39;00m mask \u001b[38;5;129;01mis\u001b[39;00m \u001b[38;5;129;01mnot\u001b[39;00m \u001b[38;5;28;01mNone\u001b[39;00m:\n\u001b[1;32m    182\u001b[0m             backend\u001b[38;5;241m.\u001b[39mset_keras_mask(x, mask)\n\u001b[0;32m--> 183\u001b[0m outputs \u001b[38;5;241m=\u001b[39m \u001b[38;5;28;43mself\u001b[39;49m\u001b[38;5;241;43m.\u001b[39;49m\u001b[43m_run_through_graph\u001b[49m\u001b[43m(\u001b[49m\n\u001b[1;32m    184\u001b[0m \u001b[43m    \u001b[49m\u001b[43minputs\u001b[49m\u001b[43m,\u001b[49m\n\u001b[1;32m    185\u001b[0m \u001b[43m    \u001b[49m\u001b[43moperation_fn\u001b[49m\u001b[38;5;241;43m=\u001b[39;49m\u001b[38;5;28;43;01mlambda\u001b[39;49;00m\u001b[43m \u001b[49m\u001b[43mop\u001b[49m\u001b[43m:\u001b[49m\u001b[43m \u001b[49m\u001b[43moperation_fn\u001b[49m\u001b[43m(\u001b[49m\n\u001b[1;32m    186\u001b[0m \u001b[43m        \u001b[49m\u001b[43mop\u001b[49m\u001b[43m,\u001b[49m\u001b[43m \u001b[49m\u001b[43mtraining\u001b[49m\u001b[38;5;241;43m=\u001b[39;49m\u001b[43mtraining\u001b[49m\u001b[43m,\u001b[49m\u001b[43m \u001b[49m\u001b[38;5;241;43m*\u001b[39;49m\u001b[38;5;241;43m*\u001b[39;49m\u001b[43mkwargs\u001b[49m\n\u001b[1;32m    187\u001b[0m \u001b[43m    \u001b[49m\u001b[43m)\u001b[49m\u001b[43m,\u001b[49m\n\u001b[1;32m    188\u001b[0m \u001b[43m\u001b[49m\u001b[43m)\u001b[49m\n\u001b[1;32m    189\u001b[0m \u001b[38;5;28;01mreturn\u001b[39;00m unpack_singleton(outputs)\n",
      "File \u001b[0;32m~/.pyenv/versions/evat_env_py310/lib/python3.10/site-packages/keras/src/ops/function.py:177\u001b[0m, in \u001b[0;36mFunction._run_through_graph\u001b[0;34m(self, inputs, operation_fn, call_fn)\u001b[0m\n\u001b[1;32m    175\u001b[0m     outputs \u001b[38;5;241m=\u001b[39m call_fn(op, \u001b[38;5;241m*\u001b[39margs, \u001b[38;5;241m*\u001b[39m\u001b[38;5;241m*\u001b[39mkwargs)\n\u001b[1;32m    176\u001b[0m \u001b[38;5;28;01melse\u001b[39;00m:\n\u001b[0;32m--> 177\u001b[0m     outputs \u001b[38;5;241m=\u001b[39m \u001b[43mop\u001b[49m\u001b[43m(\u001b[49m\u001b[38;5;241;43m*\u001b[39;49m\u001b[43margs\u001b[49m\u001b[43m,\u001b[49m\u001b[43m \u001b[49m\u001b[38;5;241;43m*\u001b[39;49m\u001b[38;5;241;43m*\u001b[39;49m\u001b[43mkwargs\u001b[49m\u001b[43m)\u001b[49m\n\u001b[1;32m    179\u001b[0m \u001b[38;5;66;03m# Update tensor_dict.\u001b[39;00m\n\u001b[1;32m    180\u001b[0m \u001b[38;5;28;01mfor\u001b[39;00m x, y \u001b[38;5;129;01min\u001b[39;00m \u001b[38;5;28mzip\u001b[39m(node\u001b[38;5;241m.\u001b[39moutputs, tree\u001b[38;5;241m.\u001b[39mflatten(outputs)):\n",
      "File \u001b[0;32m~/.pyenv/versions/evat_env_py310/lib/python3.10/site-packages/keras/src/models/functional.py:648\u001b[0m, in \u001b[0;36moperation_fn.<locals>.call\u001b[0;34m(*args, **kwargs)\u001b[0m\n\u001b[1;32m    642\u001b[0m     \u001b[38;5;28;01mif\u001b[39;00m (\n\u001b[1;32m    643\u001b[0m         name \u001b[38;5;129;01min\u001b[39;00m \u001b[38;5;28mgetattr\u001b[39m(operation, \u001b[38;5;124m\"\u001b[39m\u001b[38;5;124m_call_context_args\u001b[39m\u001b[38;5;124m\"\u001b[39m, {})\n\u001b[1;32m    644\u001b[0m         \u001b[38;5;129;01mand\u001b[39;00m value \u001b[38;5;129;01mis\u001b[39;00m \u001b[38;5;129;01mnot\u001b[39;00m \u001b[38;5;28;01mNone\u001b[39;00m\n\u001b[1;32m    645\u001b[0m     ):\n\u001b[1;32m    646\u001b[0m         kwargs[name] \u001b[38;5;241m=\u001b[39m value\n\u001b[0;32m--> 648\u001b[0m \u001b[38;5;28;01mreturn\u001b[39;00m \u001b[43moperation\u001b[49m\u001b[43m(\u001b[49m\u001b[38;5;241;43m*\u001b[39;49m\u001b[43margs\u001b[49m\u001b[43m,\u001b[49m\u001b[43m \u001b[49m\u001b[38;5;241;43m*\u001b[39;49m\u001b[38;5;241;43m*\u001b[39;49m\u001b[43mkwargs\u001b[49m\u001b[43m)\u001b[49m\n",
      "File \u001b[0;32m~/.pyenv/versions/evat_env_py310/lib/python3.10/site-packages/keras/src/utils/traceback_utils.py:117\u001b[0m, in \u001b[0;36mfilter_traceback.<locals>.error_handler\u001b[0;34m(*args, **kwargs)\u001b[0m\n\u001b[1;32m    115\u001b[0m filtered_tb \u001b[38;5;241m=\u001b[39m \u001b[38;5;28;01mNone\u001b[39;00m\n\u001b[1;32m    116\u001b[0m \u001b[38;5;28;01mtry\u001b[39;00m:\n\u001b[0;32m--> 117\u001b[0m     \u001b[38;5;28;01mreturn\u001b[39;00m \u001b[43mfn\u001b[49m\u001b[43m(\u001b[49m\u001b[38;5;241;43m*\u001b[39;49m\u001b[43margs\u001b[49m\u001b[43m,\u001b[49m\u001b[43m \u001b[49m\u001b[38;5;241;43m*\u001b[39;49m\u001b[38;5;241;43m*\u001b[39;49m\u001b[43mkwargs\u001b[49m\u001b[43m)\u001b[49m\n\u001b[1;32m    118\u001b[0m \u001b[38;5;28;01mexcept\u001b[39;00m \u001b[38;5;167;01mException\u001b[39;00m \u001b[38;5;28;01mas\u001b[39;00m e:\n\u001b[1;32m    119\u001b[0m     filtered_tb \u001b[38;5;241m=\u001b[39m _process_traceback_frames(e\u001b[38;5;241m.\u001b[39m__traceback__)\n",
      "File \u001b[0;32m~/.pyenv/versions/evat_env_py310/lib/python3.10/site-packages/keras/src/layers/layer.py:936\u001b[0m, in \u001b[0;36mLayer.__call__\u001b[0;34m(self, *args, **kwargs)\u001b[0m\n\u001b[1;32m    934\u001b[0m         outputs \u001b[38;5;241m=\u001b[39m \u001b[38;5;28msuper\u001b[39m()\u001b[38;5;241m.\u001b[39m\u001b[38;5;21m__call__\u001b[39m(\u001b[38;5;241m*\u001b[39margs, \u001b[38;5;241m*\u001b[39m\u001b[38;5;241m*\u001b[39mkwargs)\n\u001b[1;32m    935\u001b[0m \u001b[38;5;28;01melse\u001b[39;00m:\n\u001b[0;32m--> 936\u001b[0m     outputs \u001b[38;5;241m=\u001b[39m \u001b[38;5;28;43msuper\u001b[39;49m\u001b[43m(\u001b[49m\u001b[43m)\u001b[49m\u001b[38;5;241;43m.\u001b[39;49m\u001b[38;5;21;43m__call__\u001b[39;49m\u001b[43m(\u001b[49m\u001b[38;5;241;43m*\u001b[39;49m\u001b[43margs\u001b[49m\u001b[43m,\u001b[49m\u001b[43m \u001b[49m\u001b[38;5;241;43m*\u001b[39;49m\u001b[38;5;241;43m*\u001b[39;49m\u001b[43mkwargs\u001b[49m\u001b[43m)\u001b[49m\n\u001b[1;32m    937\u001b[0m \u001b[38;5;66;03m# Change the layout for the layer output if needed.\u001b[39;00m\n\u001b[1;32m    938\u001b[0m \u001b[38;5;66;03m# This is useful for relayout intermediate tensor in the model\u001b[39;00m\n\u001b[1;32m    939\u001b[0m \u001b[38;5;66;03m# to achieve the optimal performance.\u001b[39;00m\n\u001b[1;32m    940\u001b[0m distribution \u001b[38;5;241m=\u001b[39m distribution_lib\u001b[38;5;241m.\u001b[39mdistribution()\n",
      "File \u001b[0;32m~/.pyenv/versions/evat_env_py310/lib/python3.10/site-packages/keras/src/utils/traceback_utils.py:117\u001b[0m, in \u001b[0;36mfilter_traceback.<locals>.error_handler\u001b[0;34m(*args, **kwargs)\u001b[0m\n\u001b[1;32m    115\u001b[0m filtered_tb \u001b[38;5;241m=\u001b[39m \u001b[38;5;28;01mNone\u001b[39;00m\n\u001b[1;32m    116\u001b[0m \u001b[38;5;28;01mtry\u001b[39;00m:\n\u001b[0;32m--> 117\u001b[0m     \u001b[38;5;28;01mreturn\u001b[39;00m \u001b[43mfn\u001b[49m\u001b[43m(\u001b[49m\u001b[38;5;241;43m*\u001b[39;49m\u001b[43margs\u001b[49m\u001b[43m,\u001b[49m\u001b[43m \u001b[49m\u001b[38;5;241;43m*\u001b[39;49m\u001b[38;5;241;43m*\u001b[39;49m\u001b[43mkwargs\u001b[49m\u001b[43m)\u001b[49m\n\u001b[1;32m    118\u001b[0m \u001b[38;5;28;01mexcept\u001b[39;00m \u001b[38;5;167;01mException\u001b[39;00m \u001b[38;5;28;01mas\u001b[39;00m e:\n\u001b[1;32m    119\u001b[0m     filtered_tb \u001b[38;5;241m=\u001b[39m _process_traceback_frames(e\u001b[38;5;241m.\u001b[39m__traceback__)\n",
      "File \u001b[0;32m~/.pyenv/versions/evat_env_py310/lib/python3.10/site-packages/keras/src/ops/operation.py:58\u001b[0m, in \u001b[0;36mOperation.__call__\u001b[0;34m(self, *args, **kwargs)\u001b[0m\n\u001b[1;32m     53\u001b[0m                 call_fn \u001b[38;5;241m=\u001b[39m \u001b[38;5;28mself\u001b[39m\u001b[38;5;241m.\u001b[39mcall\n\u001b[1;32m     54\u001b[0m     call_fn \u001b[38;5;241m=\u001b[39m traceback_utils\u001b[38;5;241m.\u001b[39minject_argument_info_in_traceback(\n\u001b[1;32m     55\u001b[0m         call_fn,\n\u001b[1;32m     56\u001b[0m         object_name\u001b[38;5;241m=\u001b[39m(\u001b[38;5;124mf\u001b[39m\u001b[38;5;124m\"\u001b[39m\u001b[38;5;132;01m{\u001b[39;00m\u001b[38;5;28mself\u001b[39m\u001b[38;5;241m.\u001b[39m\u001b[38;5;18m__class__\u001b[39m\u001b[38;5;241m.\u001b[39m\u001b[38;5;18m__name__\u001b[39m\u001b[38;5;132;01m}\u001b[39;00m\u001b[38;5;124m.call()\u001b[39m\u001b[38;5;124m\"\u001b[39m),\n\u001b[1;32m     57\u001b[0m     )\n\u001b[0;32m---> 58\u001b[0m     \u001b[38;5;28;01mreturn\u001b[39;00m \u001b[43mcall_fn\u001b[49m\u001b[43m(\u001b[49m\u001b[38;5;241;43m*\u001b[39;49m\u001b[43margs\u001b[49m\u001b[43m,\u001b[49m\u001b[43m \u001b[49m\u001b[38;5;241;43m*\u001b[39;49m\u001b[38;5;241;43m*\u001b[39;49m\u001b[43mkwargs\u001b[49m\u001b[43m)\u001b[49m\n\u001b[1;32m     60\u001b[0m \u001b[38;5;66;03m# Plain flow.\u001b[39;00m\n\u001b[1;32m     61\u001b[0m \u001b[38;5;28;01mif\u001b[39;00m any_symbolic_tensors(args, kwargs):\n",
      "File \u001b[0;32m~/.pyenv/versions/evat_env_py310/lib/python3.10/site-packages/keras/src/utils/traceback_utils.py:156\u001b[0m, in \u001b[0;36minject_argument_info_in_traceback.<locals>.error_handler\u001b[0;34m(*args, **kwargs)\u001b[0m\n\u001b[1;32m    154\u001b[0m bound_signature \u001b[38;5;241m=\u001b[39m \u001b[38;5;28;01mNone\u001b[39;00m\n\u001b[1;32m    155\u001b[0m \u001b[38;5;28;01mtry\u001b[39;00m:\n\u001b[0;32m--> 156\u001b[0m     \u001b[38;5;28;01mreturn\u001b[39;00m \u001b[43mfn\u001b[49m\u001b[43m(\u001b[49m\u001b[38;5;241;43m*\u001b[39;49m\u001b[43margs\u001b[49m\u001b[43m,\u001b[49m\u001b[43m \u001b[49m\u001b[38;5;241;43m*\u001b[39;49m\u001b[38;5;241;43m*\u001b[39;49m\u001b[43mkwargs\u001b[49m\u001b[43m)\u001b[49m\n\u001b[1;32m    157\u001b[0m \u001b[38;5;28;01mexcept\u001b[39;00m \u001b[38;5;167;01mException\u001b[39;00m \u001b[38;5;28;01mas\u001b[39;00m e:\n\u001b[1;32m    158\u001b[0m     \u001b[38;5;28;01mif\u001b[39;00m \u001b[38;5;28mhasattr\u001b[39m(e, \u001b[38;5;124m\"\u001b[39m\u001b[38;5;124m_keras_call_info_injected\u001b[39m\u001b[38;5;124m\"\u001b[39m):\n\u001b[1;32m    159\u001b[0m         \u001b[38;5;66;03m# Only inject info for the innermost failing call\u001b[39;00m\n",
      "File \u001b[0;32m~/.pyenv/versions/evat_env_py310/lib/python3.10/site-packages/keras/src/layers/rnn/lstm.py:583\u001b[0m, in \u001b[0;36mLSTM.call\u001b[0;34m(self, sequences, initial_state, mask, training)\u001b[0m\n\u001b[1;32m    582\u001b[0m \u001b[38;5;28;01mdef\u001b[39;00m\u001b[38;5;250m \u001b[39m\u001b[38;5;21mcall\u001b[39m(\u001b[38;5;28mself\u001b[39m, sequences, initial_state\u001b[38;5;241m=\u001b[39m\u001b[38;5;28;01mNone\u001b[39;00m, mask\u001b[38;5;241m=\u001b[39m\u001b[38;5;28;01mNone\u001b[39;00m, training\u001b[38;5;241m=\u001b[39m\u001b[38;5;28;01mFalse\u001b[39;00m):\n\u001b[0;32m--> 583\u001b[0m     \u001b[38;5;28;01mreturn\u001b[39;00m \u001b[38;5;28;43msuper\u001b[39;49m\u001b[43m(\u001b[49m\u001b[43m)\u001b[49m\u001b[38;5;241;43m.\u001b[39;49m\u001b[43mcall\u001b[49m\u001b[43m(\u001b[49m\n\u001b[1;32m    584\u001b[0m \u001b[43m        \u001b[49m\u001b[43msequences\u001b[49m\u001b[43m,\u001b[49m\u001b[43m \u001b[49m\u001b[43mmask\u001b[49m\u001b[38;5;241;43m=\u001b[39;49m\u001b[43mmask\u001b[49m\u001b[43m,\u001b[49m\u001b[43m \u001b[49m\u001b[43mtraining\u001b[49m\u001b[38;5;241;43m=\u001b[39;49m\u001b[43mtraining\u001b[49m\u001b[43m,\u001b[49m\u001b[43m \u001b[49m\u001b[43minitial_state\u001b[49m\u001b[38;5;241;43m=\u001b[39;49m\u001b[43minitial_state\u001b[49m\n\u001b[1;32m    585\u001b[0m \u001b[43m    \u001b[49m\u001b[43m)\u001b[49m\n",
      "File \u001b[0;32m~/.pyenv/versions/evat_env_py310/lib/python3.10/site-packages/keras/src/layers/rnn/rnn.py:406\u001b[0m, in \u001b[0;36mRNN.call\u001b[0;34m(self, sequences, initial_state, mask, training)\u001b[0m\n\u001b[1;32m    400\u001b[0m \u001b[38;5;66;03m# Prepopulate the dropout state so that the inner_loop is stateless\u001b[39;00m\n\u001b[1;32m    401\u001b[0m \u001b[38;5;66;03m# this is particularly important for JAX backend.\u001b[39;00m\n\u001b[1;32m    402\u001b[0m \u001b[38;5;28mself\u001b[39m\u001b[38;5;241m.\u001b[39m_maybe_config_dropout_masks(\n\u001b[1;32m    403\u001b[0m     \u001b[38;5;28mself\u001b[39m\u001b[38;5;241m.\u001b[39mcell, sequences[:, \u001b[38;5;241m0\u001b[39m, :], initial_state\n\u001b[1;32m    404\u001b[0m )\n\u001b[0;32m--> 406\u001b[0m last_output, outputs, states \u001b[38;5;241m=\u001b[39m \u001b[38;5;28;43mself\u001b[39;49m\u001b[38;5;241;43m.\u001b[39;49m\u001b[43minner_loop\u001b[49m\u001b[43m(\u001b[49m\n\u001b[1;32m    407\u001b[0m \u001b[43m    \u001b[49m\u001b[43msequences\u001b[49m\u001b[38;5;241;43m=\u001b[39;49m\u001b[43msequences\u001b[49m\u001b[43m,\u001b[49m\n\u001b[1;32m    408\u001b[0m \u001b[43m    \u001b[49m\u001b[43minitial_state\u001b[49m\u001b[38;5;241;43m=\u001b[39;49m\u001b[43minitial_state\u001b[49m\u001b[43m,\u001b[49m\n\u001b[1;32m    409\u001b[0m \u001b[43m    \u001b[49m\u001b[43mmask\u001b[49m\u001b[38;5;241;43m=\u001b[39;49m\u001b[43mmask\u001b[49m\u001b[43m,\u001b[49m\n\u001b[1;32m    410\u001b[0m \u001b[43m    \u001b[49m\u001b[43mtraining\u001b[49m\u001b[38;5;241;43m=\u001b[39;49m\u001b[43mtraining\u001b[49m\u001b[43m,\u001b[49m\n\u001b[1;32m    411\u001b[0m \u001b[43m\u001b[49m\u001b[43m)\u001b[49m\n\u001b[1;32m    412\u001b[0m last_output \u001b[38;5;241m=\u001b[39m ops\u001b[38;5;241m.\u001b[39mcast(last_output, \u001b[38;5;28mself\u001b[39m\u001b[38;5;241m.\u001b[39mcompute_dtype)\n\u001b[1;32m    413\u001b[0m outputs \u001b[38;5;241m=\u001b[39m ops\u001b[38;5;241m.\u001b[39mcast(outputs, \u001b[38;5;28mself\u001b[39m\u001b[38;5;241m.\u001b[39mcompute_dtype)\n",
      "File \u001b[0;32m~/.pyenv/versions/evat_env_py310/lib/python3.10/site-packages/keras/src/layers/rnn/lstm.py:578\u001b[0m, in \u001b[0;36mLSTM.inner_loop\u001b[0;34m(self, sequences, initial_state, mask, training)\u001b[0m\n\u001b[1;32m    571\u001b[0m \u001b[38;5;28;01mif\u001b[39;00m \u001b[38;5;28mself\u001b[39m\u001b[38;5;241m.\u001b[39muse_cudnn \u001b[38;5;129;01mis\u001b[39;00m \u001b[38;5;28;01mTrue\u001b[39;00m:\n\u001b[1;32m    572\u001b[0m     \u001b[38;5;28;01mraise\u001b[39;00m \u001b[38;5;167;01mValueError\u001b[39;00m(\n\u001b[1;32m    573\u001b[0m         \u001b[38;5;124m\"\u001b[39m\u001b[38;5;124muse_cudnn=True was specified, \u001b[39m\u001b[38;5;124m\"\u001b[39m\n\u001b[1;32m    574\u001b[0m         \u001b[38;5;124m\"\u001b[39m\u001b[38;5;124mbut cuDNN is not supported for this layer configuration \u001b[39m\u001b[38;5;124m\"\u001b[39m\n\u001b[1;32m    575\u001b[0m         \u001b[38;5;124m\"\u001b[39m\u001b[38;5;124mwith this backend. Pass use_cudnn=\u001b[39m\u001b[38;5;124m'\u001b[39m\u001b[38;5;124mauto\u001b[39m\u001b[38;5;124m'\u001b[39m\u001b[38;5;124m to fallback \u001b[39m\u001b[38;5;124m\"\u001b[39m\n\u001b[1;32m    576\u001b[0m         \u001b[38;5;124m\"\u001b[39m\u001b[38;5;124mto a non-cuDNN implementation.\u001b[39m\u001b[38;5;124m\"\u001b[39m\n\u001b[1;32m    577\u001b[0m     )\n\u001b[0;32m--> 578\u001b[0m \u001b[38;5;28;01mreturn\u001b[39;00m \u001b[38;5;28;43msuper\u001b[39;49m\u001b[43m(\u001b[49m\u001b[43m)\u001b[49m\u001b[38;5;241;43m.\u001b[39;49m\u001b[43minner_loop\u001b[49m\u001b[43m(\u001b[49m\n\u001b[1;32m    579\u001b[0m \u001b[43m    \u001b[49m\u001b[43msequences\u001b[49m\u001b[43m,\u001b[49m\u001b[43m \u001b[49m\u001b[43minitial_state\u001b[49m\u001b[43m,\u001b[49m\u001b[43m \u001b[49m\u001b[43mmask\u001b[49m\u001b[38;5;241;43m=\u001b[39;49m\u001b[43mmask\u001b[49m\u001b[43m,\u001b[49m\u001b[43m \u001b[49m\u001b[43mtraining\u001b[49m\u001b[38;5;241;43m=\u001b[39;49m\u001b[43mtraining\u001b[49m\n\u001b[1;32m    580\u001b[0m \u001b[43m\u001b[49m\u001b[43m)\u001b[49m\n",
      "File \u001b[0;32m~/.pyenv/versions/evat_env_py310/lib/python3.10/site-packages/keras/src/layers/rnn/rnn.py:346\u001b[0m, in \u001b[0;36mRNN.inner_loop\u001b[0;34m(self, sequences, initial_state, mask, training)\u001b[0m\n\u001b[1;32m    343\u001b[0m \u001b[38;5;28;01mif\u001b[39;00m \u001b[38;5;129;01mnot\u001b[39;00m tree\u001b[38;5;241m.\u001b[39mis_nested(initial_state):\n\u001b[1;32m    344\u001b[0m     initial_state \u001b[38;5;241m=\u001b[39m [initial_state]\n\u001b[0;32m--> 346\u001b[0m \u001b[38;5;28;01mreturn\u001b[39;00m \u001b[43mbackend\u001b[49m\u001b[38;5;241;43m.\u001b[39;49m\u001b[43mrnn\u001b[49m\u001b[43m(\u001b[49m\n\u001b[1;32m    347\u001b[0m \u001b[43m    \u001b[49m\u001b[43mstep\u001b[49m\u001b[43m,\u001b[49m\n\u001b[1;32m    348\u001b[0m \u001b[43m    \u001b[49m\u001b[43msequences\u001b[49m\u001b[43m,\u001b[49m\n\u001b[1;32m    349\u001b[0m \u001b[43m    \u001b[49m\u001b[43minitial_state\u001b[49m\u001b[43m,\u001b[49m\n\u001b[1;32m    350\u001b[0m \u001b[43m    \u001b[49m\u001b[43mgo_backwards\u001b[49m\u001b[38;5;241;43m=\u001b[39;49m\u001b[38;5;28;43mself\u001b[39;49m\u001b[38;5;241;43m.\u001b[39;49m\u001b[43mgo_backwards\u001b[49m\u001b[43m,\u001b[49m\n\u001b[1;32m    351\u001b[0m \u001b[43m    \u001b[49m\u001b[43mmask\u001b[49m\u001b[38;5;241;43m=\u001b[39;49m\u001b[43mmask\u001b[49m\u001b[43m,\u001b[49m\n\u001b[1;32m    352\u001b[0m \u001b[43m    \u001b[49m\u001b[43munroll\u001b[49m\u001b[38;5;241;43m=\u001b[39;49m\u001b[38;5;28;43mself\u001b[39;49m\u001b[38;5;241;43m.\u001b[39;49m\u001b[43munroll\u001b[49m\u001b[43m,\u001b[49m\n\u001b[1;32m    353\u001b[0m \u001b[43m    \u001b[49m\u001b[43minput_length\u001b[49m\u001b[38;5;241;43m=\u001b[39;49m\u001b[43msequences\u001b[49m\u001b[38;5;241;43m.\u001b[39;49m\u001b[43mshape\u001b[49m\u001b[43m[\u001b[49m\u001b[38;5;241;43m1\u001b[39;49m\u001b[43m]\u001b[49m\u001b[43m,\u001b[49m\n\u001b[1;32m    354\u001b[0m \u001b[43m    \u001b[49m\u001b[43mzero_output_for_mask\u001b[49m\u001b[38;5;241;43m=\u001b[39;49m\u001b[38;5;28;43mself\u001b[39;49m\u001b[38;5;241;43m.\u001b[39;49m\u001b[43mzero_output_for_mask\u001b[49m\u001b[43m,\u001b[49m\n\u001b[1;32m    355\u001b[0m \u001b[43m    \u001b[49m\u001b[43mreturn_all_outputs\u001b[49m\u001b[38;5;241;43m=\u001b[39;49m\u001b[38;5;28;43mself\u001b[39;49m\u001b[38;5;241;43m.\u001b[39;49m\u001b[43mreturn_sequences\u001b[49m\u001b[43m,\u001b[49m\n\u001b[1;32m    356\u001b[0m \u001b[43m\u001b[49m\u001b[43m)\u001b[49m\n",
      "File \u001b[0;32m~/.pyenv/versions/evat_env_py310/lib/python3.10/site-packages/keras/src/backend/tensorflow/rnn.py:428\u001b[0m, in \u001b[0;36mrnn\u001b[0;34m(step_function, inputs, initial_states, go_backwards, mask, constants, unroll, input_length, time_major, zero_output_for_mask, return_all_outputs)\u001b[0m\n\u001b[1;32m    423\u001b[0m         new_states \u001b[38;5;241m=\u001b[39m tree\u001b[38;5;241m.\u001b[39mpack_sequence_as(\n\u001b[1;32m    424\u001b[0m             initial_states, flat_new_state\n\u001b[1;32m    425\u001b[0m         )\n\u001b[1;32m    426\u001b[0m         \u001b[38;5;28;01mreturn\u001b[39;00m (time \u001b[38;5;241m+\u001b[39m \u001b[38;5;241m1\u001b[39m, output_ta_t) \u001b[38;5;241m+\u001b[39m \u001b[38;5;28mtuple\u001b[39m(new_states)\n\u001b[0;32m--> 428\u001b[0m     final_outputs \u001b[38;5;241m=\u001b[39m \u001b[43mtf\u001b[49m\u001b[38;5;241;43m.\u001b[39;49m\u001b[43mwhile_loop\u001b[49m\u001b[43m(\u001b[49m\n\u001b[1;32m    429\u001b[0m \u001b[43m        \u001b[49m\u001b[43mbody\u001b[49m\u001b[38;5;241;43m=\u001b[39;49m\u001b[43m_step\u001b[49m\u001b[43m,\u001b[49m\n\u001b[1;32m    430\u001b[0m \u001b[43m        \u001b[49m\u001b[43mloop_vars\u001b[49m\u001b[38;5;241;43m=\u001b[39;49m\u001b[43m(\u001b[49m\u001b[43mtime\u001b[49m\u001b[43m,\u001b[49m\u001b[43m \u001b[49m\u001b[43moutput_ta\u001b[49m\u001b[43m)\u001b[49m\u001b[43m \u001b[49m\u001b[38;5;241;43m+\u001b[39;49m\u001b[43m \u001b[49m\u001b[43mstates\u001b[49m\u001b[43m,\u001b[49m\n\u001b[1;32m    431\u001b[0m \u001b[43m        \u001b[49m\u001b[38;5;241;43m*\u001b[39;49m\u001b[38;5;241;43m*\u001b[39;49m\u001b[43mwhile_loop_kwargs\u001b[49m\u001b[43m,\u001b[49m\n\u001b[1;32m    432\u001b[0m \u001b[43m    \u001b[49m\u001b[43m)\u001b[49m\n\u001b[1;32m    433\u001b[0m     new_states \u001b[38;5;241m=\u001b[39m final_outputs[\u001b[38;5;241m2\u001b[39m:]\n\u001b[1;32m    435\u001b[0m output_ta \u001b[38;5;241m=\u001b[39m final_outputs[\u001b[38;5;241m1\u001b[39m]\n",
      "File \u001b[0;32m~/.pyenv/versions/evat_env_py310/lib/python3.10/site-packages/tensorflow/python/util/deprecation.py:660\u001b[0m, in \u001b[0;36mdeprecated_arg_values.<locals>.deprecated_wrapper.<locals>.new_func\u001b[0;34m(*args, **kwargs)\u001b[0m\n\u001b[1;32m    652\u001b[0m           _PRINTED_WARNING[(func, arg_name)] \u001b[38;5;241m=\u001b[39m \u001b[38;5;28;01mTrue\u001b[39;00m\n\u001b[1;32m    653\u001b[0m         _log_deprecation(\n\u001b[1;32m    654\u001b[0m             \u001b[38;5;124m'\u001b[39m\u001b[38;5;124mFrom \u001b[39m\u001b[38;5;132;01m%s\u001b[39;00m\u001b[38;5;124m: calling \u001b[39m\u001b[38;5;132;01m%s\u001b[39;00m\u001b[38;5;124m (from \u001b[39m\u001b[38;5;132;01m%s\u001b[39;00m\u001b[38;5;124m) with \u001b[39m\u001b[38;5;132;01m%s\u001b[39;00m\u001b[38;5;124m=\u001b[39m\u001b[38;5;132;01m%s\u001b[39;00m\u001b[38;5;124m is deprecated and \u001b[39m\u001b[38;5;124m'\u001b[39m\n\u001b[1;32m    655\u001b[0m             \u001b[38;5;124m'\u001b[39m\u001b[38;5;124mwill be removed \u001b[39m\u001b[38;5;132;01m%s\u001b[39;00m\u001b[38;5;124m.\u001b[39m\u001b[38;5;130;01m\\n\u001b[39;00m\u001b[38;5;124mInstructions for updating:\u001b[39m\u001b[38;5;130;01m\\n\u001b[39;00m\u001b[38;5;132;01m%s\u001b[39;00m\u001b[38;5;124m'\u001b[39m,\n\u001b[0;32m   (...)\u001b[0m\n\u001b[1;32m    658\u001b[0m             \u001b[38;5;124m'\u001b[39m\u001b[38;5;124min a future version\u001b[39m\u001b[38;5;124m'\u001b[39m \u001b[38;5;28;01mif\u001b[39;00m date \u001b[38;5;129;01mis\u001b[39;00m \u001b[38;5;28;01mNone\u001b[39;00m \u001b[38;5;28;01melse\u001b[39;00m\n\u001b[1;32m    659\u001b[0m             (\u001b[38;5;124m'\u001b[39m\u001b[38;5;124mafter \u001b[39m\u001b[38;5;132;01m%s\u001b[39;00m\u001b[38;5;124m'\u001b[39m \u001b[38;5;241m%\u001b[39m date), instructions)\n\u001b[0;32m--> 660\u001b[0m \u001b[38;5;28;01mreturn\u001b[39;00m \u001b[43mfunc\u001b[49m\u001b[43m(\u001b[49m\u001b[38;5;241;43m*\u001b[39;49m\u001b[43margs\u001b[49m\u001b[43m,\u001b[49m\u001b[43m \u001b[49m\u001b[38;5;241;43m*\u001b[39;49m\u001b[38;5;241;43m*\u001b[39;49m\u001b[43mkwargs\u001b[49m\u001b[43m)\u001b[49m\n",
      "File \u001b[0;32m~/.pyenv/versions/evat_env_py310/lib/python3.10/site-packages/tensorflow/python/ops/while_loop.py:241\u001b[0m, in \u001b[0;36mwhile_loop_v2\u001b[0;34m(cond, body, loop_vars, shape_invariants, parallel_iterations, back_prop, swap_memory, maximum_iterations, name)\u001b[0m\n\u001b[1;32m     35\u001b[0m \u001b[38;5;129m@tf_export\u001b[39m(\u001b[38;5;124m\"\u001b[39m\u001b[38;5;124mwhile_loop\u001b[39m\u001b[38;5;124m\"\u001b[39m, v1\u001b[38;5;241m=\u001b[39m[])\n\u001b[1;32m     36\u001b[0m \u001b[38;5;129m@deprecation\u001b[39m\u001b[38;5;241m.\u001b[39mdeprecated_arg_values(\n\u001b[1;32m     37\u001b[0m     \u001b[38;5;28;01mNone\u001b[39;00m,\n\u001b[0;32m   (...)\u001b[0m\n\u001b[1;32m     52\u001b[0m                   maximum_iterations\u001b[38;5;241m=\u001b[39m\u001b[38;5;28;01mNone\u001b[39;00m,\n\u001b[1;32m     53\u001b[0m                   name\u001b[38;5;241m=\u001b[39m\u001b[38;5;28;01mNone\u001b[39;00m):\n\u001b[1;32m     54\u001b[0m \u001b[38;5;250m  \u001b[39m\u001b[38;5;124;03m\"\"\"Repeat `body` while the condition `cond` is true.\u001b[39;00m\n\u001b[1;32m     55\u001b[0m \n\u001b[1;32m     56\u001b[0m \u001b[38;5;124;03m  Note: This op is automatically used in a `tf.function` to convert Python for-\u001b[39;00m\n\u001b[0;32m   (...)\u001b[0m\n\u001b[1;32m    239\u001b[0m \n\u001b[1;32m    240\u001b[0m \u001b[38;5;124;03m  \"\"\"\u001b[39;00m\n\u001b[0;32m--> 241\u001b[0m   \u001b[38;5;28;01mreturn\u001b[39;00m \u001b[43mwhile_loop\u001b[49m\u001b[43m(\u001b[49m\n\u001b[1;32m    242\u001b[0m \u001b[43m      \u001b[49m\u001b[43mcond\u001b[49m\u001b[38;5;241;43m=\u001b[39;49m\u001b[43mcond\u001b[49m\u001b[43m,\u001b[49m\n\u001b[1;32m    243\u001b[0m \u001b[43m      \u001b[49m\u001b[43mbody\u001b[49m\u001b[38;5;241;43m=\u001b[39;49m\u001b[43mbody\u001b[49m\u001b[43m,\u001b[49m\n\u001b[1;32m    244\u001b[0m \u001b[43m      \u001b[49m\u001b[43mloop_vars\u001b[49m\u001b[38;5;241;43m=\u001b[39;49m\u001b[43mloop_vars\u001b[49m\u001b[43m,\u001b[49m\n\u001b[1;32m    245\u001b[0m \u001b[43m      \u001b[49m\u001b[43mshape_invariants\u001b[49m\u001b[38;5;241;43m=\u001b[39;49m\u001b[43mshape_invariants\u001b[49m\u001b[43m,\u001b[49m\n\u001b[1;32m    246\u001b[0m \u001b[43m      \u001b[49m\u001b[43mparallel_iterations\u001b[49m\u001b[38;5;241;43m=\u001b[39;49m\u001b[43mparallel_iterations\u001b[49m\u001b[43m,\u001b[49m\n\u001b[1;32m    247\u001b[0m \u001b[43m      \u001b[49m\u001b[43mback_prop\u001b[49m\u001b[38;5;241;43m=\u001b[39;49m\u001b[43mback_prop\u001b[49m\u001b[43m,\u001b[49m\n\u001b[1;32m    248\u001b[0m \u001b[43m      \u001b[49m\u001b[43mswap_memory\u001b[49m\u001b[38;5;241;43m=\u001b[39;49m\u001b[43mswap_memory\u001b[49m\u001b[43m,\u001b[49m\n\u001b[1;32m    249\u001b[0m \u001b[43m      \u001b[49m\u001b[43mname\u001b[49m\u001b[38;5;241;43m=\u001b[39;49m\u001b[43mname\u001b[49m\u001b[43m,\u001b[49m\n\u001b[1;32m    250\u001b[0m \u001b[43m      \u001b[49m\u001b[43mmaximum_iterations\u001b[49m\u001b[38;5;241;43m=\u001b[39;49m\u001b[43mmaximum_iterations\u001b[49m\u001b[43m,\u001b[49m\n\u001b[1;32m    251\u001b[0m \u001b[43m      \u001b[49m\u001b[43mreturn_same_structure\u001b[49m\u001b[38;5;241;43m=\u001b[39;49m\u001b[38;5;28;43;01mTrue\u001b[39;49;00m\u001b[43m)\u001b[49m\n",
      "File \u001b[0;32m~/.pyenv/versions/evat_env_py310/lib/python3.10/site-packages/tensorflow/python/ops/while_loop.py:440\u001b[0m, in \u001b[0;36mwhile_loop\u001b[0;34m(cond, body, loop_vars, shape_invariants, parallel_iterations, back_prop, swap_memory, name, maximum_iterations, return_same_structure)\u001b[0m\n\u001b[1;32m    437\u001b[0m executing_eagerly \u001b[38;5;241m=\u001b[39m context\u001b[38;5;241m.\u001b[39mexecuting_eagerly()\n\u001b[1;32m    438\u001b[0m \u001b[38;5;28;01mif\u001b[39;00m (util\u001b[38;5;241m.\u001b[39mEnableControlFlowV2(ops\u001b[38;5;241m.\u001b[39mget_default_graph()) \u001b[38;5;129;01mand\u001b[39;00m\n\u001b[1;32m    439\u001b[0m     \u001b[38;5;129;01mnot\u001b[39;00m executing_eagerly):\n\u001b[0;32m--> 440\u001b[0m   \u001b[38;5;28;01mreturn\u001b[39;00m \u001b[43mwhile_v2\u001b[49m\u001b[38;5;241;43m.\u001b[39;49m\u001b[43mwhile_loop\u001b[49m\u001b[43m(\u001b[49m\n\u001b[1;32m    441\u001b[0m \u001b[43m      \u001b[49m\u001b[43mcond\u001b[49m\u001b[43m,\u001b[49m\n\u001b[1;32m    442\u001b[0m \u001b[43m      \u001b[49m\u001b[43mbody\u001b[49m\u001b[43m,\u001b[49m\n\u001b[1;32m    443\u001b[0m \u001b[43m      \u001b[49m\u001b[43mloop_vars\u001b[49m\u001b[43m,\u001b[49m\n\u001b[1;32m    444\u001b[0m \u001b[43m      \u001b[49m\u001b[43mshape_invariants\u001b[49m\u001b[38;5;241;43m=\u001b[39;49m\u001b[43mshape_invariants\u001b[49m\u001b[43m,\u001b[49m\n\u001b[1;32m    445\u001b[0m \u001b[43m      \u001b[49m\u001b[43mparallel_iterations\u001b[49m\u001b[38;5;241;43m=\u001b[39;49m\u001b[43mparallel_iterations\u001b[49m\u001b[43m,\u001b[49m\n\u001b[1;32m    446\u001b[0m \u001b[43m      \u001b[49m\u001b[43mmaximum_iterations\u001b[49m\u001b[38;5;241;43m=\u001b[39;49m\u001b[43mmaximum_iterations\u001b[49m\u001b[43m,\u001b[49m\n\u001b[1;32m    447\u001b[0m \u001b[43m      \u001b[49m\u001b[43mname\u001b[49m\u001b[38;5;241;43m=\u001b[39;49m\u001b[43mname\u001b[49m\u001b[43m,\u001b[49m\n\u001b[1;32m    448\u001b[0m \u001b[43m      \u001b[49m\u001b[43mreturn_same_structure\u001b[49m\u001b[38;5;241;43m=\u001b[39;49m\u001b[43mreturn_same_structure\u001b[49m\u001b[43m,\u001b[49m\n\u001b[1;32m    449\u001b[0m \u001b[43m      \u001b[49m\u001b[43mback_prop\u001b[49m\u001b[38;5;241;43m=\u001b[39;49m\u001b[43mback_prop\u001b[49m\u001b[43m)\u001b[49m\n\u001b[1;32m    451\u001b[0m \u001b[38;5;28;01mwith\u001b[39;00m ops\u001b[38;5;241m.\u001b[39mname_scope(name, \u001b[38;5;124m\"\u001b[39m\u001b[38;5;124mwhile\u001b[39m\u001b[38;5;124m\"\u001b[39m, loop_vars):\n\u001b[1;32m    452\u001b[0m   \u001b[38;5;28;01mif\u001b[39;00m \u001b[38;5;129;01mnot\u001b[39;00m loop_vars:\n",
      "File \u001b[0;32m~/.pyenv/versions/evat_env_py310/lib/python3.10/site-packages/tensorflow/python/ops/while_v2.py:202\u001b[0m, in \u001b[0;36mwhile_loop\u001b[0;34m(cond, body, loop_vars, shape_invariants, parallel_iterations, maximum_iterations, name, return_same_structure, back_prop)\u001b[0m\n\u001b[1;32m    198\u001b[0m   \u001b[38;5;66;03m# TODO(srbs): Update lowering code to create _Enter nodes with\u001b[39;00m\n\u001b[1;32m    199\u001b[0m   \u001b[38;5;66;03m# is_constant=True for inputs that are directly passed to outputs.\u001b[39;00m\n\u001b[1;32m    200\u001b[0m   \u001b[38;5;28;01mreturn\u001b[39;00m [loop_counter \u001b[38;5;241m+\u001b[39m \u001b[38;5;241m1\u001b[39m, maximum_iterations_arg] \u001b[38;5;241m+\u001b[39m \u001b[38;5;28mlist\u001b[39m(outputs)\n\u001b[0;32m--> 202\u001b[0m body_graph \u001b[38;5;241m=\u001b[39m \u001b[43mfunc_graph_module\u001b[49m\u001b[38;5;241;43m.\u001b[39;49m\u001b[43mfunc_graph_from_py_func\u001b[49m\u001b[43m(\u001b[49m\n\u001b[1;32m    203\u001b[0m \u001b[43m    \u001b[49m\u001b[43mbody_name\u001b[49m\u001b[43m,\u001b[49m\n\u001b[1;32m    204\u001b[0m \u001b[43m    \u001b[49m\u001b[43mwrapped_body\u001b[49m\u001b[43m,\u001b[49m\n\u001b[1;32m    205\u001b[0m \u001b[43m    \u001b[49m\u001b[43m[\u001b[49m\u001b[43m]\u001b[49m\u001b[43m,\u001b[49m\u001b[43m  \u001b[49m\u001b[38;5;66;43;03m# We provide signature instead of args.\u001b[39;49;00m\n\u001b[1;32m    206\u001b[0m \u001b[43m    \u001b[49m\u001b[43m{\u001b[49m\u001b[43m}\u001b[49m\u001b[43m,\u001b[49m\n\u001b[1;32m    207\u001b[0m \u001b[43m    \u001b[49m\u001b[43msignature\u001b[49m\u001b[38;5;241;43m=\u001b[39;49m\u001b[43mfunc_graph_signature\u001b[49m\u001b[43m,\u001b[49m\n\u001b[1;32m    208\u001b[0m \u001b[43m    \u001b[49m\u001b[43mfunc_graph\u001b[49m\u001b[38;5;241;43m=\u001b[39;49m\u001b[43mutil\u001b[49m\u001b[38;5;241;43m.\u001b[39;49m\u001b[43mWhileBodyFuncGraph\u001b[49m\u001b[43m(\u001b[49m\n\u001b[1;32m    209\u001b[0m \u001b[43m        \u001b[49m\u001b[43mbody_name\u001b[49m\u001b[43m,\u001b[49m\u001b[43m \u001b[49m\u001b[43mcollections\u001b[49m\u001b[38;5;241;43m=\u001b[39;49m\u001b[43mops\u001b[49m\u001b[38;5;241;43m.\u001b[39;49m\u001b[43mget_default_graph\u001b[49m\u001b[43m(\u001b[49m\u001b[43m)\u001b[49m\u001b[38;5;241;43m.\u001b[39;49m\u001b[43m_collections\u001b[49m\u001b[43m)\u001b[49m\u001b[43m,\u001b[49m\u001b[43m  \u001b[49m\u001b[38;5;66;43;03m# pylint: disable=protected-access\u001b[39;49;00m\n\u001b[1;32m    210\u001b[0m \u001b[43m    \u001b[49m\u001b[43madd_control_dependencies\u001b[49m\u001b[38;5;241;43m=\u001b[39;49m\u001b[43madd_control_dependencies\u001b[49m\u001b[43m)\u001b[49m\n\u001b[1;32m    211\u001b[0m \u001b[38;5;66;03m# Add external captures of body to the list of loop vars.\u001b[39;00m\n\u001b[1;32m    212\u001b[0m \u001b[38;5;66;03m# Note that external tensors will be treated as loop invariants, i.e.,\u001b[39;00m\n\u001b[1;32m    213\u001b[0m \u001b[38;5;66;03m# the value of that tensor in each iteration is the same as it was at the\u001b[39;00m\n\u001b[1;32m    214\u001b[0m \u001b[38;5;66;03m# beginning of the loop execution.\u001b[39;00m\n\u001b[1;32m    215\u001b[0m deferred_external_captures \u001b[38;5;241m=\u001b[39m nest\u001b[38;5;241m.\u001b[39mflatten(\n\u001b[1;32m    216\u001b[0m     [c() \u001b[38;5;28;01mfor\u001b[39;00m c \u001b[38;5;129;01min\u001b[39;00m body_graph\u001b[38;5;241m.\u001b[39mdeferred_external_captures],\n\u001b[1;32m    217\u001b[0m     expand_composites\u001b[38;5;241m=\u001b[39m\u001b[38;5;28;01mTrue\u001b[39;00m)\n",
      "File \u001b[0;32m~/.pyenv/versions/evat_env_py310/lib/python3.10/site-packages/tensorflow/python/framework/func_graph.py:1018\u001b[0m, in \u001b[0;36mfunc_graph_from_py_func\u001b[0;34m(name, python_func, args, kwargs, signature, func_graph, add_control_dependencies, arg_names, op_return_value, collections, capture_by_value, create_placeholders)\u001b[0m\n\u001b[1;32m   1012\u001b[0m signature_context \u001b[38;5;241m=\u001b[39m trace_type\u001b[38;5;241m.\u001b[39mInternalTracingContext()\n\u001b[1;32m   1013\u001b[0m \u001b[38;5;66;03m# Convert all Tensors into TensorSpecs before saving the structured inputs.\u001b[39;00m\n\u001b[1;32m   1014\u001b[0m \u001b[38;5;66;03m# If storing pure concrete functions that are not called through polymorphic\u001b[39;00m\n\u001b[1;32m   1015\u001b[0m \u001b[38;5;66;03m# functions, we don't have access to FunctionSpec, so we need to call the\u001b[39;00m\n\u001b[1;32m   1016\u001b[0m \u001b[38;5;66;03m# TensorSpecs by their `arg_names` for later binding.\u001b[39;00m\n\u001b[1;32m   1017\u001b[0m func_graph\u001b[38;5;241m.\u001b[39mstructured_input_signature \u001b[38;5;241m=\u001b[39m (\n\u001b[0;32m-> 1018\u001b[0m     \u001b[43mconvert_structure_to_signature\u001b[49m\u001b[43m(\u001b[49m\n\u001b[1;32m   1019\u001b[0m \u001b[43m        \u001b[49m\u001b[43mfunc_args\u001b[49m\u001b[43m,\u001b[49m\u001b[43m \u001b[49m\u001b[43marg_names\u001b[49m\u001b[43m,\u001b[49m\u001b[43m \u001b[49m\u001b[43msignature_context\u001b[49m\u001b[38;5;241;43m=\u001b[39;49m\u001b[43msignature_context\u001b[49m\u001b[43m)\u001b[49m,\n\u001b[1;32m   1020\u001b[0m     convert_structure_to_signature(\n\u001b[1;32m   1021\u001b[0m         func_kwargs, signature_context\u001b[38;5;241m=\u001b[39msignature_context))\n\u001b[1;32m   1023\u001b[0m \u001b[38;5;66;03m# Note: `nest.flatten` sorts by keys, as does `_deterministic_dict_values`.\u001b[39;00m\n\u001b[1;32m   1024\u001b[0m \u001b[38;5;66;03m# Variables to help check whether mutation happens in calling the function\u001b[39;00m\n\u001b[1;32m   1025\u001b[0m \u001b[38;5;66;03m# Copy the recursive list, tuple and map structure, but not base objects\u001b[39;00m\n\u001b[1;32m   1026\u001b[0m func_args_before \u001b[38;5;241m=\u001b[39m nest\u001b[38;5;241m.\u001b[39mpack_sequence_as(\n\u001b[1;32m   1027\u001b[0m     func_args,\n\u001b[1;32m   1028\u001b[0m     nest\u001b[38;5;241m.\u001b[39mflatten(func_args, expand_composites\u001b[38;5;241m=\u001b[39m\u001b[38;5;28;01mTrue\u001b[39;00m),\n\u001b[1;32m   1029\u001b[0m     expand_composites\u001b[38;5;241m=\u001b[39m\u001b[38;5;28;01mTrue\u001b[39;00m)\n",
      "File \u001b[0;32m~/.pyenv/versions/evat_env_py310/lib/python3.10/site-packages/tensorflow/python/framework/func_graph.py:118\u001b[0m, in \u001b[0;36mconvert_structure_to_signature\u001b[0;34m(structure, arg_names, signature_context)\u001b[0m\n\u001b[1;32m    114\u001b[0m   \u001b[38;5;28;01mreturn\u001b[39;00m UnknownArgument()\n\u001b[1;32m    116\u001b[0m \u001b[38;5;66;03m# We are using the flattened paths to name the TensorSpecs. We need an\u001b[39;00m\n\u001b[1;32m    117\u001b[0m \u001b[38;5;66;03m# explicit name for them downstream.\u001b[39;00m\n\u001b[0;32m--> 118\u001b[0m flattened \u001b[38;5;241m=\u001b[39m \u001b[43mnest\u001b[49m\u001b[38;5;241;43m.\u001b[39;49m\u001b[43mflatten_with_tuple_paths\u001b[49m\u001b[43m(\u001b[49m\u001b[43mstructure\u001b[49m\u001b[43m)\u001b[49m\n\u001b[1;32m    119\u001b[0m \u001b[38;5;28;01mif\u001b[39;00m arg_names:\n\u001b[1;32m    120\u001b[0m   \u001b[38;5;28;01mif\u001b[39;00m \u001b[38;5;28mlen\u001b[39m(arg_names) \u001b[38;5;241m!=\u001b[39m \u001b[38;5;28mlen\u001b[39m(structure):\n",
      "File \u001b[0;32m~/.pyenv/versions/evat_env_py310/lib/python3.10/site-packages/tensorflow/python/util/nest.py:1283\u001b[0m, in \u001b[0;36mflatten_with_tuple_paths\u001b[0;34m(structure, expand_composites)\u001b[0m\n\u001b[1;32m   1264\u001b[0m \u001b[38;5;28;01mdef\u001b[39;00m\u001b[38;5;250m \u001b[39m\u001b[38;5;21mflatten_with_tuple_paths\u001b[39m(structure, expand_composites\u001b[38;5;241m=\u001b[39m\u001b[38;5;28;01mFalse\u001b[39;00m):\n\u001b[1;32m   1265\u001b[0m \u001b[38;5;250m  \u001b[39m\u001b[38;5;124;03m\"\"\"Returns a list of `(tuple_path, atom)` tuples.\u001b[39;00m\n\u001b[1;32m   1266\u001b[0m \n\u001b[1;32m   1267\u001b[0m \u001b[38;5;124;03m  The order of pairs produced matches that of `nest.flatten`. This allows you\u001b[39;00m\n\u001b[0;32m   (...)\u001b[0m\n\u001b[1;32m   1281\u001b[0m \u001b[38;5;124;03m    `atom` within `structure`.\u001b[39;00m\n\u001b[1;32m   1282\u001b[0m \u001b[38;5;124;03m  \"\"\"\u001b[39;00m\n\u001b[0;32m-> 1283\u001b[0m   \u001b[38;5;28;01mreturn\u001b[39;00m \u001b[38;5;28;43mlist\u001b[39;49m\u001b[43m(\u001b[49m\u001b[38;5;28;43mzip\u001b[39;49m\u001b[43m(\u001b[49m\u001b[43myield_flat_paths\u001b[49m\u001b[43m(\u001b[49m\u001b[43mstructure\u001b[49m\u001b[43m,\u001b[49m\n\u001b[1;32m   1284\u001b[0m \u001b[43m                                   \u001b[49m\u001b[43mexpand_composites\u001b[49m\u001b[38;5;241;43m=\u001b[39;49m\u001b[43mexpand_composites\u001b[49m\u001b[43m)\u001b[49m\u001b[43m,\u001b[49m\n\u001b[1;32m   1285\u001b[0m \u001b[43m                  \u001b[49m\u001b[43mflatten\u001b[49m\u001b[43m(\u001b[49m\u001b[43mstructure\u001b[49m\u001b[43m,\u001b[49m\u001b[43m \u001b[49m\u001b[43mexpand_composites\u001b[49m\u001b[38;5;241;43m=\u001b[39;49m\u001b[43mexpand_composites\u001b[49m\u001b[43m)\u001b[49m\u001b[43m)\u001b[49m\u001b[43m)\u001b[49m\n",
      "File \u001b[0;32m~/.pyenv/versions/evat_env_py310/lib/python3.10/site-packages/tensorflow/python/util/nest.py:1229\u001b[0m, in \u001b[0;36myield_flat_paths\u001b[0;34m(nest, expand_composites)\u001b[0m\n\u001b[1;32m   1190\u001b[0m \u001b[38;5;250m\u001b[39m\u001b[38;5;124;03m\"\"\"Yields paths for some nested structure.\u001b[39;00m\n\u001b[1;32m   1191\u001b[0m \n\u001b[1;32m   1192\u001b[0m \u001b[38;5;124;03mRefer to [tf.nest](https://www.tensorflow.org/api_docs/python/tf/nest)\u001b[39;00m\n\u001b[0;32m   (...)\u001b[0m\n\u001b[1;32m   1226\u001b[0m \u001b[38;5;124;03m  leaf value in the nested structure.\u001b[39;00m\n\u001b[1;32m   1227\u001b[0m \u001b[38;5;124;03m\"\"\"\u001b[39;00m\n\u001b[1;32m   1228\u001b[0m is_nested_fn \u001b[38;5;241m=\u001b[39m _is_nested_or_composite \u001b[38;5;28;01mif\u001b[39;00m expand_composites \u001b[38;5;28;01melse\u001b[39;00m is_nested\n\u001b[0;32m-> 1229\u001b[0m \u001b[38;5;28;01mfor\u001b[39;00m k, _ \u001b[38;5;129;01min\u001b[39;00m \u001b[43mnest_util\u001b[49m\u001b[38;5;241;43m.\u001b[39;49m\u001b[43myield_flat_up_to\u001b[49m\u001b[43m(\u001b[49m\n\u001b[1;32m   1230\u001b[0m \u001b[43m    \u001b[49m\u001b[43mnest_util\u001b[49m\u001b[38;5;241;43m.\u001b[39;49m\u001b[43mModality\u001b[49m\u001b[38;5;241;43m.\u001b[39;49m\u001b[43mCORE\u001b[49m\u001b[43m,\u001b[49m\u001b[43m \u001b[49m\u001b[43mnest\u001b[49m\u001b[43m,\u001b[49m\u001b[43m \u001b[49m\u001b[43mnest\u001b[49m\u001b[43m,\u001b[49m\u001b[43m \u001b[49m\u001b[43mis_nested_fn\u001b[49m\n\u001b[1;32m   1231\u001b[0m \u001b[43m\u001b[49m\u001b[43m)\u001b[49m:\n\u001b[1;32m   1232\u001b[0m   \u001b[38;5;28;01myield\u001b[39;00m k\n",
      "\u001b[0;31mKeyboardInterrupt\u001b[0m: "
     ]
    }
   ],
   "source": [
    "# ========================\n",
    "# STEP 1: Load Dataset\n",
    "# ========================\n",
    "import pandas as pd\n",
    "import numpy as np\n",
    "import matplotlib.pyplot as plt\n",
    "from sklearn.preprocessing import StandardScaler\n",
    "from sklearn.metrics import mean_absolute_error, mean_squared_error\n",
    "import tensorflow as tf\n",
    "from tensorflow.keras.models import Sequential\n",
    "from tensorflow.keras.layers import LSTM, Dense, Dropout\n",
    "from sklearn.metrics import mean_squared_error\n",
    "import numpy as np\n",
    "\n",
    "# Load the binned data (60-min bins)\n",
    "df = pd.read_csv(\"station_timeseries_60min.csv\", parse_dates=['timestamp'])\n",
    "\n",
    "# ========================\n",
    "# STEP 2: Feature Engineering\n",
    "# ========================\n",
    "df.sort_values(by=['stationId', 'timestamp'], inplace=True)\n",
    "\n",
    "df['hour'] = df['timestamp'].dt.hour\n",
    "df['day_of_week'] = df['timestamp'].dt.dayofweek\n",
    "df['is_weekend'] = (df['day_of_week'] >= 5).astype(int)\n",
    "\n",
    "df['arrivals_lag_1'] = df.groupby('stationId')['arrivals'].shift(1)\n",
    "df['arrivals_lag_2'] = df.groupby('stationId')['arrivals'].shift(2)\n",
    "df['arrivals_lag_4'] = df.groupby('stationId')['arrivals'].shift(4)\n",
    "df['arrivals_ma_4'] = df.groupby('stationId')['arrivals'].transform(lambda x: x.rolling(4).mean())\n",
    "df['arrivals_ma_8'] = df.groupby('stationId')['arrivals'].transform(lambda x: x.rolling(8).mean())\n",
    "\n",
    "# Regression target: arrival count in next hour\n",
    "df['target_arrivals'] = df.groupby('stationId')['arrivals'].shift(-1)\n",
    "\n",
    "df.dropna(inplace=True)\n",
    "\n",
    "# ========================\n",
    "# STEP 3: Train-Test Split\n",
    "# ========================\n",
    "df = df.sort_values(by=['stationId', 'timestamp']).reset_index(drop=True)\n",
    "\n",
    "train_size = int(0.7 * len(df))\n",
    "val_size = int(0.15 * len(df))\n",
    "\n",
    "train_df = df.iloc[:train_size]\n",
    "val_df = df.iloc[train_size:train_size + val_size]\n",
    "test_df = df.iloc[train_size + val_size:]\n",
    "\n",
    "# ========================\n",
    "# STEP 4: Feature Scaling\n",
    "# ========================\n",
    "features = ['hour', 'day_of_week', 'is_weekend',\n",
    "            'arrivals_lag_1', 'arrivals_lag_2', 'arrivals_lag_4',\n",
    "            'arrivals_ma_4', 'arrivals_ma_8']\n",
    "\n",
    "scaler = StandardScaler()\n",
    "train_df[features] = scaler.fit_transform(train_df[features])\n",
    "val_df[features] = scaler.transform(val_df[features])\n",
    "test_df[features] = scaler.transform(test_df[features])\n",
    "\n",
    "# Targets\n",
    "y_train = train_df['target_arrivals'].values\n",
    "y_val = val_df['target_arrivals'].values\n",
    "y_test = test_df['target_arrivals'].values\n",
    "\n",
    "# ========================\n",
    "# STEP 5: Sequence Construction\n",
    "# ========================\n",
    "def create_sequences(df, feature_cols, target_array, seq_len=16):\n",
    "    X, y = [], []\n",
    "    for i in range(seq_len, len(df)):\n",
    "        X.append(df[feature_cols].iloc[i - seq_len:i].values)\n",
    "        y.append(target_array[i])\n",
    "    return np.array(X), np.array(y)\n",
    "\n",
    "X_train, y_train = create_sequences(train_df, features, y_train)\n",
    "X_val, y_val = create_sequences(val_df, features, y_val)\n",
    "X_test, y_test = create_sequences(test_df, features, y_test)\n",
    "\n",
    "# ========================\n",
    "# STEP 6: Build and Train LSTM Regression Model\n",
    "# ========================\n",
    "model = Sequential([\n",
    "    LSTM(64, return_sequences=True, input_shape=(X_train.shape[1], X_train.shape[2])),\n",
    "    Dropout(0.2),\n",
    "    LSTM(32),\n",
    "    Dropout(0.2),\n",
    "    Dense(16, activation='relu'),\n",
    "    Dense(1, activation='linear')  # Output is a float (arrival count)\n",
    "])\n",
    "\n",
    "model.compile(optimizer='adam', loss='mse', metrics=['mae'])\n",
    "\n",
    "history = model.fit(\n",
    "    X_train, y_train,\n",
    "    epochs=50,\n",
    "    batch_size=32,\n",
    "    validation_data=(X_val, y_val),\n",
    "    callbacks=[tf.keras.callbacks.EarlyStopping(patience=10, restore_best_weights=True)]\n",
    ")\n",
    "\n",
    "# ========================\n",
    "# STEP 7: Evaluate and Visualize\n",
    "# ========================\n",
    "y_pred = model.predict(X_test).flatten()\n",
    "\n",
    "mae = mean_absolute_error(y_test, y_pred)\n",
    "rmse = np.sqrt(mean_squared_error(y_test, y_pred))\n",
    "\n",
    "print(f\"\\n📊 LSTM Regression on 60-Minute Bins:\")\n",
    "print(f\"MAE  : {mae:.4f}\")\n",
    "print(f\"RMSE : {rmse:.4f}\")\n",
    "\n",
    "# ========================\n",
    "# STEP 8: Plot Predictions\n",
    "# ========================\n",
    "plt.figure(figsize=(12, 5))\n",
    "plt.plot(y_test[:200], label='Actual')\n",
    "plt.plot(y_pred[:200], label='Predicted')\n",
    "plt.title('LSTM Regression: Arrival Count Prediction — 60-Minute Bins')\n",
    "plt.xlabel('Time Step')\n",
    "plt.ylabel('Number of Arrivals')\n",
    "plt.legend()\n",
    "plt.grid(True)\n",
    "plt.show()\n"
   ]
  },
  {
   "cell_type": "code",
   "execution_count": 108,
   "id": "9ecfd8ed-ded7-4c19-a9bf-fe7bcec61dce",
   "metadata": {},
   "outputs": [],
   "source": [
    "# Step 1: Load your session-level dataset\n",
    "df = pd.read_csv(\"pre-processed-dataset.csv\", parse_dates=['created', 'ended'])\n"
   ]
  },
  {
   "cell_type": "code",
   "execution_count": 110,
   "id": "b198b64d-f7f5-4aab-b12b-d2123099fe47",
   "metadata": {},
   "outputs": [
    {
     "name": "stdout",
     "output_type": "stream",
     "text": [
      "\n",
      "🧪 Processing bin size: 15min\n"
     ]
    },
    {
     "name": "stderr",
     "output_type": "stream",
     "text": [
      "/Users/nazhimkalam/.pyenv/versions/evat_env_py310/lib/python3.10/site-packages/keras/src/layers/rnn/rnn.py:199: UserWarning: Do not pass an `input_shape`/`input_dim` argument to a layer. When using Sequential models, prefer using an `Input(shape)` object as the first layer in the model instead.\n",
      "  super().__init__(**kwargs)\n"
     ]
    },
    {
     "name": "stdout",
     "output_type": "stream",
     "text": [
      "\u001b[1m380/380\u001b[0m \u001b[32m━━━━━━━━━━━━━━━━━━━━\u001b[0m\u001b[37m\u001b[0m \u001b[1m1s\u001b[0m 1ms/step   \n",
      "✅ Bin size: 15min → MAE: 0.0214, RMSE: 0.1034\n",
      "\n",
      "🧪 Processing bin size: 30min\n"
     ]
    },
    {
     "name": "stderr",
     "output_type": "stream",
     "text": [
      "/Users/nazhimkalam/.pyenv/versions/evat_env_py310/lib/python3.10/site-packages/keras/src/layers/rnn/rnn.py:199: UserWarning: Do not pass an `input_shape`/`input_dim` argument to a layer. When using Sequential models, prefer using an `Input(shape)` object as the first layer in the model instead.\n",
      "  super().__init__(**kwargs)\n"
     ]
    },
    {
     "name": "stdout",
     "output_type": "stream",
     "text": [
      "\u001b[1m190/190\u001b[0m \u001b[32m━━━━━━━━━━━━━━━━━━━━\u001b[0m\u001b[37m\u001b[0m \u001b[1m0s\u001b[0m 2ms/step  \n",
      "✅ Bin size: 30min → MAE: 0.0379, RMSE: 0.1446\n",
      "\n",
      "🧪 Processing bin size: 60min\n"
     ]
    },
    {
     "name": "stderr",
     "output_type": "stream",
     "text": [
      "/Users/nazhimkalam/.pyenv/versions/evat_env_py310/lib/python3.10/site-packages/keras/src/layers/rnn/rnn.py:199: UserWarning: Do not pass an `input_shape`/`input_dim` argument to a layer. When using Sequential models, prefer using an `Input(shape)` object as the first layer in the model instead.\n",
      "  super().__init__(**kwargs)\n"
     ]
    },
    {
     "name": "stdout",
     "output_type": "stream",
     "text": [
      "\u001b[1m95/95\u001b[0m \u001b[32m━━━━━━━━━━━━━━━━━━━━\u001b[0m\u001b[37m\u001b[0m \u001b[1m0s\u001b[0m 2ms/step \n",
      "✅ Bin size: 60min → MAE: 0.0830, RMSE: 0.1972\n",
      "\n",
      "🧪 Processing bin size: 90min\n"
     ]
    },
    {
     "name": "stderr",
     "output_type": "stream",
     "text": [
      "/Users/nazhimkalam/.pyenv/versions/evat_env_py310/lib/python3.10/site-packages/keras/src/layers/rnn/rnn.py:199: UserWarning: Do not pass an `input_shape`/`input_dim` argument to a layer. When using Sequential models, prefer using an `Input(shape)` object as the first layer in the model instead.\n",
      "  super().__init__(**kwargs)\n"
     ]
    },
    {
     "name": "stdout",
     "output_type": "stream",
     "text": [
      "\u001b[1m63/63\u001b[0m \u001b[32m━━━━━━━━━━━━━━━━━━━━\u001b[0m\u001b[37m\u001b[0m \u001b[1m0s\u001b[0m 3ms/step  \n",
      "✅ Bin size: 90min → MAE: 0.0957, RMSE: 0.2281\n",
      "\n",
      "🧪 Processing bin size: 120min\n"
     ]
    },
    {
     "name": "stderr",
     "output_type": "stream",
     "text": [
      "/Users/nazhimkalam/.pyenv/versions/evat_env_py310/lib/python3.10/site-packages/keras/src/layers/rnn/rnn.py:199: UserWarning: Do not pass an `input_shape`/`input_dim` argument to a layer. When using Sequential models, prefer using an `Input(shape)` object as the first layer in the model instead.\n",
      "  super().__init__(**kwargs)\n"
     ]
    },
    {
     "name": "stdout",
     "output_type": "stream",
     "text": [
      "\u001b[1m47/47\u001b[0m \u001b[32m━━━━━━━━━━━━━━━━━━━━\u001b[0m\u001b[37m\u001b[0m \u001b[1m0s\u001b[0m 4ms/step \n",
      "✅ Bin size: 120min → MAE: 0.1350, RMSE: 0.2583\n",
      "\n",
      "🧪 Processing bin size: 150min\n"
     ]
    },
    {
     "name": "stderr",
     "output_type": "stream",
     "text": [
      "/Users/nazhimkalam/.pyenv/versions/evat_env_py310/lib/python3.10/site-packages/keras/src/layers/rnn/rnn.py:199: UserWarning: Do not pass an `input_shape`/`input_dim` argument to a layer. When using Sequential models, prefer using an `Input(shape)` object as the first layer in the model instead.\n",
      "  super().__init__(**kwargs)\n"
     ]
    },
    {
     "name": "stdout",
     "output_type": "stream",
     "text": [
      "\u001b[1m38/38\u001b[0m \u001b[32m━━━━━━━━━━━━━━━━━━━━\u001b[0m\u001b[37m\u001b[0m \u001b[1m0s\u001b[0m 4ms/step \n",
      "✅ Bin size: 150min → MAE: 0.1525, RMSE: 0.2749\n",
      "\n",
      "🧪 Processing bin size: 180min\n"
     ]
    },
    {
     "name": "stderr",
     "output_type": "stream",
     "text": [
      "/Users/nazhimkalam/.pyenv/versions/evat_env_py310/lib/python3.10/site-packages/keras/src/layers/rnn/rnn.py:199: UserWarning: Do not pass an `input_shape`/`input_dim` argument to a layer. When using Sequential models, prefer using an `Input(shape)` object as the first layer in the model instead.\n",
      "  super().__init__(**kwargs)\n"
     ]
    },
    {
     "name": "stdout",
     "output_type": "stream",
     "text": [
      "\u001b[1m32/32\u001b[0m \u001b[32m━━━━━━━━━━━━━━━━━━━━\u001b[0m\u001b[37m\u001b[0m \u001b[1m0s\u001b[0m 6ms/step \n",
      "✅ Bin size: 180min → MAE: 0.1766, RMSE: 0.2977\n",
      "\n",
      "🧪 Processing bin size: 210min\n"
     ]
    },
    {
     "name": "stderr",
     "output_type": "stream",
     "text": [
      "/Users/nazhimkalam/.pyenv/versions/evat_env_py310/lib/python3.10/site-packages/keras/src/layers/rnn/rnn.py:199: UserWarning: Do not pass an `input_shape`/`input_dim` argument to a layer. When using Sequential models, prefer using an `Input(shape)` object as the first layer in the model instead.\n",
      "  super().__init__(**kwargs)\n"
     ]
    },
    {
     "name": "stdout",
     "output_type": "stream",
     "text": [
      "\u001b[1m27/27\u001b[0m \u001b[32m━━━━━━━━━━━━━━━━━━━━\u001b[0m\u001b[37m\u001b[0m \u001b[1m0s\u001b[0m 5ms/step \n",
      "✅ Bin size: 210min → MAE: 0.1952, RMSE: 0.3230\n",
      "\n",
      "🧪 Processing bin size: 240min\n"
     ]
    },
    {
     "name": "stderr",
     "output_type": "stream",
     "text": [
      "/Users/nazhimkalam/.pyenv/versions/evat_env_py310/lib/python3.10/site-packages/keras/src/layers/rnn/rnn.py:199: UserWarning: Do not pass an `input_shape`/`input_dim` argument to a layer. When using Sequential models, prefer using an `Input(shape)` object as the first layer in the model instead.\n",
      "  super().__init__(**kwargs)\n"
     ]
    },
    {
     "name": "stdout",
     "output_type": "stream",
     "text": [
      "\u001b[1m24/24\u001b[0m \u001b[32m━━━━━━━━━━━━━━━━━━━━\u001b[0m\u001b[37m\u001b[0m \u001b[1m0s\u001b[0m 6ms/step \n",
      "✅ Bin size: 240min → MAE: 0.1936, RMSE: 0.3372\n"
     ]
    },
    {
     "data": {
      "image/png": "[encoded data removed]",
      "text/plain": [
       "<Figure size 1000x500 with 1 Axes>"
      ]
     },
     "metadata": {},
     "output_type": "display_data"
    }
   ],
   "source": [
    "import pandas as pd\n",
    "import numpy as np\n",
    "import matplotlib.pyplot as plt\n",
    "from sklearn.preprocessing import StandardScaler\n",
    "from sklearn.metrics import mean_absolute_error, mean_squared_error\n",
    "import tensorflow as tf\n",
    "from tensorflow.keras.models import Sequential\n",
    "from tensorflow.keras.layers import LSTM, Dense, Dropout\n",
    "\n",
    "# ========================\n",
    "# Helper Functions\n",
    "# ========================\n",
    "\n",
    "def construct_time_series(df, bin_size):\n",
    "    start_time = df['created'].min().floor(bin_size)\n",
    "    end_time = df['ended'].max().ceil(bin_size)\n",
    "    all_bins = pd.date_range(start=start_time, end=end_time, freq=bin_size)\n",
    "    bin_minutes = int(pd.Timedelta(bin_size).total_seconds() // 60)\n",
    "\n",
    "    records = []\n",
    "    for station in df['stationId'].unique():\n",
    "        df_station = df[df['stationId'] == station]\n",
    "        for t in all_bins:\n",
    "            t_end = t + pd.Timedelta(minutes=bin_minutes)\n",
    "            arrivals = df_station[(df_station['created'] >= t) & (df_station['created'] < t_end)].shape[0]\n",
    "            departures = df_station[(df_station['ended'] >= t) & (df_station['ended'] < t_end)].shape[0]\n",
    "            occupancy = df_station[(df_station['created'] <= t) & (df_station['ended'] > t)].shape[0]\n",
    "            records.append([station, t, arrivals, departures, occupancy])\n",
    "    ts_df = pd.DataFrame(records, columns=['stationId', 'timestamp', 'arrivals', 'departures', 'occupancy'])\n",
    "    return ts_df\n",
    "\n",
    "def preprocess_features(ts_df):\n",
    "    ts_df['hour'] = ts_df['timestamp'].dt.hour\n",
    "    ts_df['day_of_week'] = ts_df['timestamp'].dt.dayofweek\n",
    "    ts_df['is_weekend'] = (ts_df['day_of_week'] >= 5).astype(int)\n",
    "    ts_df['arrivals_lag_1'] = ts_df.groupby('stationId')['arrivals'].shift(1)\n",
    "    ts_df['arrivals_lag_2'] = ts_df.groupby('stationId')['arrivals'].shift(2)\n",
    "    ts_df['arrivals_lag_4'] = ts_df.groupby('stationId')['arrivals'].shift(4)\n",
    "    ts_df['arrivals_ma_4'] = ts_df.groupby('stationId')['arrivals'].transform(lambda x: x.rolling(4).mean())\n",
    "    ts_df['arrivals_ma_8'] = ts_df.groupby('stationId')['arrivals'].transform(lambda x: x.rolling(8).mean())\n",
    "    ts_df['target_arrivals'] = ts_df.groupby('stationId')['arrivals'].shift(-1)\n",
    "    ts_df.dropna(inplace=True)\n",
    "    return ts_df\n",
    "\n",
    "def create_sequences(df, feature_cols, target_col, seq_len=16):\n",
    "    X, y = [], []\n",
    "    for i in range(seq_len, len(df)):\n",
    "        X.append(df[feature_cols].iloc[i - seq_len:i].values)\n",
    "        y.append(df[target_col].iloc[i])\n",
    "    return np.array(X), np.array(y)\n",
    "\n",
    "def train_and_evaluate_lstm(ts_df, features):\n",
    "    df = ts_df.copy()\n",
    "    scaler = StandardScaler()\n",
    "    df[features] = scaler.fit_transform(df[features])\n",
    "\n",
    "    train_size = int(len(df) * 0.7)\n",
    "    val_size = int(len(df) * 0.15)\n",
    "    train_df, val_df, test_df = df[:train_size], df[train_size:train_size + val_size], df[train_size + val_size:]\n",
    "\n",
    "    X_train, y_train = create_sequences(train_df, features, 'target_arrivals')\n",
    "    X_val, y_val = create_sequences(val_df, features, 'target_arrivals')\n",
    "    X_test, y_test = create_sequences(test_df, features, 'target_arrivals')\n",
    "\n",
    "    model = Sequential([\n",
    "        LSTM(64, return_sequences=True, input_shape=(X_train.shape[1], X_train.shape[2])),\n",
    "        Dropout(0.2),\n",
    "        LSTM(32),\n",
    "        Dropout(0.2),\n",
    "        Dense(1)\n",
    "    ])\n",
    "    model.compile(optimizer='adam', loss='mse')\n",
    "    model.fit(X_train, y_train, epochs=30, batch_size=32,\n",
    "              validation_data=(X_val, y_val),\n",
    "              callbacks=[tf.keras.callbacks.EarlyStopping(patience=5, restore_best_weights=True)],\n",
    "              verbose=0)\n",
    "\n",
    "    y_pred = model.predict(X_test).flatten()\n",
    "    mae = mean_absolute_error(y_test, y_pred)\n",
    "    rmse = np.sqrt(mean_squared_error(y_test, y_pred))\n",
    "    return mae, rmse\n",
    "\n",
    "# ========================\n",
    "# Experiment with Bin Sizes\n",
    "# ========================\n",
    "\n",
    "bin_sizes = ['15min', '30min', '60min', '90min', '120min', '150min', '180min', '210min', '240min']\n",
    "results = []\n",
    "\n",
    "for bin_size in bin_sizes:\n",
    "    print(f\"\\n🧪 Processing bin size: {bin_size}\")\n",
    "    ts_df = construct_time_series(df, bin_size)\n",
    "    ts_df['timestamp'] = pd.to_datetime(ts_df['timestamp'])\n",
    "    ts_df = preprocess_features(ts_df)\n",
    "\n",
    "    features = ['hour', 'day_of_week', 'is_weekend',\n",
    "                'arrivals_lag_1', 'arrivals_lag_2', 'arrivals_lag_4',\n",
    "                'arrivals_ma_4', 'arrivals_ma_8']\n",
    "\n",
    "    mae, rmse = train_and_evaluate_lstm(ts_df, features)\n",
    "    results.append({'bin_size': bin_size, 'MAE': mae, 'RMSE': rmse})\n",
    "    print(f\"✅ Bin size: {bin_size} → MAE: {mae:.4f}, RMSE: {rmse:.4f}\")\n",
    "\n",
    "    ts_df.to_csv(f\"station_timeseries_{bin_size}.csv\", index=False)\n",
    "\n",
    "# ========================\n",
    "# Plot Performance by Bin Size\n",
    "# ========================\n",
    "results_df = pd.DataFrame(results)\n",
    "plt.figure(figsize=(10, 5))\n",
    "plt.plot(results_df['bin_size'], results_df['MAE'], label='MAE', marker='o')\n",
    "plt.plot(results_df['bin_size'], results_df['RMSE'], label='RMSE', marker='o')\n",
    "plt.title(\"LSTM Performance vs. Bin Size\")\n",
    "plt.xlabel(\"Bin Size\")\n",
    "plt.ylabel(\"Error\")\n",
    "plt.legend()\n",
    "plt.grid(True\n",
    "plt.tight_layout()\n",
    "plt.show()\n"
   ]
  },
  {
   "cell_type": "code",
   "execution_count": 111,
   "id": "80870046-eb3f-49f6-804e-95ae5e99a102",
   "metadata": {},
   "outputs": [
    {
     "name": "stderr",
     "output_type": "stream",
     "text": [
      "/var/folders/2z/x7vmsxmd1cg10w353m_fl_240000gn/T/ipykernel_19403/1281323814.py:56: SettingWithCopyWarning: \n",
      "A value is trying to be set on a copy of a slice from a DataFrame.\n",
      "Try using .loc[row_indexer,col_indexer] = value instead\n",
      "\n",
      "See the caveats in the documentation: https://pandas.pydata.org/pandas-docs/stable/user_guide/indexing.html#returning-a-view-versus-a-copy\n",
      "  train_df[features] = scaler.fit_transform(train_df[features])\n",
      "/var/folders/2z/x7vmsxmd1cg10w353m_fl_240000gn/T/ipykernel_19403/1281323814.py:57: SettingWithCopyWarning: \n",
      "A value is trying to be set on a copy of a slice from a DataFrame.\n",
      "Try using .loc[row_indexer,col_indexer] = value instead\n",
      "\n",
      "See the caveats in the documentation: https://pandas.pydata.org/pandas-docs/stable/user_guide/indexing.html#returning-a-view-versus-a-copy\n",
      "  val_df[features] = scaler.transform(val_df[features])\n",
      "/var/folders/2z/x7vmsxmd1cg10w353m_fl_240000gn/T/ipykernel_19403/1281323814.py:58: SettingWithCopyWarning: \n",
      "A value is trying to be set on a copy of a slice from a DataFrame.\n",
      "Try using .loc[row_indexer,col_indexer] = value instead\n",
      "\n",
      "See the caveats in the documentation: https://pandas.pydata.org/pandas-docs/stable/user_guide/indexing.html#returning-a-view-versus-a-copy\n",
      "  test_df[features] = scaler.transform(test_df[features])\n"
     ]
    },
    {
     "name": "stdout",
     "output_type": "stream",
     "text": [
      "Epoch 1/50\n"
     ]
    },
    {
     "name": "stderr",
     "output_type": "stream",
     "text": [
      "/Users/nazhimkalam/.pyenv/versions/evat_env_py310/lib/python3.10/site-packages/keras/src/layers/rnn/rnn.py:199: UserWarning: Do not pass an `input_shape`/`input_dim` argument to a layer. When using Sequential models, prefer using an `Input(shape)` object as the first layer in the model instead.\n",
      "  super().__init__(**kwargs)\n"
     ]
    },
    {
     "name": "stdout",
     "output_type": "stream",
     "text": [
      "\u001b[1m1772/1772\u001b[0m \u001b[32m━━━━━━━━━━━━━━━━━━━━\u001b[0m\u001b[37m\u001b[0m \u001b[1m8s\u001b[0m 4ms/step - loss: 0.0104 - val_loss: 0.0073\n",
      "Epoch 2/50\n",
      "\u001b[1m1772/1772\u001b[0m \u001b[32m━━━━━━━━━━━━━━━━━━━━\u001b[0m\u001b[37m\u001b[0m \u001b[1m7s\u001b[0m 4ms/step - loss: 0.0107 - val_loss: 0.0074\n",
      "Epoch 3/50\n",
      "\u001b[1m1772/1772\u001b[0m \u001b[32m━━━━━━━━━━━━━━━━━━━━\u001b[0m\u001b[37m\u001b[0m \u001b[1m7s\u001b[0m 4ms/step - loss: 0.0100 - val_loss: 0.0074\n",
      "Epoch 4/50\n",
      "\u001b[1m1772/1772\u001b[0m \u001b[32m━━━━━━━━━━━━━━━━━━━━\u001b[0m\u001b[37m\u001b[0m \u001b[1m7s\u001b[0m 4ms/step - loss: 0.0108 - val_loss: 0.0074\n",
      "Epoch 5/50\n",
      "\u001b[1m1772/1772\u001b[0m \u001b[32m━━━━━━━━━━━━━━━━━━━━\u001b[0m\u001b[37m\u001b[0m \u001b[1m7s\u001b[0m 4ms/step - loss: 0.0102 - val_loss: 0.0074\n",
      "Epoch 6/50\n",
      "\u001b[1m1772/1772\u001b[0m \u001b[32m━━━━━━━━━━━━━━━━━━━━\u001b[0m\u001b[37m\u001b[0m \u001b[1m7s\u001b[0m 4ms/step - loss: 0.0103 - val_loss: 0.0074\n",
      "Epoch 7/50\n",
      "\u001b[1m1772/1772\u001b[0m \u001b[32m━━━━━━━━━━━━━━━━━━━━\u001b[0m\u001b[37m\u001b[0m \u001b[1m7s\u001b[0m 4ms/step - loss: 0.0111 - val_loss: 0.0075\n",
      "Epoch 8/50\n",
      "\u001b[1m1772/1772\u001b[0m \u001b[32m━━━━━━━━━━━━━━━━━━━━\u001b[0m\u001b[37m\u001b[0m \u001b[1m7s\u001b[0m 4ms/step - loss: 0.0112 - val_loss: 0.0073\n",
      "Epoch 9/50\n",
      "\u001b[1m1772/1772\u001b[0m \u001b[32m━━━━━━━━━━━━━━━━━━━━\u001b[0m\u001b[37m\u001b[0m \u001b[1m7s\u001b[0m 4ms/step - loss: 0.0103 - val_loss: 0.0075\n",
      "Epoch 10/50\n",
      "\u001b[1m1772/1772\u001b[0m \u001b[32m━━━━━━━━━━━━━━━━━━━━\u001b[0m\u001b[37m\u001b[0m \u001b[1m7s\u001b[0m 4ms/step - loss: 0.0102 - val_loss: 0.0078\n",
      "Epoch 11/50\n",
      "\u001b[1m1772/1772\u001b[0m \u001b[32m━━━━━━━━━━━━━━━━━━━━\u001b[0m\u001b[37m\u001b[0m \u001b[1m7s\u001b[0m 4ms/step - loss: 0.0102 - val_loss: 0.0077\n",
      "Epoch 12/50\n",
      "\u001b[1m1772/1772\u001b[0m \u001b[32m━━━━━━━━━━━━━━━━━━━━\u001b[0m\u001b[37m\u001b[0m \u001b[1m7s\u001b[0m 4ms/step - loss: 0.0102 - val_loss: 0.0074\n",
      "Epoch 13/50\n",
      "\u001b[1m1772/1772\u001b[0m \u001b[32m━━━━━━━━━━━━━━━━━━━━\u001b[0m\u001b[37m\u001b[0m \u001b[1m7s\u001b[0m 4ms/step - loss: 0.0109 - val_loss: 0.0074\n",
      "Epoch 14/50\n",
      "\u001b[1m1772/1772\u001b[0m \u001b[32m━━━━━━━━━━━━━━━━━━━━\u001b[0m\u001b[37m\u001b[0m \u001b[1m7s\u001b[0m 4ms/step - loss: 0.0108 - val_loss: 0.0074\n",
      "Epoch 15/50\n",
      "\u001b[1m1772/1772\u001b[0m \u001b[32m━━━━━━━━━━━━━━━━━━━━\u001b[0m\u001b[37m\u001b[0m \u001b[1m7s\u001b[0m 4ms/step - loss: 0.0106 - val_loss: 0.0074\n",
      "Epoch 16/50\n",
      "\u001b[1m1772/1772\u001b[0m \u001b[32m━━━━━━━━━━━━━━━━━━━━\u001b[0m\u001b[37m\u001b[0m \u001b[1m7s\u001b[0m 4ms/step - loss: 0.0100 - val_loss: 0.0077\n",
      "Epoch 17/50\n",
      "\u001b[1m1772/1772\u001b[0m \u001b[32m━━━━━━━━━━━━━━━━━━━━\u001b[0m\u001b[37m\u001b[0m \u001b[1m7s\u001b[0m 4ms/step - loss: 0.0104 - val_loss: 0.0076\n",
      "Epoch 18/50\n",
      "\u001b[1m1772/1772\u001b[0m \u001b[32m━━━━━━━━━━━━━━━━━━━━\u001b[0m\u001b[37m\u001b[0m \u001b[1m7s\u001b[0m 4ms/step - loss: 0.0100 - val_loss: 0.0076\n",
      "\u001b[1m380/380\u001b[0m \u001b[32m━━━━━━━━━━━━━━━━━━━━\u001b[0m\u001b[37m\u001b[0m \u001b[1m1s\u001b[0m 1ms/step   \n",
      "\n",
      "📊 LSTM Regression on 15-Minute Bins:\n",
      "MAE  : 0.0176\n",
      "RMSE : 0.1033\n"
     ]
    },
    {
     "data": {
      "image/png": "[encoded data removed]",
      "text/plain": [
       "<Figure size 1200x500 with 1 Axes>"
      ]
     },
     "metadata": {},
     "output_type": "display_data"
    }
   ],
   "source": [
    "# ========================\n",
    "# STEP 1: Imports\n",
    "# ========================\n",
    "import pandas as pd\n",
    "import numpy as np\n",
    "import matplotlib.pyplot as plt\n",
    "from sklearn.preprocessing import StandardScaler\n",
    "from sklearn.metrics import mean_absolute_error, mean_squared_error\n",
    "import tensorflow as tf\n",
    "from tensorflow.keras.models import Sequential\n",
    "from tensorflow.keras.layers import LSTM, Dense, Dropout\n",
    "\n",
    "# ========================\n",
    "# STEP 2: Load Time Series Dataset (15-min bin)\n",
    "# ========================\n",
    "df = pd.read_csv(\"station_timeseries_15min.csv\", parse_dates=['timestamp'])\n",
    "df.sort_values(by=['stationId', 'timestamp'], inplace=True)\n",
    "\n",
    "# ========================\n",
    "# STEP 3: Feature Engineering\n",
    "# ========================\n",
    "df['hour'] = df['timestamp'].dt.hour\n",
    "df['day_of_week'] = df['timestamp'].dt.dayofweek\n",
    "df['is_weekend'] = (df['day_of_week'] >= 5).astype(int)\n",
    "\n",
    "df['arrivals_lag_1'] = df.groupby('stationId')['arrivals'].shift(1)\n",
    "df['arrivals_lag_2'] = df.groupby('stationId')['arrivals'].shift(2)\n",
    "df['arrivals_lag_4'] = df.groupby('stationId')['arrivals'].shift(4)\n",
    "df['arrivals_ma_4'] = df.groupby('stationId')['arrivals'].transform(lambda x: x.rolling(4).mean())\n",
    "df['arrivals_ma_8'] = df.groupby('stationId')['arrivals'].transform(lambda x: x.rolling(8).mean())\n",
    "\n",
    "df['target_arrivals'] = df.groupby('stationId')['arrivals'].shift(-1)\n",
    "\n",
    "df.dropna(inplace=True)\n",
    "\n",
    "# ========================\n",
    "# STEP 4: Train-Test Split\n",
    "# ========================\n",
    "df = df.sort_values(by=['stationId', 'timestamp']).reset_index(drop=True)\n",
    "\n",
    "train_size = int(0.7 * len(df))\n",
    "val_size = int(0.15 * len(df))\n",
    "\n",
    "train_df = df.iloc[:train_size]\n",
    "val_df = df.iloc[train_size:train_size + val_size]\n",
    "test_df = df.iloc[train_size + val_size:]\n",
    "\n",
    "# ========================\n",
    "# STEP 5: Feature Scaling\n",
    "# ========================\n",
    "features = ['hour', 'day_of_week', 'is_weekend',\n",
    "            'arrivals_lag_1', 'arrivals_lag_2', 'arrivals_lag_4',\n",
    "            'arrivals_ma_4', 'arrivals_ma_8']\n",
    "\n",
    "scaler = StandardScaler()\n",
    "train_df[features] = scaler.fit_transform(train_df[features])\n",
    "val_df[features] = scaler.transform(val_df[features])\n",
    "test_df[features] = scaler.transform(test_df[features])\n",
    "\n",
    "y_train = train_df['target_arrivals'].values\n",
    "y_val = val_df['target_arrivals'].values\n",
    "y_test = test_df['target_arrivals'].values\n",
    "\n",
    "# ========================\n",
    "# STEP 6: Sequence Construction\n",
    "# ========================\n",
    "def create_sequences(df, feature_cols, target_array, seq_len=16):\n",
    "    X, y = [], []\n",
    "    for i in range(seq_len, len(df)):\n",
    "        X.append(df[feature_cols].iloc[i - seq_len:i].values)\n",
    "        y.append(target_array[i])\n",
    "    return np.array(X), np.array(y)\n",
    "\n",
    "X_train, y_train = create_sequences(train_df, features, y_train)\n",
    "X_val, y_val = create_sequences(val_df, features, y_val)\n",
    "X_test, y_test = create_sequences(test_df, features, y_test)\n",
    "\n",
    "# ========================\n",
    "# STEP 7: Build and Train LSTM\n",
    "# ========================\n",
    "model = Sequential([\n",
    "    LSTM(64, return_sequences=True, input_shape=(X_train.shape[1], X_train.shape[2])),\n",
    "    Dropout(0.2),\n",
    "    LSTM(32),\n",
    "    Dropout(0.2),\n",
    "    Dense(16, activation='relu'),\n",
    "    Dense(1)  # Regression output\n",
    "])\n",
    "\n",
    "model.compile(optimizer='adam', loss='mse')\n",
    "\n",
    "history = model.fit(\n",
    "    X_train, y_train,\n",
    "    epochs=50,\n",
    "    batch_size=32,\n",
    "    validation_data=(X_val, y_val),\n",
    "    callbacks=[tf.keras.callbacks.EarlyStopping(patience=10, restore_best_weights=True)]\n",
    ")\n",
    "\n",
    "# ========================\n",
    "# STEP 8: Evaluate and Visualize\n",
    "# ========================\n",
    "y_pred = model.predict(X_test).flatten()\n",
    "\n",
    "mae = mean_absolute_error(y_test, y_pred)\n",
    "rmse = np.sqrt(mean_squared_error(y_test, y_pred))\n",
    "\n",
    "print(f\"\\n📊 LSTM Regression on 15-Minute Bins:\")\n",
    "print(f\"MAE  : {mae:.4f}\")\n",
    "print(f\"RMSE : {rmse:.4f}\")\n",
    "\n",
    "# Plot predictions vs actual\n",
    "plt.figure(figsize=(12, 5))\n",
    "plt.plot(y_test[:200], label='Actual')\n",
    "plt.plot(y_pred[:200], label='Predicted')\n",
    "plt.title('LSTM Regression: Arrival Count Prediction — 15-Minute Bins')\n",
    "plt.xlabel('Time Step')\n",
    "plt.ylabel('Number of Arrivals')\n",
    "plt.legend()\n",
    "plt.grid(True)\n",
    "plt.show()\n"
   ]
  },
  {
   "cell_type": "code",
   "execution_count": null,
   "id": "8fea21f4-1eaa-4b35-9a0c-1b689d51d86e",
   "metadata": {},
   "outputs": [],
   "source": []
  },
  {
   "cell_type": "code",
   "execution_count": null,
   "id": "9a34c4f4-9539-4d41-9531-36e486f74823",
   "metadata": {},
   "outputs": [],
   "source": []
  },
  {
   "cell_type": "code",
   "execution_count": null,
   "id": "8aacdfdb-b541-4384-bb81-b9458070f7bf",
   "metadata": {},
   "outputs": [],
   "source": []
  },
  {
   "cell_type": "code",
   "execution_count": null,
   "id": "4aa89f22-4d84-4b35-afb7-cd21d6eb488f",
   "metadata": {},
   "outputs": [],
   "source": []
  },
  {
   "cell_type": "code",
   "execution_count": null,
   "id": "c6d1e5e1-36ec-4044-922d-65fb6e13ed80",
   "metadata": {},
   "outputs": [],
   "source": []
  },
  {
   "cell_type": "code",
   "execution_count": null,
   "id": "bca501c4-f45e-4832-9ba1-9ff350ce1de0",
   "metadata": {},
   "outputs": [],
   "source": []
  },
  {
   "cell_type": "code",
   "execution_count": null,
   "id": "05183036-af81-4e98-9d17-10f4f99a9a13",
   "metadata": {},
   "outputs": [],
   "source": []
  },
  {
   "cell_type": "code",
   "execution_count": null,
   "id": "86961de1-72ca-4f27-b16d-41692274bae0",
   "metadata": {},
   "outputs": [],
   "source": []
  },
  {
   "cell_type": "code",
   "execution_count": null,
   "id": "64085002-ea05-4812-98bf-32ba61d256e1",
   "metadata": {},
   "outputs": [],
   "source": []
  },
  {
   "cell_type": "code",
   "execution_count": null,
   "id": "1e214bac-7e37-455c-8d25-f674372bc95a",
   "metadata": {},
   "outputs": [],
   "source": []
  },
  {
   "cell_type": "code",
   "execution_count": null,
   "id": "bf633c98-0150-46bd-b865-ed6acc8ecca1",
   "metadata": {},
   "outputs": [],
   "source": []
  },
  {
   "cell_type": "code",
   "execution_count": null,
   "id": "89b283ae-5e41-44ab-9d87-af4fc61b22fb",
   "metadata": {},
   "outputs": [],
   "source": []
  },
  {
   "cell_type": "code",
   "execution_count": null,
   "id": "5dee3d35-d474-4d07-bbdd-af3004f1a29e",
   "metadata": {},
   "outputs": [],
   "source": []
  },
  {
   "cell_type": "code",
   "execution_count": null,
   "id": "1a9b40bd-8128-42b9-a492-1aa286b90564",
   "metadata": {},
   "outputs": [],
   "source": []
  },
  {
   "cell_type": "code",
   "execution_count": null,
   "id": "c0362681-2acf-4abc-89a9-81333201de0a",
   "metadata": {},
   "outputs": [],
   "source": []
  },
  {
   "cell_type": "code",
   "execution_count": null,
   "id": "5451a99f-c53e-4af8-b6b5-663c3a5428e1",
   "metadata": {},
   "outputs": [],
   "source": []
  },
  {
   "cell_type": "code",
   "execution_count": null,
   "id": "0ec1c62a-232c-460e-828e-304853d41091",
   "metadata": {},
   "outputs": [],
   "source": []
  }
 ],
 "metadata": {
  "kernelspec": {
   "display_name": "Python (EVAT)",
   "language": "python",
   "name": "evat_env_py310"
  },
  "language_info": {
   "codemirror_mode": {
    "name": "ipython",
    "version": 3
   },
   "file_extension": ".py",
   "mimetype": "text/x-python",
   "name": "python",
   "nbconvert_exporter": "python",
   "pygments_lexer": "ipython3",
   "version": "3.10.13"
  }
 },
 "nbformat": 4,
 "nbformat_minor": 5
}
